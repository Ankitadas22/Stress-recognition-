{
 "cells": [
  {
   "cell_type": "code",
   "execution_count": 1,
   "id": "81015174",
   "metadata": {},
   "outputs": [],
   "source": [
    "import tensorflow as tf\n",
    "from tensorflow import keras\n",
    "from tensorflow.keras.models import Sequential\n",
    "from tensorflow.keras.layers import Dense, Conv2D, MaxPooling2D, Flatten\n",
    "import numpy as np\n",
    "import matplotlib.pyplot as plt\n",
    "import pandas as pd\n",
    "import sklearn\n",
    "import keras\n",
    "from keras.models import *\n",
    "from keras.layers import *\n",
    "from keras.optimizers import *\n",
    "from keras.callbacks import *\n",
    "from tensorflow.keras.applications import *\n",
    "from keras.preprocessing.image import ImageDataGenerator\n",
    "import seaborn as sns\n",
    "#import tensorflow_datasets as tfds\n",
    "#import tensorflow_hub as hub\n",
    "#mport tensorflow_addons as tfa\n",
    "from time import time\n",
    "import glob, warnings\n",
    "from sklearn.metrics import confusion_matrix, classification_report\n",
    "warnings.filterwarnings('ignore')\n",
    "\n",
    "import numpy as np\n",
    "from sklearn.model_selection import train_test_split\n",
    "from tensorflow.keras.layers import GlobalAveragePooling2D, Dense\n",
    "from tensorflow.keras.models import Model\n",
    "from PIL import Image"
   ]
  },
  {
   "cell_type": "code",
   "execution_count": 2,
   "id": "b4d89fce",
   "metadata": {},
   "outputs": [],
   "source": [
    "from PIL import Image\n",
    "import numpy as np\n",
    "from sklearn.model_selection import train_test_split\n",
    "\n",
    "\n",
    "# Load the data and labels from the saved NumPy arrays\n",
    "data_array = np.load('D:\\WESAD_code\\WESAD_DATA_LABELSARRAY_FINAL\\Subject_array\\data_array.npy')\n",
    "labels_array = np.load('D:\\WESAD_code\\WESAD_DATA_LABELSARRAY_FINAL\\Labels_array\\label_array.npy')"
   ]
  },
  {
   "cell_type": "code",
   "execution_count": 3,
   "id": "3b03e678",
   "metadata": {},
   "outputs": [
    {
     "name": "stdout",
     "output_type": "stream",
     "text": [
      "(16492, 224, 224, 3)\n",
      "(16492, 3)\n"
     ]
    }
   ],
   "source": [
    "print(data_array.shape)\n",
    "print(labels_array.shape)"
   ]
  },
  {
   "cell_type": "code",
   "execution_count": 4,
   "id": "337678dc",
   "metadata": {},
   "outputs": [
    {
     "name": "stdout",
     "output_type": "stream",
     "text": [
      "Training data shape: (12368, 224, 224, 3)\n",
      "Training labels shape: (12368, 3)\n",
      "Validation data shape: (825, 224, 224, 3)\n",
      "Validation labels shape: (825, 3)\n",
      "Testing data shape: (3299, 224, 224, 3)\n",
      "Testing labels shape: (3299, 3)\n"
     ]
    }
   ],
   "source": [
    "####SEED_0\n",
    "\n",
    "import numpy as np\n",
    "from sklearn.model_selection import train_test_split\n",
    "\n",
    "# Assuming the dataset is stored in the variable `data_array` and the corresponding labels in `labels_array`\n",
    "\n",
    "# Splitting the dataset into 75% training, 5% validation, and 20% testing\n",
    "X_train_val, X_test, y_train_val, y_test = train_test_split(data_array, labels_array, test_size=0.2, random_state=0)\n",
    "X_train, X_val, y_train, y_val = train_test_split(X_train_val, y_train_val, test_size=0.0625, random_state=0)\n",
    "\n",
    "# Checking the shape of each set\n",
    "print(\"Training data shape:\", X_train.shape)\n",
    "print(\"Training labels shape:\", y_train.shape)\n",
    "print(\"Validation data shape:\", X_val.shape)\n",
    "print(\"Validation labels shape:\", y_val.shape)\n",
    "print(\"Testing data shape:\", X_test.shape)\n",
    "print(\"Testing labels shape:\", y_test.shape)"
   ]
  },
  {
   "cell_type": "code",
   "execution_count": 5,
   "id": "c1ca3185",
   "metadata": {},
   "outputs": [
    {
     "data": {
      "text/plain": [
       "array([[0., 1., 0.],\n",
       "       [1., 0., 0.],\n",
       "       [0., 0., 1.],\n",
       "       ...,\n",
       "       [1., 0., 0.],\n",
       "       [1., 0., 0.],\n",
       "       [0., 1., 0.]])"
      ]
     },
     "execution_count": 5,
     "metadata": {},
     "output_type": "execute_result"
    }
   ],
   "source": [
    "y_test"
   ]
  },
  {
   "cell_type": "code",
   "execution_count": 6,
   "id": "d05c0783",
   "metadata": {
    "scrolled": true
   },
   "outputs": [],
   "source": [
    "import tensorflow as tf\n",
    "from tensorflow.keras.applications import VGG19\n",
    "\n",
    "IMG_SIZE = 224\n",
    "n_CLASS = 3\n",
    "\n",
    "pretrained_model = tf.keras.applications.VGG19(\n",
    "            input_shape = (IMG_SIZE, IMG_SIZE, 3),\n",
    "            include_top = False,\n",
    "            weights='imagenet'\n",
    "        )\n",
    "pretrained_model.trainable = False\n",
    "\n",
    "def create_model():\n",
    "    x = pretrained_model.output\n",
    "    x = GlobalAveragePooling2D()(x)\n",
    "    # Add a fully connected layer\n",
    "    x = Dense(128, activation='relu')(x)\n",
    "    # Add a final softmax layer\n",
    "    predictions = Dense(n_CLASS, activation='softmax')(x)\n",
    "\n",
    "    # Create the final model\n",
    "    model = Model(inputs=pretrained_model.input, outputs=predictions)\n",
    "\n",
    "    return model\n",
    "\n",
    "leaf_model = create_model()"
   ]
  },
  {
   "cell_type": "code",
   "execution_count": 7,
   "id": "06e6485d",
   "metadata": {
    "scrolled": true
   },
   "outputs": [
    {
     "name": "stdout",
     "output_type": "stream",
     "text": [
      "Model: \"model\"\n",
      "_________________________________________________________________\n",
      " Layer (type)                Output Shape              Param #   \n",
      "=================================================================\n",
      " input_1 (InputLayer)        [(None, 224, 224, 3)]     0         \n",
      "                                                                 \n",
      " block1_conv1 (Conv2D)       (None, 224, 224, 64)      1792      \n",
      "                                                                 \n",
      " block1_conv2 (Conv2D)       (None, 224, 224, 64)      36928     \n",
      "                                                                 \n",
      " block1_pool (MaxPooling2D)  (None, 112, 112, 64)      0         \n",
      "                                                                 \n",
      " block2_conv1 (Conv2D)       (None, 112, 112, 128)     73856     \n",
      "                                                                 \n",
      " block2_conv2 (Conv2D)       (None, 112, 112, 128)     147584    \n",
      "                                                                 \n",
      " block2_pool (MaxPooling2D)  (None, 56, 56, 128)       0         \n",
      "                                                                 \n",
      " block3_conv1 (Conv2D)       (None, 56, 56, 256)       295168    \n",
      "                                                                 \n",
      " block3_conv2 (Conv2D)       (None, 56, 56, 256)       590080    \n",
      "                                                                 \n",
      " block3_conv3 (Conv2D)       (None, 56, 56, 256)       590080    \n",
      "                                                                 \n",
      " block3_conv4 (Conv2D)       (None, 56, 56, 256)       590080    \n",
      "                                                                 \n",
      " block3_pool (MaxPooling2D)  (None, 28, 28, 256)       0         \n",
      "                                                                 \n",
      " block4_conv1 (Conv2D)       (None, 28, 28, 512)       1180160   \n",
      "                                                                 \n",
      " block4_conv2 (Conv2D)       (None, 28, 28, 512)       2359808   \n",
      "                                                                 \n",
      " block4_conv3 (Conv2D)       (None, 28, 28, 512)       2359808   \n",
      "                                                                 \n",
      " block4_conv4 (Conv2D)       (None, 28, 28, 512)       2359808   \n",
      "                                                                 \n",
      " block4_pool (MaxPooling2D)  (None, 14, 14, 512)       0         \n",
      "                                                                 \n",
      " block5_conv1 (Conv2D)       (None, 14, 14, 512)       2359808   \n",
      "                                                                 \n",
      " block5_conv2 (Conv2D)       (None, 14, 14, 512)       2359808   \n",
      "                                                                 \n",
      " block5_conv3 (Conv2D)       (None, 14, 14, 512)       2359808   \n",
      "                                                                 \n",
      " block5_conv4 (Conv2D)       (None, 14, 14, 512)       2359808   \n",
      "                                                                 \n",
      " block5_pool (MaxPooling2D)  (None, 7, 7, 512)         0         \n",
      "                                                                 \n",
      " global_average_pooling2d (  (None, 512)               0         \n",
      " GlobalAveragePooling2D)                                         \n",
      "                                                                 \n",
      " dense (Dense)               (None, 128)               65664     \n",
      "                                                                 \n",
      " dense_1 (Dense)             (None, 3)                 387       \n",
      "                                                                 \n",
      "=================================================================\n",
      "Total params: 20090435 (76.64 MB)\n",
      "Trainable params: 66051 (258.01 KB)\n",
      "Non-trainable params: 20024384 (76.39 MB)\n",
      "_________________________________________________________________\n"
     ]
    }
   ],
   "source": [
    "leaf_model.summary()"
   ]
  },
  {
   "cell_type": "code",
   "execution_count": 8,
   "id": "ebd0a5b0",
   "metadata": {},
   "outputs": [],
   "source": [
    "learning_rate = 1e-3\n",
    "optimizer = tf.keras.optimizers.Adam(learning_rate = learning_rate)\n",
    "\n",
    "leaf_model.compile(optimizer = optimizer,\n",
    "              loss = tf.keras.losses.CategoricalCrossentropy(label_smoothing = 0.0001),\n",
    "              metrics = 'accuracy')\n",
    "\n",
    "\n",
    "reduce_lr = tf.keras.callbacks.ReduceLROnPlateau(monitor = 'val_accuracy',\n",
    "                                                 factor = 0.2,\n",
    "                                                 patience = 1,\n",
    "                                                 verbose = 1,\n",
    "                                                 min_delta = 1e-4,\n",
    "                                                 min_lr = 1e-7,\n",
    "                                                 mode = 'max')\n",
    "\n",
    "earlystopping = tf.keras.callbacks.EarlyStopping(monitor = 'val_accuracy',\n",
    "                                                 min_delta = 1e-4,\n",
    "                                                 patience = 5,\n",
    "                                                 mode = 'max',\n",
    "                                                 restore_best_weights = True,\n",
    "                                                 verbose = 1)\n",
    "\n",
    "checkpointer = tf.keras.callbacks.ModelCheckpoint(filepath ='./Vgg19_model1_FALSE0.hdf5',\n",
    "                                                  monitor = 'val_accuracy',\n",
    "                                                  verbose = 1,\n",
    "                                                  save_best_only = True,\n",
    "                                                  save_weights_only = True,\n",
    "                                                  mode = 'max')\n"
   ]
  },
  {
   "cell_type": "code",
   "execution_count": 9,
   "id": "2503f7f0",
   "metadata": {},
   "outputs": [],
   "source": [
    "import time\n",
    "import tensorflow as tf\n",
    "\n",
    "class TimeHistory(tf.keras.callbacks.Callback):\n",
    "    def on_train_begin(self, logs={}):\n",
    "        self.times = []\n",
    "\n",
    "    def on_epoch_begin(self, epoch, logs={}):\n",
    "        self.epoch_time_start = time.time()\n",
    "\n",
    "    def on_epoch_end(self, epoch, logs={}):\n",
    "        epoch_time_end = time.time()\n",
    "        elapsed_time = epoch_time_end - self.epoch_time_start\n",
    "        self.times.append(elapsed_time)"
   ]
  },
  {
   "cell_type": "code",
   "execution_count": 10,
   "id": "50ac1e6e",
   "metadata": {
    "scrolled": false
   },
   "outputs": [
    {
     "name": "stdout",
     "output_type": "stream",
     "text": [
      "Epoch 1/15\n",
      "387/387 [==============================] - ETA: 0s - loss: 0.8089 - accuracy: 0.6943\n",
      "Epoch 1: val_accuracy improved from -inf to 0.74061, saving model to .\\Vgg19_model1_FALSE0.hdf5\n",
      "387/387 [==============================] - 1300s 3s/step - loss: 0.8089 - accuracy: 0.6943 - val_loss: 0.6117 - val_accuracy: 0.7406 - lr: 0.0010\n",
      "Epoch 2/15\n",
      "387/387 [==============================] - ETA: 0s - loss: 0.6223 - accuracy: 0.7502\n",
      "Epoch 2: val_accuracy improved from 0.74061 to 0.74788, saving model to .\\Vgg19_model1_FALSE0.hdf5\n",
      "387/387 [==============================] - 1270s 3s/step - loss: 0.6223 - accuracy: 0.7502 - val_loss: 0.5915 - val_accuracy: 0.7479 - lr: 0.0010\n",
      "Epoch 3/15\n",
      "387/387 [==============================] - ETA: 0s - loss: 0.5713 - accuracy: 0.7692\n",
      "Epoch 3: val_accuracy improved from 0.74788 to 0.75030, saving model to .\\Vgg19_model1_FALSE0.hdf5\n",
      "387/387 [==============================] - 1271s 3s/step - loss: 0.5713 - accuracy: 0.7692 - val_loss: 0.5613 - val_accuracy: 0.7503 - lr: 0.0010\n",
      "Epoch 4/15\n",
      "387/387 [==============================] - ETA: 0s - loss: 0.5402 - accuracy: 0.7840\n",
      "Epoch 4: val_accuracy improved from 0.75030 to 0.79273, saving model to .\\Vgg19_model1_FALSE0.hdf5\n",
      "387/387 [==============================] - 1271s 3s/step - loss: 0.5402 - accuracy: 0.7840 - val_loss: 0.4962 - val_accuracy: 0.7927 - lr: 0.0010\n",
      "Epoch 5/15\n",
      "387/387 [==============================] - ETA: 0s - loss: 0.5099 - accuracy: 0.7958\n",
      "Epoch 5: ReduceLROnPlateau reducing learning rate to 0.00020000000949949026.\n",
      "\n",
      "Epoch 5: val_accuracy did not improve from 0.79273\n",
      "387/387 [==============================] - 1269s 3s/step - loss: 0.5099 - accuracy: 0.7958 - val_loss: 0.5329 - val_accuracy: 0.7685 - lr: 0.0010\n",
      "Epoch 6/15\n",
      "387/387 [==============================] - ETA: 0s - loss: 0.4490 - accuracy: 0.8193\n",
      "Epoch 6: ReduceLROnPlateau reducing learning rate to 4.0000001899898055e-05.\n",
      "\n",
      "Epoch 6: val_accuracy did not improve from 0.79273\n",
      "387/387 [==============================] - 1270s 3s/step - loss: 0.4490 - accuracy: 0.8193 - val_loss: 0.4769 - val_accuracy: 0.7891 - lr: 2.0000e-04\n",
      "Epoch 7/15\n",
      "387/387 [==============================] - ETA: 0s - loss: 0.4315 - accuracy: 0.8267\n",
      "Epoch 7: ReduceLROnPlateau reducing learning rate to 8.000000525498762e-06.\n",
      "\n",
      "Epoch 7: val_accuracy did not improve from 0.79273\n",
      "387/387 [==============================] - 1271s 3s/step - loss: 0.4315 - accuracy: 0.8267 - val_loss: 0.4780 - val_accuracy: 0.7879 - lr: 4.0000e-05\n",
      "Epoch 8/15\n",
      "387/387 [==============================] - ETA: 0s - loss: 0.4279 - accuracy: 0.8292\n",
      "Epoch 8: ReduceLROnPlateau reducing learning rate to 1.6000001778593287e-06.\n",
      "\n",
      "Epoch 8: val_accuracy did not improve from 0.79273\n",
      "387/387 [==============================] - 1680s 4s/step - loss: 0.4279 - accuracy: 0.8292 - val_loss: 0.4761 - val_accuracy: 0.7891 - lr: 8.0000e-06\n",
      "Epoch 9/15\n",
      "387/387 [==============================] - ETA: 0s - loss: 0.4267 - accuracy: 0.8307Restoring model weights from the end of the best epoch: 4.\n",
      "\n",
      "Epoch 9: ReduceLROnPlateau reducing learning rate to 3.200000264769187e-07.\n",
      "\n",
      "Epoch 9: val_accuracy did not improve from 0.79273\n",
      "387/387 [==============================] - 1617s 4s/step - loss: 0.4267 - accuracy: 0.8307 - val_loss: 0.4764 - val_accuracy: 0.7903 - lr: 1.6000e-06\n",
      "Epoch 9: early stopping\n"
     ]
    }
   ],
   "source": [
    "int_epoch = 15\n",
    "time_callback = TimeHistory()\n",
    "callbacks = [earlystopping, reduce_lr, checkpointer, time_callback]\n",
    "\n",
    "history = leaf_model.fit(\n",
    "        x=X_train,\n",
    "        y=y_train,\n",
    "        validation_data=(X_val, y_val),\n",
    "        epochs=int_epoch,\n",
    "        callbacks=callbacks\n",
    "    )"
   ]
  },
  {
   "cell_type": "code",
   "execution_count": 11,
   "id": "c7e59106",
   "metadata": {},
   "outputs": [
    {
     "name": "stdout",
     "output_type": "stream",
     "text": [
      "Not using Gradient Centralization:\n",
      "Loss: 0.42674481868743896\n",
      "accuracy: 0.8306921124458313\n",
      "Validation accuracy: 0.7903030514717102\n",
      "Training Time: 12218.779504776001 seconds\n"
     ]
    }
   ],
   "source": [
    "print(\"Not using Gradient Centralization:\")\n",
    "print(f\"Loss: {history.history['loss'][-1]}\")\n",
    "print(f\"accuracy: {history.history['accuracy'][-1]}\")\n",
    "print(f\"Validation accuracy: {history.history['val_accuracy'][-1]}\")\n",
    "print(f\"Training Time: {sum(time_callback.times)} seconds\")"
   ]
  },
  {
   "cell_type": "code",
   "execution_count": 12,
   "id": "35d1526c",
   "metadata": {},
   "outputs": [
    {
     "name": "stdout",
     "output_type": "stream",
     "text": [
      "0.8306921124458313\n"
     ]
    }
   ],
   "source": [
    "acc = history.history['accuracy']\n",
    "print(max(acc))"
   ]
  },
  {
   "cell_type": "code",
   "execution_count": 13,
   "id": "68848189",
   "metadata": {},
   "outputs": [
    {
     "data": {
      "image/png": "[encoded data removed]",
      "text/plain": [
       "<Figure size 648x648 with 2 Axes>"
      ]
     },
     "metadata": {
      "needs_background": "light"
     },
     "output_type": "display_data"
    }
   ],
   "source": [
    "acc = history.history['accuracy']\n",
    "val_acc = history.history['val_accuracy']\n",
    "\n",
    "loss = history.history['loss']\n",
    "val_loss = history.history['val_loss']\n",
    "\n",
    "\n",
    "plt.figure(figsize=(9, 9))\n",
    "plt.subplot(2, 1, 1)\n",
    "plt.tight_layout(pad=3.0)\n",
    "plt.plot(acc, label='Train' , linewidth = 3)\n",
    "plt.plot(val_acc, label='Validation', linewidth = 3)\n",
    "plt.xticks(fontsize=15)\n",
    "plt.yticks(fontsize=15)\n",
    "plt.legend(loc='lower right' , prop={'size': 16})\n",
    "plt.xlabel('Epochs', fontsize=16)\n",
    "plt.ylabel('Accuracy' , fontsize=16)\n",
    "plt.ylim([min(plt.ylim()),1])\n",
    "plt.title('Training and Validation Accuracy', fontsize=16)\n",
    "\n",
    "plt.subplot(2, 1, 2)\n",
    "plt.tight_layout(pad=3.0)\n",
    "plt.plot(loss, label='Train', linewidth = 3)\n",
    "plt.plot(val_loss, label='Validation', linewidth = 3)\n",
    "plt.xticks(fontsize=15)\n",
    "plt.yticks(fontsize=15)\n",
    "plt.legend(loc='upper right', prop={'size': 16})\n",
    "plt.xlabel('Epochs', fontsize=16)\n",
    "plt.ylabel('Cross-entropy Loss', fontsize=16)\n",
    "plt.ylim([0,max(plt.ylim())])\n",
    "plt.title('Training and Validation Cross-entropy Loss', fontsize=16)\n",
    "plt.show()"
   ]
  },
  {
   "cell_type": "code",
   "execution_count": 13,
   "id": "73416876",
   "metadata": {},
   "outputs": [],
   "source": [
    "def load_trained_model(weights_path):\n",
    "   model = create_model()\n",
    "   model.load_weights(weights_path)\n",
    "   return model"
   ]
  },
  {
   "cell_type": "code",
   "execution_count": 14,
   "id": "3c7ee1ab",
   "metadata": {},
   "outputs": [
    {
     "name": "stdout",
     "output_type": "stream",
     "text": [
      "Model: \"model_2\"\n",
      "_________________________________________________________________\n",
      " Layer (type)                Output Shape              Param #   \n",
      "=================================================================\n",
      " input_1 (InputLayer)        [(None, 224, 224, 3)]     0         \n",
      "                                                                 \n",
      " block1_conv1 (Conv2D)       (None, 224, 224, 64)      1792      \n",
      "                                                                 \n",
      " block1_conv2 (Conv2D)       (None, 224, 224, 64)      36928     \n",
      "                                                                 \n",
      " block1_pool (MaxPooling2D)  (None, 112, 112, 64)      0         \n",
      "                                                                 \n",
      " block2_conv1 (Conv2D)       (None, 112, 112, 128)     73856     \n",
      "                                                                 \n",
      " block2_conv2 (Conv2D)       (None, 112, 112, 128)     147584    \n",
      "                                                                 \n",
      " block2_pool (MaxPooling2D)  (None, 56, 56, 128)       0         \n",
      "                                                                 \n",
      " block3_conv1 (Conv2D)       (None, 56, 56, 256)       295168    \n",
      "                                                                 \n",
      " block3_conv2 (Conv2D)       (None, 56, 56, 256)       590080    \n",
      "                                                                 \n",
      " block3_conv3 (Conv2D)       (None, 56, 56, 256)       590080    \n",
      "                                                                 \n",
      " block3_conv4 (Conv2D)       (None, 56, 56, 256)       590080    \n",
      "                                                                 \n",
      " block3_pool (MaxPooling2D)  (None, 28, 28, 256)       0         \n",
      "                                                                 \n",
      " block4_conv1 (Conv2D)       (None, 28, 28, 512)       1180160   \n",
      "                                                                 \n",
      " block4_conv2 (Conv2D)       (None, 28, 28, 512)       2359808   \n",
      "                                                                 \n",
      " block4_conv3 (Conv2D)       (None, 28, 28, 512)       2359808   \n",
      "                                                                 \n",
      " block4_conv4 (Conv2D)       (None, 28, 28, 512)       2359808   \n",
      "                                                                 \n",
      " block4_pool (MaxPooling2D)  (None, 14, 14, 512)       0         \n",
      "                                                                 \n",
      " block5_conv1 (Conv2D)       (None, 14, 14, 512)       2359808   \n",
      "                                                                 \n",
      " block5_conv2 (Conv2D)       (None, 14, 14, 512)       2359808   \n",
      "                                                                 \n",
      " block5_conv3 (Conv2D)       (None, 14, 14, 512)       2359808   \n",
      "                                                                 \n",
      " block5_conv4 (Conv2D)       (None, 14, 14, 512)       2359808   \n",
      "                                                                 \n",
      " block5_pool (MaxPooling2D)  (None, 7, 7, 512)         0         \n",
      "                                                                 \n",
      " global_average_pooling2d_2  (None, 512)               0         \n",
      "  (GlobalAveragePooling2D)                                       \n",
      "                                                                 \n",
      " dense_4 (Dense)             (None, 128)               65664     \n",
      "                                                                 \n",
      " dense_5 (Dense)             (None, 3)                 387       \n",
      "                                                                 \n",
      "=================================================================\n",
      "Total params: 20090435 (76.64 MB)\n",
      "Trainable params: 66051 (258.01 KB)\n",
      "Non-trainable params: 20024384 (76.39 MB)\n",
      "_________________________________________________________________\n"
     ]
    }
   ],
   "source": [
    "new_model = load_trained_model('D:\\WESAD_code\\Vgg19_model1_FALSE0.hdf5')\n",
    "new_model.summary()"
   ]
  },
  {
   "cell_type": "code",
   "execution_count": 15,
   "id": "3f3883a2",
   "metadata": {},
   "outputs": [
    {
     "name": "stdout",
     "output_type": "stream",
     "text": [
      "26/26 [==============================] - 166s 6s/step\n",
      "              precision    recall  f1-score   support\n",
      "\n",
      "           0     0.7685    0.8995    0.8288       428\n",
      "           1     0.8697    0.8661    0.8679       239\n",
      "           2     0.7209    0.3924    0.5082       158\n",
      "\n",
      "   micro avg     0.7927    0.7927    0.7927       825\n",
      "   macro avg     0.7864    0.7193    0.7350       825\n",
      "weighted avg     0.7887    0.7927    0.7788       825\n",
      " samples avg     0.7927    0.7927    0.7927       825\n",
      "\n"
     ]
    }
   ],
   "source": [
    "from sklearn.metrics import classification_report\n",
    "\n",
    "y_pred = new_model.predict(X_val)\n",
    "y_predargmax = np.argmax(y_pred, axis=1)\n",
    "y_true = y_val\n",
    "\n",
    "y_pred_categorical = np.zeros_like(y_true)\n",
    "y_pred_categorical[np.arange(len(y_predargmax)), y_predargmax] = 1\n",
    "\n",
    "\n",
    "clreport = classification_report(y_true, y_pred_categorical, digits=4)\n",
    "print(clreport)"
   ]
  },
  {
   "cell_type": "markdown",
   "id": "6c32a960",
   "metadata": {},
   "source": [
    "**Testing**"
   ]
  },
  {
   "cell_type": "code",
   "execution_count": 12,
   "id": "3fa637a1",
   "metadata": {},
   "outputs": [
    {
     "name": "stdout",
     "output_type": "stream",
     "text": [
      "104/104 [==============================] - 527s 5s/step\n",
      "Test Accuracy: 0.798726886935435\n",
      "              precision    recall  f1-score   support\n",
      "\n",
      "           0     0.7830    0.9039    0.8391      1748\n",
      "           1     0.8731    0.8625    0.8678       989\n",
      "           2     0.6645    0.3594    0.4665       562\n",
      "\n",
      "   micro avg     0.7987    0.7987    0.7987      3299\n",
      "   macro avg     0.7735    0.7086    0.7245      3299\n",
      "weighted avg     0.7898    0.7987    0.7842      3299\n",
      " samples avg     0.7987    0.7987    0.7987      3299\n",
      "\n"
     ]
    }
   ],
   "source": [
    "from sklearn.metrics import accuracy_score, classification_report\n",
    "\n",
    "y_predt = new_model.predict(X_test)\n",
    "y_predargmaxt = np.argmax(y_predt, axis=1)\n",
    "y_truet = y_test\n",
    "\n",
    "# Assuming y_predargmax and y_test are already defined\n",
    "y_test_labels = np.argmax(y_test, axis=1)  # Convert one-hot encoded labels to integer labels\n",
    "test_accuracy = accuracy_score(y_test_labels, y_predargmaxt)\n",
    "print(\"Test Accuracy:\", test_accuracy)\n",
    "\n",
    "y_pred_categoricalt = np.zeros_like(y_truet)\n",
    "y_pred_categoricalt[np.arange(len(y_predargmaxt)), y_predargmaxt] = 1\n",
    "\n",
    "\n",
    "clreportt = classification_report(y_truet, y_pred_categoricalt, digits=4)\n",
    "print(clreportt)"
   ]
  },
  {
   "cell_type": "markdown",
   "id": "859f75d6",
   "metadata": {},
   "source": [
    "# CONFUSION MATRIX FOR 3 CLASS"
   ]
  },
  {
   "cell_type": "code",
   "execution_count": 16,
   "id": "dce71aef",
   "metadata": {},
   "outputs": [
    {
     "data": {
      "image/png": "[encoded data removed]",
      "text/plain": [
       "<Figure size 432x288 with 2 Axes>"
      ]
     },
     "metadata": {
      "needs_background": "light"
     },
     "output_type": "display_data"
    }
   ],
   "source": [
    "import seaborn as sns\n",
    "import matplotlib.pyplot as plt\n",
    "from sklearn.metrics import confusion_matrix\n",
    "\n",
    "classes = ['Baseline','Stress','Amusement']\n",
    "\n",
    "# Assuming y_predargmaxt and y_truet are already defined\n",
    "cm = confusion_matrix(y_test_labels, y_predargmaxt)\n",
    "\n",
    "plt.figure(figsize=(6,4))\n",
    "ax=sns.heatmap(cm/np.sum(cm), annot=True, \n",
    "            fmt='.2%', cmap='Blues')\n",
    "\n",
    "plt.title('Confusion Matrix ', fontsize=16)\n",
    "plt.ylabel('True Labels', fontsize=15)\n",
    "plt.xlabel('Predicted Labels', fontsize=15)\n",
    "plt.xticks(fontsize=13)\n",
    "plt.yticks(fontsize=13)\n",
    "ax.xaxis.set_ticklabels(classes, fontsize=13)\n",
    "ax.yaxis.set_ticklabels(classes, fontsize=13)\n",
    "plt.show()"
   ]
  },
  {
   "cell_type": "code",
   "execution_count": 18,
   "id": "c0edec7c",
   "metadata": {},
   "outputs": [
    {
     "data": {
      "text/plain": [
       "'Vgg19_model1_FALSE0.hdf5'"
      ]
     },
     "execution_count": 18,
     "metadata": {},
     "output_type": "execute_result"
    }
   ],
   "source": [
    "import os\n",
    "os.chdir(r'D:\\WESAD_code')\n",
    "r'Vgg19_model1_FALSE0.hdf5'"
   ]
  },
  {
   "cell_type": "code",
   "execution_count": 19,
   "id": "c59ed997",
   "metadata": {},
   "outputs": [
    {
     "data": {
      "text/html": [
       "<a href='Vgg19_model1_FALSE0.hdf5' target='_blank'>Vgg19_model1_FALSE0.hdf5</a><br>"
      ],
      "text/plain": [
       "D:\\WESAD_code\\Vgg19_model1_FALSE0.hdf5"
      ]
     },
     "execution_count": 19,
     "metadata": {},
     "output_type": "execute_result"
    }
   ],
   "source": [
    "from IPython.display import FileLink\n",
    "FileLink(r'Vgg19_model1_FALSE0.hdf5')"
   ]
  },
  {
   "cell_type": "code",
   "execution_count": null,
   "id": "88d45719",
   "metadata": {},
   "outputs": [],
   "source": []
  }
 ],
 "metadata": {
  "kernelspec": {
   "display_name": "Python 3 (ipykernel)",
   "language": "python",
   "name": "python3"
  },
  "language_info": {
   "codemirror_mode": {
    "name": "ipython",
    "version": 3
   },
   "file_extension": ".py",
   "mimetype": "text/x-python",
   "name": "python",
   "nbconvert_exporter": "python",
   "pygments_lexer": "ipython3",
   "version": "3.9.7"
  }
 },
 "nbformat": 4,
 "nbformat_minor": 5
}
