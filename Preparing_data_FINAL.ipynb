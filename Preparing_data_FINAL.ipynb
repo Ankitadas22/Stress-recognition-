{
 "cells": [
  {
   "cell_type": "code",
   "execution_count": 1,
   "metadata": {
    "colab": {
     "base_uri": "https://localhost:8080/"
    },
    "id": "pQdjxvvStJd2",
    "outputId": "f8c63d4f-c1c9-4809-a342-03c606c9fdc0"
   },
   "outputs": [
    {
     "name": "stdout",
     "output_type": "stream",
     "text": [
      "Requirement already satisfied: scikit-image in c:\\users\\user\\anaconda3\\lib\\site-packages (0.18.3)\n",
      "Requirement already satisfied: numpy>=1.16.5 in c:\\users\\user\\anaconda3\\lib\\site-packages (from scikit-image) (1.20.3)\n",
      "Requirement already satisfied: scipy>=1.0.1 in c:\\users\\user\\anaconda3\\lib\\site-packages (from scikit-image) (1.7.1)\n",
      "Requirement already satisfied: matplotlib!=3.0.0,>=2.0.0 in c:\\users\\user\\anaconda3\\lib\\site-packages (from scikit-image) (3.4.3)\n",
      "Requirement already satisfied: networkx>=2.0 in c:\\users\\user\\anaconda3\\lib\\site-packages (from scikit-image) (2.6.3)\n",
      "Requirement already satisfied: pillow!=7.1.0,!=7.1.1,>=4.3.0 in c:\\users\\user\\anaconda3\\lib\\site-packages (from scikit-image) (8.4.0)\n",
      "Requirement already satisfied: imageio>=2.3.0 in c:\\users\\user\\anaconda3\\lib\\site-packages (from scikit-image) (2.9.0)\n",
      "Requirement already satisfied: tifffile>=2019.7.26 in c:\\users\\user\\anaconda3\\lib\\site-packages (from scikit-image) (2021.7.2)\n",
      "Requirement already satisfied: PyWavelets>=1.1.1 in c:\\users\\user\\anaconda3\\lib\\site-packages (from scikit-image) (1.1.1)\n",
      "Requirement already satisfied: kiwisolver>=1.0.1 in c:\\users\\user\\anaconda3\\lib\\site-packages (from matplotlib!=3.0.0,>=2.0.0->scikit-image) (1.3.1)\n",
      "Requirement already satisfied: python-dateutil>=2.7 in c:\\users\\user\\anaconda3\\lib\\site-packages (from matplotlib!=3.0.0,>=2.0.0->scikit-image) (2.8.2)\n",
      "Requirement already satisfied: pyparsing>=2.2.1 in c:\\users\\user\\anaconda3\\lib\\site-packages (from matplotlib!=3.0.0,>=2.0.0->scikit-image) (3.0.4)\n",
      "Requirement already satisfied: cycler>=0.10 in c:\\users\\user\\anaconda3\\lib\\site-packages (from matplotlib!=3.0.0,>=2.0.0->scikit-image) (0.10.0)\n",
      "Requirement already satisfied: six in c:\\users\\user\\anaconda3\\lib\\site-packages (from cycler>=0.10->matplotlib!=3.0.0,>=2.0.0->scikit-image) (1.16.0)\n",
      "Note: you may need to restart the kernel to use updated packages.\n"
     ]
    },
    {
     "name": "stderr",
     "output_type": "stream",
     "text": [
      "WARNING: Ignoring invalid distribution -rotobuf (c:\\users\\user\\anaconda3\\lib\\site-packages)\n",
      "WARNING: Ignoring invalid distribution -rotobuf (c:\\users\\user\\anaconda3\\lib\\site-packages)\n",
      "WARNING: Ignoring invalid distribution -rotobuf (c:\\users\\user\\anaconda3\\lib\\site-packages)\n",
      "WARNING: Ignoring invalid distribution -rotobuf (c:\\users\\user\\anaconda3\\lib\\site-packages)\n",
      "WARNING: Ignoring invalid distribution -rotobuf (c:\\users\\user\\anaconda3\\lib\\site-packages)\n",
      "WARNING: Ignoring invalid distribution -rotobuf (c:\\users\\user\\anaconda3\\lib\\site-packages)\n"
     ]
    }
   ],
   "source": [
    "pip install scikit-image"
   ]
  },
  {
   "cell_type": "markdown",
   "metadata": {
    "id": "PkNgDS0wg43r"
   },
   "source": [
    "## **Importing the Required Libraries**"
   ]
  },
  {
   "cell_type": "code",
   "execution_count": 2,
   "metadata": {
    "id": "nuC_WvssPZHy"
   },
   "outputs": [],
   "source": [
    "import pickle\n",
    "import numpy as np\n",
    "from scipy import signal\n",
    "import skimage\n",
    "from skimage.transform import resize\n",
    "import matplotlib as mpl\n",
    "import pandas as pd\n",
    "import seaborn as sns\n",
    "import matplotlib.pyplot as plt\n",
    "from matplotlib import colors\n",
    "import requests  # pip install requests\n",
    "%matplotlib inline\n",
    "\n",
    "\n",
    "import tensorflow as tf\n",
    "import keras\n",
    "from keras.preprocessing.sequence import TimeseriesGenerator\n",
    "from scipy import stats\n",
    "from IPython.display import display, HTML\n",
    "from scipy import signal\n",
    "\n",
    "from sklearn import metrics\n",
    "from sklearn.metrics import classification_report\n",
    "from sklearn import preprocessing\n",
    "from sklearn.model_selection import train_test_split\n",
    "\n",
    "import keras\n",
    "from keras import optimizers\n",
    "from keras.models import Sequential\n",
    "from keras.layers import Dense, Dropout, Flatten, Reshape\n",
    "from keras.layers import Conv3D,Conv2D, MaxPooling2D,TimeDistributed,LSTM,ConvLSTM2D\n",
    "from keras.utils import np_utils\n",
    "\n",
    "\n",
    "import os\n",
    "import numpy as np\n",
    "import matplotlib.pyplot as plt\n",
    "from scipy import signal\n",
    "from matplotlib import colors\n",
    "import cv2"
   ]
  },
  {
   "cell_type": "code",
   "execution_count": null,
   "metadata": {
    "id": "7VfrO9KTPfT9"
   },
   "outputs": [],
   "source": [
    "#Required Functions"
   ]
  },
  {
   "cell_type": "markdown",
   "metadata": {
    "id": "x7rIsi2tPtY9"
   },
   "source": [
    "Only chest sensor data"
   ]
  },
  {
   "cell_type": "code",
   "execution_count": null,
   "metadata": {
    "id": "BitOxp1uPpSi"
   },
   "outputs": [],
   "source": [
    "#Function for Loading Data"
   ]
  },
  {
   "cell_type": "code",
   "execution_count": 3,
   "metadata": {
    "id": "Q8K9GJvxP0b0"
   },
   "outputs": [],
   "source": [
    "# Loading data\n",
    "\n",
    "def load_data(x):\n",
    "\n",
    "  data_set = \"E:\\WESAD_DATASET\\WESAD\"\n",
    "  sx_path = data_set + x\n",
    "  with open(sx_path, 'rb') as file:\n",
    "    sx_data = pickle.load(file, encoding='latin1')\n",
    "  c_ax=sx_data['signal']['chest']['ACC'][0:,0]\n",
    "  c_ay=sx_data['signal']['chest']['ACC'][0:,1]\n",
    "  c_az=sx_data['signal']['chest']['ACC'][0:,2]\n",
    "  c_ecg=sx_data['signal']['chest']['ECG'][:,0]\n",
    "  c_emg=sx_data['signal']['chest']['EMG'][:,0]\n",
    "  c_eda=sx_data['signal']['chest']['EDA'][:,0]\n",
    "  c_temp=sx_data['signal']['chest']['Temp'][:,0]\n",
    "  c_resp=sx_data['signal']['chest']['Resp'][:,0]\n",
    "  w_label=sx_data['label']\n",
    "  numpy_data=np.array([c_ax, c_ay, c_az,c_ecg,c_emg,c_eda,c_temp,c_resp,w_label])\n",
    "  numpy_data=numpy_data.T\n",
    "  chest_df = pd.DataFrame(data=numpy_data,\n",
    "                           columns=[\"c_ax\", \"c_ay\", \"c_az\", \"c_ecg\",\"c_emg\",\"c_eda\",\"c_temp\",\"c_resp\",\"w_label\"])\n",
    "  chest_df['w_label'] = chest_df['w_label'].astype('int')\n",
    "  df = chest_df.loc[chest_df['w_label'].isin([1,2,3])]\n",
    "  return df"
   ]
  },
  {
   "cell_type": "code",
   "execution_count": 19,
   "metadata": {
    "id": "-ZHpCPw0P3eu"
   },
   "outputs": [],
   "source": [
    "#Function for creating windows"
   ]
  },
  {
   "cell_type": "code",
   "execution_count": 4,
   "metadata": {
    "id": "smWbrrmbP7ez"
   },
   "outputs": [],
   "source": [
    "def window(data, size, shift):\n",
    "\n",
    "  limit = 3500  # window size\n",
    "  w = []   # windows\n",
    "  w_count = 0 #no of windows\n",
    "  j= 0\n",
    "  for i in range(len(data)):\n",
    "      res = data.iloc[j:size,:]\n",
    "      if len(res.index) != limit:\n",
    "         break\n",
    "      else:\n",
    "         res= res.T\n",
    "         w.append(res)\n",
    "         j = j + shift\n",
    "         size = shift + size\n",
    "         w_count = w_count + 1\n",
    "\n",
    "  return w , w_count\n"
   ]
  },
  {
   "cell_type": "code",
   "execution_count": 5,
   "metadata": {
    "id": "enqJUDhVQBrz"
   },
   "outputs": [],
   "source": [
    "# For making the data ready to be fed into the model\n",
    "\n",
    "def data_ready(x_data , y_no, category):\n",
    "\n",
    "  x = np.array(x_data)\n",
    "  y = np.full( shape= y_no, fill_value= category, dtype=np.int)\n",
    "\n",
    "  return x,y"
   ]
  },
  {
   "cell_type": "markdown",
   "metadata": {
    "id": "fMfUMHqrb1bY"
   },
   "source": [
    "## **Function to generate spectogram images**"
   ]
  },
  {
   "cell_type": "markdown",
   "metadata": {
    "id": "RNy-ELM_QHUY"
   },
   "source": [
    "# **S2**"
   ]
  },
  {
   "cell_type": "code",
   "execution_count": 6,
   "metadata": {},
   "outputs": [],
   "source": [
    "import os\n",
    "import numpy as np\n",
    "from scipy import signal\n",
    "import matplotlib.pyplot as plt\n",
    "from PIL import Image\n",
    "import cv2\n",
    "\n",
    "def generate_spectrograms(data, path):\n",
    "    \"\"\"\n",
    "    Generate spectrogram images from input data and save them in the specified path.\n",
    "\n",
    "    Args:\n",
    "    - data: numpy array of shape (num_examples, num_samples)\n",
    "    - path: string representing path to save spectrogram images\n",
    "\n",
    "    Returns:\n",
    "    - None\n",
    "    \"\"\"\n",
    "    os.makedirs(path, exist_ok=True)  # Create the directory if it doesn't exist\n",
    "\n",
    "    for i in range(data.shape[0]):\n",
    "        f, t, Sxx_i = signal.spectrogram(data[i, :])\n",
    "\n",
    "        fig, ax = plt.subplots()\n",
    "        ax.pcolormesh(t, f, Sxx_i, norm=colors.LogNorm(vmin=Sxx_i.min(), vmax=Sxx_i.max()), cmap='inferno')\n",
    "        ax.set_axis_off()\n",
    "        fig.savefig(os.path.join(path, f\"spectrogram_{i+1}.png\"), bbox_inches='tight', pad_inches=0)\n",
    "        plt.close(fig)\n",
    "\n",
    "\n",
    "def preprocess_image(image_path, target_size):\n",
    "    # Open the image\n",
    "    image = Image.open(image_path)\n",
    "\n",
    "    # Convert the image to RGB if it has an alpha channel\n",
    "    if image.mode == 'RGBA':\n",
    "        image = image.convert('RGB')\n",
    "\n",
    "    # Resize the image to the target size\n",
    "    image = image.resize(target_size, Image.BICUBIC)\n",
    "\n",
    "    # Convert the image to a numpy array\n",
    "    image_array = np.array(image, dtype=np.float32)\n",
    "\n",
    "    return image_array\n",
    "\n",
    "\n",
    "def save_spectrograms_as_npy(path):\n",
    "    \"\"\"\n",
    "    Load spectrogram images from the path, preprocess them, and save as a numpy array.\n",
    "\n",
    "    Args:\n",
    "    - path: string representing the path containing spectrogram images\n",
    "\n",
    "    Returns:\n",
    "    - None\n",
    "    \"\"\"\n",
    "    filenames = sorted([f for f in os.listdir(path) if f.endswith('.png')])\n",
    "\n",
    "    num_examples = len(filenames)\n",
    "    Sxx = np.zeros((num_examples, 224, 224, 3), dtype=np.float32)\n",
    "\n",
    "    for i, filename in enumerate(filenames):\n",
    "        image_path = os.path.join(path, filename)\n",
    "\n",
    "        # Preprocess the image\n",
    "        preprocessed_image = preprocess_image(image_path, target_size=(224, 224))\n",
    "\n",
    "        # Convert pixel values to the range of 0-255\n",
    "        preprocessed_image = (preprocessed_image * 255).astype(np.uint8)\n",
    "\n",
    "        # Assign the preprocessed image to Sxx\n",
    "        Sxx[i] = preprocessed_image\n",
    "\n",
    "        # Save the preprocessed image, replacing the original\n",
    "        cv2.imwrite(image_path, cv2.cvtColor((preprocessed_image * 255).astype(np.uint8), cv2.COLOR_RGB2BGR))\n",
    "\n",
    "    np.save(os.path.join(path, 'Sxx.npy'), Sxx)\n",
    "    \n",
    "\n",
    "def concatenate_and_label_arrays(file_paths, save_path):\n",
    "    arrays = []\n",
    "    labels = []\n",
    "    for i, file_path in enumerate(file_paths):\n",
    "        array = np.load(file_path)\n",
    "        arrays.append(array)\n",
    "        num_samples = array.shape[0]\n",
    "        label = np.zeros((num_samples, len(file_paths)))  # Create an array of zeros with shape (num_samples, len(file_paths))\n",
    "        label[:, i] = 1  # Set the i-th column to 1 to indicate the label for this category\n",
    "        labels.append(label)\n",
    "\n",
    "    concatenated_array = np.concatenate(arrays)\n",
    "    concatenated_labels = np.concatenate(labels)\n",
    "\n",
    "    # Save concatenated array and concatenated labels as numpy arrays\n",
    "    np.save(save_path + '/data.npy', concatenated_array)\n",
    "    np.save(save_path + '/labels.npy', concatenated_labels)  "
   ]
  },
  {
   "cell_type": "code",
   "execution_count": 7,
   "metadata": {
    "colab": {
     "base_uri": "https://localhost:8080/"
    },
    "id": "yufZGAEIQD_t",
    "outputId": "8e90d892-d108-4839-d293-56bd2730a014"
   },
   "outputs": [
    {
     "name": "stdout",
     "output_type": "stream",
     "text": [
      "          c_ax    c_ay    c_az     c_ecg     c_emg     c_eda     c_temp  \\\n",
      "214583  0.8914 -0.1102 -0.2576  0.030945 -0.003708  5.710983  29.083618   \n",
      "214584  0.8926 -0.1086 -0.2544  0.033646 -0.014145  5.719376  29.122437   \n",
      "214585  0.8930 -0.1094 -0.2580  0.033005  0.010208  5.706406  29.115234   \n",
      "214586  0.8934 -0.1082 -0.2538  0.031815  0.012634  5.712509  29.126709   \n",
      "214587  0.8930 -0.1096 -0.2570  0.030350  0.002060  5.727005  29.100861   \n",
      "\n",
      "          c_resp  w_label  \n",
      "214583  1.191711        1  \n",
      "214584  1.139832        1  \n",
      "214585  1.141357        1  \n",
      "214586  1.155090        1  \n",
      "214587  1.133728        1  \n",
      "\n",
      "Shape:\n",
      "(1484700, 9)\n",
      "\n",
      "dtypes:\n",
      "c_ax       float64\n",
      "c_ay       float64\n",
      "c_az       float64\n",
      "c_ecg      float64\n",
      "c_emg      float64\n",
      "c_eda      float64\n",
      "c_temp     float64\n",
      "c_resp     float64\n",
      "w_label      int32\n",
      "dtype: object\n",
      "\n",
      "Value Counts:\n",
      "1    800800\n",
      "2    430500\n",
      "3    253400\n",
      "Name: w_label, dtype: int64\n",
      "\n",
      "           c_ecg     c_emg     c_eda     c_temp    c_resp  w_label\n",
      "214583  0.030945 -0.003708  5.710983  29.083618  1.191711        1\n",
      "214584  0.033646 -0.014145  5.719376  29.122437  1.139832        1\n",
      "214585  0.033005  0.010208  5.706406  29.115234  1.141357        1\n",
      "214586  0.031815  0.012634  5.712509  29.126709  1.155090        1\n",
      "214587  0.030350  0.002060  5.727005  29.100861  1.133728        1\n"
     ]
    }
   ],
   "source": [
    "s2_path = \"\\S2\\S2.pkl\"\n",
    "\n",
    "s2 = load_data(s2_path)\n",
    "print(s2.head())\n",
    "print()\n",
    "print('Shape:')\n",
    "print(s2.shape)\n",
    "print()\n",
    "print('dtypes:')\n",
    "print(s2.dtypes)\n",
    "print()\n",
    "print('Value Counts:')\n",
    "print(s2['w_label'].value_counts())\n",
    "print()\n",
    "s2_final = s2.drop(['c_ax','c_ay','c_az'] , axis = 1)\n",
    "print(s2_final.head())"
   ]
  },
  {
   "cell_type": "code",
   "execution_count": 8,
   "metadata": {
    "colab": {
     "base_uri": "https://localhost:8080/"
    },
    "id": "xAjhaEDfQKFc",
    "outputId": "24e509e5-2a06-44a7-982a-12b1cafde887"
   },
   "outputs": [
    {
     "name": "stdout",
     "output_type": "stream",
     "text": [
      "Baseline:\n",
      "(800800, 6)\n",
      "(800800, 5)\n",
      "\n",
      "Stress:\n",
      "(430500, 6)\n",
      "(430500, 5)\n",
      "\n",
      "Amusement:\n",
      "(253400, 6)\n",
      "(253400, 5)\n"
     ]
    }
   ],
   "source": [
    "print('Baseline:')\n",
    "s2_base = s2_final.loc[s2_final['w_label'].isin([1])]\n",
    "print(s2_base.shape)\n",
    "s2_basex = s2_base.drop('w_label' ,axis = 1)\n",
    "print(s2_basex.shape)\n",
    "print()\n",
    "print('Stress:')\n",
    "s2_stress = s2_final.loc[s2_final['w_label'].isin([2])]\n",
    "print(s2_stress.shape)\n",
    "s2_stressx = s2_stress.drop('w_label',axis = 1)\n",
    "print(s2_stressx.shape)\n",
    "print()\n",
    "print('Amusement:')\n",
    "s2_amuse = s2_final.loc[s2_final['w_label'].isin([3])]\n",
    "print(s2_amuse.shape)\n",
    "s2_amusex = s2_amuse.drop('w_label',axis =1)\n",
    "print(s2_amusex.shape)"
   ]
  },
  {
   "cell_type": "code",
   "execution_count": 9,
   "metadata": {
    "colab": {
     "base_uri": "https://localhost:8080/"
    },
    "id": "aU1FnZf6UjZe",
    "outputId": "336b4419-ea42-4bd3-c908-15a94ccee129"
   },
   "outputs": [
    {
     "name": "stdout",
     "output_type": "stream",
     "text": [
      "Creating windows:\n",
      "\n",
      "Baseline:\n",
      "570\n",
      "570\n",
      "(570, 5, 3500)\n",
      "(570,)\n",
      "\n",
      "Stress:\n",
      "306\n",
      "306\n",
      "(306, 5, 3500)\n",
      "(306,)\n",
      "\n",
      "Amusement:\n",
      "179\n",
      "179\n",
      "(179, 5, 3500)\n",
      "(179,)\n"
     ]
    },
    {
     "name": "stderr",
     "output_type": "stream",
     "text": [
      "C:\\Users\\user\\AppData\\Local\\Temp/ipykernel_19452/3869773005.py:6: DeprecationWarning: `np.int` is a deprecated alias for the builtin `int`. To silence this warning, use `int` by itself. Doing this will not modify any behavior and is safe. When replacing `np.int`, you may wish to use e.g. `np.int64` or `np.int32` to specify the precision. If you wish to review your current use, check the release note link for additional information.\n",
      "Deprecated in NumPy 1.20; for more details and guidance: https://numpy.org/devdocs/release/1.20.0-notes.html#deprecations\n",
      "  y = np.full( shape= y_no, fill_value= category, dtype=np.int)\n"
     ]
    }
   ],
   "source": [
    "print('Creating windows:')\n",
    "print()\n",
    "print('Baseline:')\n",
    "s2_basexw, count = window(s2_basex , 3500 ,1400)\n",
    "print(count)\n",
    "print(len(s2_basexw))\n",
    "\n",
    "s2_basexwa , s2_basey  = data_ready(s2_basexw , count , 1)\n",
    "print(s2_basexwa.shape)\n",
    "print(s2_basey.shape)\n",
    "\n",
    "print()\n",
    "print('Stress:')\n",
    "s2_stressxw, count = window(s2_stressx , 3500 ,1400)\n",
    "print(count)\n",
    "print(len(s2_stressxw))\n",
    "s2_stressxwa , s2_stressy  = data_ready(s2_stressxw , count , 2)\n",
    "print(s2_stressxwa.shape)\n",
    "print(s2_stressy.shape)\n",
    "\n",
    "print()\n",
    "print('Amusement:')\n",
    "s2_amusexw, count = window(s2_amusex , 3500 ,1400)\n",
    "print(count)\n",
    "print(len(s2_amusexw))\n",
    "s2_amusexwa , s2_amusey  = data_ready(s2_amusexw , count , 3)\n",
    "print(s2_amusexwa.shape)\n",
    "print(s2_amusey.shape)"
   ]
  },
  {
   "cell_type": "markdown",
   "metadata": {
    "id": "K7EEXq3TtUVj"
   },
   "source": [
    "**S2_baseline**"
   ]
  },
  {
   "cell_type": "code",
   "execution_count": 10,
   "metadata": {
    "id": "zm5CwyZhDg9D"
   },
   "outputs": [
    {
     "name": "stderr",
     "output_type": "stream",
     "text": [
      "C:\\Users\\user\\AppData\\Local\\Temp/ipykernel_19452/3137945625.py:25: MatplotlibDeprecationWarning: shading='flat' when X and Y have the same dimensions as C is deprecated since 3.3.  Either specify the corners of the quadrilaterals with X and Y, or pass shading='auto', 'nearest' or 'gouraud', or set rcParams['pcolor.shading'].  This will become an error two minor releases later.\n",
      "  ax.pcolormesh(t, f, Sxx_i, norm=colors.LogNorm(vmin=Sxx_i.min(), vmax=Sxx_i.max()), cmap='inferno')\n"
     ]
    }
   ],
   "source": [
    "# Load data\n",
    "data = np.array(s2_basexwa[:, 0, :])\n",
    "# Specify the paths to save the spectrogram images\n",
    "path = 'D:\\WESAD_code\\WESAD_final\\S2_baseline'\n",
    "# Generate spectrogram images and save them as .png files\n",
    "Sxx = generate_spectrograms(data, path)\n",
    "save_spectrograms_as_npy(path)"
   ]
  },
  {
   "cell_type": "markdown",
   "metadata": {
    "id": "702x0EIlteMy"
   },
   "source": [
    "**S2_stress**"
   ]
  },
  {
   "cell_type": "code",
   "execution_count": 11,
   "metadata": {
    "id": "xtPbbp11tToQ"
   },
   "outputs": [
    {
     "name": "stderr",
     "output_type": "stream",
     "text": [
      "C:\\Users\\user\\AppData\\Local\\Temp/ipykernel_19452/3137945625.py:25: MatplotlibDeprecationWarning: shading='flat' when X and Y have the same dimensions as C is deprecated since 3.3.  Either specify the corners of the quadrilaterals with X and Y, or pass shading='auto', 'nearest' or 'gouraud', or set rcParams['pcolor.shading'].  This will become an error two minor releases later.\n",
      "  ax.pcolormesh(t, f, Sxx_i, norm=colors.LogNorm(vmin=Sxx_i.min(), vmax=Sxx_i.max()), cmap='inferno')\n"
     ]
    }
   ],
   "source": [
    "# Load data\n",
    "data = np.array(s2_stressxwa[:, 0, :])\n",
    "# Specify the path to save the spectrogram images\n",
    "path = 'D:\\WESAD_code\\WESAD_final\\S2_stress'\n",
    "# Generate spectrogram images and save them as .png files\n",
    "Sxx = generate_spectrograms(data, path)\n",
    "save_spectrograms_as_npy(path)"
   ]
  },
  {
   "cell_type": "markdown",
   "metadata": {
    "id": "it_9rlK8oQmL"
   },
   "source": [
    "**S2_amusement**"
   ]
  },
  {
   "cell_type": "code",
   "execution_count": 12,
   "metadata": {
    "id": "_QejCI1R-h-m"
   },
   "outputs": [
    {
     "name": "stderr",
     "output_type": "stream",
     "text": [
      "C:\\Users\\user\\AppData\\Local\\Temp/ipykernel_19452/3137945625.py:25: MatplotlibDeprecationWarning: shading='flat' when X and Y have the same dimensions as C is deprecated since 3.3.  Either specify the corners of the quadrilaterals with X and Y, or pass shading='auto', 'nearest' or 'gouraud', or set rcParams['pcolor.shading'].  This will become an error two minor releases later.\n",
      "  ax.pcolormesh(t, f, Sxx_i, norm=colors.LogNorm(vmin=Sxx_i.min(), vmax=Sxx_i.max()), cmap='inferno')\n"
     ]
    }
   ],
   "source": [
    "# Load data\n",
    "data = np.array(s2_amusexwa[:,0,:])\n",
    "# Specify the path to save the spectrogram images\n",
    "path = 'D:\\WESAD_code\\WESAD_final\\S2_amuse'\n",
    "# Generate spectrogram images and save them as .png files\n",
    "Sxx = generate_spectrograms(data, path)\n",
    "save_spectrograms_as_npy(path)"
   ]
  },
  {
   "cell_type": "markdown",
   "metadata": {
    "id": "nYNJOxg5jRNz"
   },
   "source": [
    "**Labels_S2**"
   ]
  },
  {
   "cell_type": "code",
   "execution_count": 125,
   "metadata": {
    "colab": {
     "base_uri": "https://localhost:8080/"
    },
    "id": "M0-iVwR3GL1v",
    "outputId": "a545717a-c286-403d-fde1-485ca5f52d02"
   },
   "outputs": [
    {
     "name": "stdout",
     "output_type": "stream",
     "text": [
      "(1055, 224, 224, 3)\n",
      "(1055, 3)\n"
     ]
    }
   ],
   "source": [
    "# Provide the file paths for participant 1\n",
    "file_paths = [\n",
    "    'D:\\WESAD_code\\WESAD_final\\S2_baseline\\Sxx.npy',\n",
    "    'D:\\WESAD_code\\WESAD_final\\S2_stress\\Sxx.npy',\n",
    "    'D:\\WESAD_code\\WESAD_final\\S2_amuse\\Sxx.npy'\n",
    "]\n",
    "\n",
    "# Specify the path where to save the concatenated arrays and labels\n",
    "save_path = \"D:\\WESAD_code\\WESAD_final\\S2_data_label\"\n",
    "\n",
    "# concatenate_and_label_arrays function\n",
    "concatenate_and_label_arrays(file_paths, save_path)\n",
    "\n",
    "concatenated_array = np.load(save_path + '/data.npy')\n",
    "concatenated_labels = np.load(save_path + '/labels.npy')\n",
    "\n",
    "# Access the shape of the concatenated array and concatenated labels\n",
    "print(concatenated_array.shape)\n",
    "print(concatenated_labels.shape)\n"
   ]
  },
  {
   "cell_type": "markdown",
   "metadata": {
    "id": "ITcPc7EIGoa3"
   },
   "source": [
    "# **S3**"
   ]
  },
  {
   "cell_type": "code",
   "execution_count": 14,
   "metadata": {
    "colab": {
     "base_uri": "https://localhost:8080/"
    },
    "id": "kior8m-0BvFu",
    "outputId": "6b787d0e-0a24-4cc0-9d44-5c8742c1d873"
   },
   "outputs": [
    {
     "name": "stdout",
     "output_type": "stream",
     "text": [
      "          c_ax    c_ay    c_az     c_ecg     c_emg     c_eda     c_temp  \\\n",
      "246998  0.7866 -0.0598  0.5048 -0.191849  0.058731  7.222748  32.989807   \n",
      "246999  0.7910 -0.0616  0.5048 -0.186630  0.056259  7.224274  33.030365   \n",
      "247000  0.7930 -0.0626  0.5018 -0.179260 -0.063034  7.222748  33.042389   \n",
      "247001  0.7930 -0.0620  0.5022 -0.171432 -0.040787  7.221985  33.034882   \n",
      "247002  0.7920 -0.0604  0.5038 -0.173264  0.116776  7.223892  33.045380   \n",
      "\n",
      "           c_resp  w_label  \n",
      "246998  12.303162        1  \n",
      "246999  12.315369        1  \n",
      "247000  12.339783        1  \n",
      "247001  12.336731        1  \n",
      "247002  12.318420        1  \n",
      "\n",
      "Shape:\n",
      "(1508500, 9)\n",
      "\n",
      "dtypes:\n",
      "c_ax       float64\n",
      "c_ay       float64\n",
      "c_az       float64\n",
      "c_ecg      float64\n",
      "c_emg      float64\n",
      "c_eda      float64\n",
      "c_temp     float64\n",
      "c_resp     float64\n",
      "w_label      int32\n",
      "dtype: object\n",
      "\n",
      "Value Counts:\n",
      "1    798000\n",
      "2    448000\n",
      "3    262500\n",
      "Name: w_label, dtype: int64\n",
      "\n",
      "           c_ecg     c_emg     c_eda     c_temp     c_resp  w_label\n",
      "246998 -0.191849  0.058731  7.222748  32.989807  12.303162        1\n",
      "246999 -0.186630  0.056259  7.224274  33.030365  12.315369        1\n",
      "247000 -0.179260 -0.063034  7.222748  33.042389  12.339783        1\n",
      "247001 -0.171432 -0.040787  7.221985  33.034882  12.336731        1\n",
      "247002 -0.173264  0.116776  7.223892  33.045380  12.318420        1\n"
     ]
    }
   ],
   "source": [
    "s3_path = \"\\S3\\S3.pkl\"\n",
    "s3 = load_data(s3_path)\n",
    "print(s3.head())\n",
    "print()\n",
    "print('Shape:')\n",
    "print(s3.shape)\n",
    "print()\n",
    "print('dtypes:')\n",
    "print(s3.dtypes)\n",
    "print()\n",
    "print('Value Counts:')\n",
    "print(s3['w_label'].value_counts())\n",
    "print()\n",
    "s3_final = s3.drop(['c_ax','c_ay','c_az'] , axis = 1)\n",
    "print(s3_final.head())\n"
   ]
  },
  {
   "cell_type": "code",
   "execution_count": 15,
   "metadata": {
    "colab": {
     "base_uri": "https://localhost:8080/"
    },
    "id": "gvnO_xtWGrXa",
    "outputId": "6e339a16-2794-40d1-d6e6-69315f483b1b"
   },
   "outputs": [
    {
     "name": "stdout",
     "output_type": "stream",
     "text": [
      "Baseline:\n",
      "(798000, 6)\n",
      "(798000, 5)\n",
      "\n",
      "Stress:\n",
      "(448000, 6)\n",
      "(448000, 5)\n",
      "\n",
      "Amusement:\n",
      "(262500, 6)\n",
      "(262500, 5)\n"
     ]
    }
   ],
   "source": [
    "print('Baseline:')\n",
    "s3_base = s3_final.loc[s3_final['w_label'].isin([1])]\n",
    "print(s3_base.shape)\n",
    "s3_basex = s3_base.drop('w_label' ,axis = 1)\n",
    "print(s3_basex.shape)\n",
    "print()\n",
    "print('Stress:')\n",
    "s3_stress = s3_final.loc[s3_final['w_label'].isin([2])]\n",
    "print(s3_stress.shape)\n",
    "s3_stressx = s3_stress.drop('w_label',axis = 1)\n",
    "print(s3_stressx.shape)\n",
    "print()\n",
    "print('Amusement:')\n",
    "s3_amuse = s3_final.loc[s3_final['w_label'].isin([3])]\n",
    "print(s3_amuse.shape)\n",
    "s3_amusex = s3_amuse.drop('w_label',axis =1)\n",
    "print(s3_amusex.shape)"
   ]
  },
  {
   "cell_type": "code",
   "execution_count": 16,
   "metadata": {
    "colab": {
     "base_uri": "https://localhost:8080/"
    },
    "id": "KvfwFmz1G2lh",
    "outputId": "a7ab91ec-1a16-40e3-cc1f-15b95c83f93c"
   },
   "outputs": [
    {
     "name": "stdout",
     "output_type": "stream",
     "text": [
      "Creating windows:\n",
      "\n",
      "Baseline:\n",
      "568\n",
      "568\n",
      "(568, 5, 3500)\n",
      "(568,)\n",
      "\n",
      "Stress:\n",
      "318\n",
      "318\n",
      "(318, 5, 3500)\n",
      "(318,)\n",
      "\n",
      "Amusement:\n",
      "186\n",
      "186\n",
      "(186, 5, 3500)\n",
      "(186,)\n"
     ]
    },
    {
     "name": "stderr",
     "output_type": "stream",
     "text": [
      "C:\\Users\\user\\AppData\\Local\\Temp/ipykernel_19452/3869773005.py:6: DeprecationWarning: `np.int` is a deprecated alias for the builtin `int`. To silence this warning, use `int` by itself. Doing this will not modify any behavior and is safe. When replacing `np.int`, you may wish to use e.g. `np.int64` or `np.int32` to specify the precision. If you wish to review your current use, check the release note link for additional information.\n",
      "Deprecated in NumPy 1.20; for more details and guidance: https://numpy.org/devdocs/release/1.20.0-notes.html#deprecations\n",
      "  y = np.full( shape= y_no, fill_value= category, dtype=np.int)\n"
     ]
    }
   ],
   "source": [
    "print('Creating windows:')\n",
    "print()\n",
    "print('Baseline:')\n",
    "s3_basexw, count = window(s3_basex , 3500 ,1400)\n",
    "print(count)\n",
    "print(len(s3_basexw))\n",
    "\n",
    "s3_basexwa , s3_basey  = data_ready(s3_basexw , count , 1)\n",
    "print(s3_basexwa.shape)\n",
    "print(s3_basey.shape)\n",
    "\n",
    "print()\n",
    "print('Stress:')\n",
    "s3_stressxw, count = window(s3_stressx , 3500 ,1400)\n",
    "print(count)\n",
    "print(len(s3_stressxw))\n",
    "s3_stressxwa , s3_stressy  = data_ready(s3_stressxw , count , 2)\n",
    "print(s3_stressxwa.shape)\n",
    "print(s3_stressy.shape)\n",
    "\n",
    "print()\n",
    "print('Amusement:')\n",
    "s3_amusexw, count = window(s3_amusex , 3500 ,1400)\n",
    "print(count)\n",
    "print(len(s3_amusexw))\n",
    "s3_amusexwa , s3_amusey  = data_ready(s3_amusexw , count , 3)\n",
    "print(s3_amusexwa.shape)\n",
    "print(s3_amusey.shape)"
   ]
  },
  {
   "cell_type": "markdown",
   "metadata": {
    "id": "oOM5wkHSKJQu"
   },
   "source": [
    "### **S3_baseline**"
   ]
  },
  {
   "cell_type": "code",
   "execution_count": 17,
   "metadata": {
    "id": "Dr0Z_T6dH9Yj"
   },
   "outputs": [
    {
     "name": "stderr",
     "output_type": "stream",
     "text": [
      "C:\\Users\\user\\AppData\\Local\\Temp/ipykernel_19452/3137945625.py:25: MatplotlibDeprecationWarning: shading='flat' when X and Y have the same dimensions as C is deprecated since 3.3.  Either specify the corners of the quadrilaterals with X and Y, or pass shading='auto', 'nearest' or 'gouraud', or set rcParams['pcolor.shading'].  This will become an error two minor releases later.\n",
      "  ax.pcolormesh(t, f, Sxx_i, norm=colors.LogNorm(vmin=Sxx_i.min(), vmax=Sxx_i.max()), cmap='inferno')\n"
     ]
    }
   ],
   "source": [
    "# Load data\n",
    "data = np.array(s3_basexwa[:,0,:])\n",
    "# Specify the path to save the spectrogram images\n",
    "path = 'D:\\WESAD_code\\WESAD_final\\S3_baseline'\n",
    "# Generate spectrogram images and save them as .png files\n",
    "Sxx = generate_spectrograms(data, path)\n",
    "save_spectrograms_as_npy(path)"
   ]
  },
  {
   "cell_type": "markdown",
   "metadata": {
    "id": "bEjXCprRKRnm"
   },
   "source": [
    "### **S3_stress**"
   ]
  },
  {
   "cell_type": "code",
   "execution_count": 18,
   "metadata": {
    "id": "3TtsYrJ5IYZX"
   },
   "outputs": [
    {
     "name": "stderr",
     "output_type": "stream",
     "text": [
      "C:\\Users\\user\\AppData\\Local\\Temp/ipykernel_19452/3137945625.py:25: MatplotlibDeprecationWarning: shading='flat' when X and Y have the same dimensions as C is deprecated since 3.3.  Either specify the corners of the quadrilaterals with X and Y, or pass shading='auto', 'nearest' or 'gouraud', or set rcParams['pcolor.shading'].  This will become an error two minor releases later.\n",
      "  ax.pcolormesh(t, f, Sxx_i, norm=colors.LogNorm(vmin=Sxx_i.min(), vmax=Sxx_i.max()), cmap='inferno')\n"
     ]
    }
   ],
   "source": [
    "# Load data\n",
    "data = np.array(s3_stressxwa[:, 0, :])\n",
    "# Specify the path to save the spectrogram images\n",
    "path = 'D:\\WESAD_code\\WESAD_final\\S3_stress'\n",
    "# Generate spectrogram images and save them as .png files\n",
    "Sxx = generate_spectrograms(data, path)\n",
    "save_spectrograms_as_npy(path)\n"
   ]
  },
  {
   "cell_type": "markdown",
   "metadata": {
    "id": "GZnvhb5hKc9f"
   },
   "source": [
    "### **S3_amusement**"
   ]
  },
  {
   "cell_type": "code",
   "execution_count": 19,
   "metadata": {
    "id": "nsutEsMAKcOk"
   },
   "outputs": [
    {
     "name": "stderr",
     "output_type": "stream",
     "text": [
      "C:\\Users\\user\\AppData\\Local\\Temp/ipykernel_19452/3137945625.py:25: MatplotlibDeprecationWarning: shading='flat' when X and Y have the same dimensions as C is deprecated since 3.3.  Either specify the corners of the quadrilaterals with X and Y, or pass shading='auto', 'nearest' or 'gouraud', or set rcParams['pcolor.shading'].  This will become an error two minor releases later.\n",
      "  ax.pcolormesh(t, f, Sxx_i, norm=colors.LogNorm(vmin=Sxx_i.min(), vmax=Sxx_i.max()), cmap='inferno')\n"
     ]
    }
   ],
   "source": [
    "# Load data\n",
    "data = np.array(s3_amusexwa[:,0,:])\n",
    "# Specify the path to save the spectrogram images\n",
    "path = 'D:\\WESAD_code\\WESAD_final\\S3_amuse'\n",
    "# Generate spectrogram images and save them as .png files\n",
    "Sxx = generate_spectrograms(data, path)\n",
    "save_spectrograms_as_npy(path)"
   ]
  },
  {
   "cell_type": "markdown",
   "metadata": {
    "id": "QH3a0_DIjvQ1"
   },
   "source": [
    "**Labels_S3**"
   ]
  },
  {
   "cell_type": "code",
   "execution_count": 126,
   "metadata": {
    "colab": {
     "base_uri": "https://localhost:8080/"
    },
    "id": "LkLnWW8Jj0eF",
    "outputId": "43b713a1-a95c-436f-dc81-1ca408f51d3b"
   },
   "outputs": [
    {
     "name": "stdout",
     "output_type": "stream",
     "text": [
      "(1072, 224, 224, 3)\n",
      "(1072, 3)\n"
     ]
    }
   ],
   "source": [
    "# Provide the file paths for participant 1\n",
    "file_paths = [\n",
    "    'D:\\WESAD_code\\WESAD_final\\S3_baseline\\Sxx.npy',\n",
    "    'D:\\WESAD_code\\WESAD_final\\S3_stress\\Sxx.npy',\n",
    "    'D:\\WESAD_code\\WESAD_final\\S3_amuse\\Sxx.npy'\n",
    "]\n",
    "\n",
    "# Specify the path where you want to save the concatenated arrays and labels\n",
    "save_path = \"D:\\WESAD_code\\WESAD_final\\S3_data_label\"\n",
    "\n",
    "# Call the concatenate_and_label_arrays function\n",
    "concatenate_and_label_arrays(file_paths, save_path)\n",
    "\n",
    "concatenated_array = np.load(save_path + '/data.npy')\n",
    "concatenated_labels = np.load(save_path + '/labels.npy')\n",
    "\n",
    "# Access the shape of the concatenated array and concatenated labels\n",
    "print(concatenated_array.shape)\n",
    "print(concatenated_labels.shape)"
   ]
  },
  {
   "cell_type": "markdown",
   "metadata": {
    "id": "jWMYNY5XPBAh"
   },
   "source": [
    "# **S4**"
   ]
  },
  {
   "cell_type": "code",
   "execution_count": 21,
   "metadata": {
    "colab": {
     "base_uri": "https://localhost:8080/"
    },
    "id": "tFb2f_UIMZ2X",
    "outputId": "4cae6552-970a-4833-e629-76548ccbf396"
   },
   "outputs": [
    {
     "name": "stdout",
     "output_type": "stream",
     "text": [
      "          c_ax    c_ay    c_az     c_ecg     c_emg     c_eda     c_temp  \\\n",
      "199705  0.6746 -0.2214 -0.6216  0.009567  0.011215  1.343536  32.681061   \n",
      "199706  0.6742 -0.2198 -0.6236  0.003525  0.021652  1.316452  32.694519   \n",
      "199707  0.6752 -0.2216 -0.6274 -0.000046  0.030212  1.325989  32.657135   \n",
      "199708  0.6770 -0.2240 -0.6322  0.001968  0.012039  1.280975  32.691559   \n",
      "199709  0.6760 -0.2230 -0.6282  0.001144  0.020920  1.357651  32.678101   \n",
      "\n",
      "          c_resp  w_label  \n",
      "199705 -2.406311        1  \n",
      "199706 -2.383423        1  \n",
      "199707 -2.360535        1  \n",
      "199708 -2.345276        1  \n",
      "199709 -2.320862        1  \n",
      "\n",
      "Shape:\n",
      "(1515501, 9)\n",
      "\n",
      "dtypes:\n",
      "c_ax       float64\n",
      "c_ay       float64\n",
      "c_az       float64\n",
      "c_ecg      float64\n",
      "c_emg      float64\n",
      "c_eda      float64\n",
      "c_temp     float64\n",
      "c_resp     float64\n",
      "w_label      int32\n",
      "dtype: object\n",
      "\n",
      "Value Counts:\n",
      "1    810601\n",
      "2    444500\n",
      "3    260400\n",
      "Name: w_label, dtype: int64\n",
      "\n",
      "           c_ecg     c_emg     c_eda     c_temp    c_resp  w_label\n",
      "199705  0.009567  0.011215  1.343536  32.681061 -2.406311        1\n",
      "199706  0.003525  0.021652  1.316452  32.694519 -2.383423        1\n",
      "199707 -0.000046  0.030212  1.325989  32.657135 -2.360535        1\n",
      "199708  0.001968  0.012039  1.280975  32.691559 -2.345276        1\n",
      "199709  0.001144  0.020920  1.357651  32.678101 -2.320862        1\n"
     ]
    }
   ],
   "source": [
    "s4_path = \"\\S4\\S4.pkl\"\n",
    "s4 = load_data(s4_path)\n",
    "print(s4.head())\n",
    "print()\n",
    "print('Shape:')\n",
    "print(s4.shape)\n",
    "print()\n",
    "print('dtypes:')\n",
    "print(s4.dtypes)\n",
    "print()\n",
    "print('Value Counts:')\n",
    "print(s4['w_label'].value_counts())\n",
    "print()\n",
    "s4_final = s4.drop(['c_ax','c_ay','c_az'] , axis = 1)\n",
    "print(s4_final.head())"
   ]
  },
  {
   "cell_type": "code",
   "execution_count": 22,
   "metadata": {
    "colab": {
     "base_uri": "https://localhost:8080/"
    },
    "id": "UZGoGFxLRKxz",
    "outputId": "8adfc798-9065-4ca6-8e5f-b7f919871214"
   },
   "outputs": [
    {
     "name": "stdout",
     "output_type": "stream",
     "text": [
      "Baseline:\n",
      "(810601, 6)\n",
      "(810601, 5)\n",
      "\n",
      "Stress:\n",
      "(444500, 6)\n",
      "(444500, 5)\n",
      "\n",
      "Amusement:\n",
      "(260400, 6)\n",
      "(260400, 5)\n"
     ]
    }
   ],
   "source": [
    "print('Baseline:')\n",
    "s4_base = s4_final.loc[s4_final['w_label'].isin([1])]\n",
    "print(s4_base.shape)\n",
    "s4_basex = s4_base.drop('w_label' ,axis = 1)\n",
    "print(s4_basex.shape)\n",
    "print()\n",
    "print('Stress:')\n",
    "s4_stress = s4_final.loc[s4_final['w_label'].isin([2])]\n",
    "print(s4_stress.shape)\n",
    "s4_stressx = s4_stress.drop('w_label',axis = 1)\n",
    "print(s4_stressx.shape)\n",
    "print()\n",
    "print('Amusement:')\n",
    "s4_amuse = s4_final.loc[s4_final['w_label'].isin([3])]\n",
    "print(s4_amuse.shape)\n",
    "s4_amusex = s4_amuse.drop('w_label',axis =1)\n",
    "print(s4_amusex.shape)"
   ]
  },
  {
   "cell_type": "code",
   "execution_count": 23,
   "metadata": {
    "colab": {
     "base_uri": "https://localhost:8080/"
    },
    "id": "bPxD0n15PGrH",
    "outputId": "e9a71984-d2dd-455c-b441-2d08733f960e"
   },
   "outputs": [
    {
     "name": "stdout",
     "output_type": "stream",
     "text": [
      "Creating windows:\n",
      "\n",
      "Baseline:\n",
      "577\n",
      "577\n",
      "(577, 5, 3500)\n",
      "(577,)\n",
      "\n",
      "Stress:\n",
      "316\n",
      "316\n",
      "(316, 5, 3500)\n",
      "(316,)\n",
      "\n",
      "Amusement:\n",
      "184\n",
      "184\n",
      "(184, 5, 3500)\n",
      "(184,)\n"
     ]
    },
    {
     "name": "stderr",
     "output_type": "stream",
     "text": [
      "C:\\Users\\user\\AppData\\Local\\Temp/ipykernel_19452/3869773005.py:6: DeprecationWarning: `np.int` is a deprecated alias for the builtin `int`. To silence this warning, use `int` by itself. Doing this will not modify any behavior and is safe. When replacing `np.int`, you may wish to use e.g. `np.int64` or `np.int32` to specify the precision. If you wish to review your current use, check the release note link for additional information.\n",
      "Deprecated in NumPy 1.20; for more details and guidance: https://numpy.org/devdocs/release/1.20.0-notes.html#deprecations\n",
      "  y = np.full( shape= y_no, fill_value= category, dtype=np.int)\n"
     ]
    }
   ],
   "source": [
    "print('Creating windows:')\n",
    "print()\n",
    "print('Baseline:')\n",
    "s4_basexw, count = window(s4_basex , 3500 ,1400)\n",
    "print(count)\n",
    "print(len(s4_basexw))\n",
    "\n",
    "s4_basexwa , s4_basey  = data_ready(s4_basexw , count , 1)\n",
    "print(s4_basexwa.shape)\n",
    "print(s4_basey.shape)\n",
    "\n",
    "print()\n",
    "print('Stress:')\n",
    "s4_stressxw, count = window(s4_stressx , 3500 ,1400)\n",
    "print(count)\n",
    "print(len(s4_stressxw))\n",
    "s4_stressxwa , s4_stressy  = data_ready(s4_stressxw , count , 2)\n",
    "print(s4_stressxwa.shape)\n",
    "print(s4_stressy.shape)\n",
    "\n",
    "print()\n",
    "print('Amusement:')\n",
    "s4_amusexw, count = window(s4_amusex , 3500 ,1400)\n",
    "print(count)\n",
    "print(len(s4_amusexw))\n",
    "s4_amusexwa , s4_amusey  = data_ready(s4_amusexw , count , 3)\n",
    "print(s4_amusexwa.shape)\n",
    "print(s4_amusey.shape)"
   ]
  },
  {
   "cell_type": "markdown",
   "metadata": {
    "id": "0pMJOYsGRY_N"
   },
   "source": [
    "### **S4_baseline**"
   ]
  },
  {
   "cell_type": "code",
   "execution_count": 24,
   "metadata": {
    "id": "Baoo5F8NQDBQ"
   },
   "outputs": [
    {
     "name": "stderr",
     "output_type": "stream",
     "text": [
      "C:\\Users\\user\\AppData\\Local\\Temp/ipykernel_19452/3137945625.py:25: MatplotlibDeprecationWarning: shading='flat' when X and Y have the same dimensions as C is deprecated since 3.3.  Either specify the corners of the quadrilaterals with X and Y, or pass shading='auto', 'nearest' or 'gouraud', or set rcParams['pcolor.shading'].  This will become an error two minor releases later.\n",
      "  ax.pcolormesh(t, f, Sxx_i, norm=colors.LogNorm(vmin=Sxx_i.min(), vmax=Sxx_i.max()), cmap='inferno')\n"
     ]
    }
   ],
   "source": [
    "# Load data\n",
    "data = np.array(s4_basexwa[:,0,:])\n",
    "# Specify the path to save the spectrogram images\n",
    "path = 'D:\\WESAD_code\\WESAD_final\\S4_baseline'\n",
    "# Generate spectrogram images and save them as .png files\n",
    "Sxx = generate_spectrograms(data, path)\n",
    "save_spectrograms_as_npy(path)"
   ]
  },
  {
   "cell_type": "markdown",
   "metadata": {
    "id": "Ymzk112YRpNJ"
   },
   "source": [
    "### **S4_stress**"
   ]
  },
  {
   "cell_type": "code",
   "execution_count": 25,
   "metadata": {
    "id": "M0zKakiTRnFm"
   },
   "outputs": [
    {
     "name": "stderr",
     "output_type": "stream",
     "text": [
      "C:\\Users\\user\\AppData\\Local\\Temp/ipykernel_19452/3137945625.py:25: MatplotlibDeprecationWarning: shading='flat' when X and Y have the same dimensions as C is deprecated since 3.3.  Either specify the corners of the quadrilaterals with X and Y, or pass shading='auto', 'nearest' or 'gouraud', or set rcParams['pcolor.shading'].  This will become an error two minor releases later.\n",
      "  ax.pcolormesh(t, f, Sxx_i, norm=colors.LogNorm(vmin=Sxx_i.min(), vmax=Sxx_i.max()), cmap='inferno')\n"
     ]
    }
   ],
   "source": [
    "# Load data\n",
    "data = np.array(s4_stressxwa[:,0,:])\n",
    "# Specify the path to save the spectrogram images\n",
    "path = 'D:\\WESAD_code\\WESAD_final\\S4_stress'\n",
    "# Generate spectrogram images and save them as .png files\n",
    "Sxx = generate_spectrograms(data, path)\n",
    "save_spectrograms_as_npy(path)"
   ]
  },
  {
   "cell_type": "markdown",
   "metadata": {
    "id": "8of4lbr6SODR"
   },
   "source": [
    "### **S4_amusement**"
   ]
  },
  {
   "cell_type": "code",
   "execution_count": 26,
   "metadata": {
    "id": "zpmQDjv1SCD2"
   },
   "outputs": [
    {
     "name": "stderr",
     "output_type": "stream",
     "text": [
      "C:\\Users\\user\\AppData\\Local\\Temp/ipykernel_19452/3137945625.py:25: MatplotlibDeprecationWarning: shading='flat' when X and Y have the same dimensions as C is deprecated since 3.3.  Either specify the corners of the quadrilaterals with X and Y, or pass shading='auto', 'nearest' or 'gouraud', or set rcParams['pcolor.shading'].  This will become an error two minor releases later.\n",
      "  ax.pcolormesh(t, f, Sxx_i, norm=colors.LogNorm(vmin=Sxx_i.min(), vmax=Sxx_i.max()), cmap='inferno')\n"
     ]
    }
   ],
   "source": [
    "# Load data\n",
    "data = np.array(s4_amusexwa[:,0,:])\n",
    "# Specify the path to save the spectrogram images\n",
    "path = 'D:\\WESAD_code\\WESAD_final\\S4_amuse'\n",
    "# Generate spectrogram images and save them as .png files\n",
    "Sxx = generate_spectrograms(data, path)\n",
    "save_spectrograms_as_npy(path)"
   ]
  },
  {
   "cell_type": "markdown",
   "metadata": {
    "id": "-nNm4F7zx12g"
   },
   "source": [
    "**Labels_S4**"
   ]
  },
  {
   "cell_type": "code",
   "execution_count": 27,
   "metadata": {
    "colab": {
     "base_uri": "https://localhost:8080/"
    },
    "id": "qIs9ApsAx74u",
    "outputId": "3983bcdf-5fd3-4952-b8cd-e5fafc0af4bf"
   },
   "outputs": [
    {
     "name": "stdout",
     "output_type": "stream",
     "text": [
      "(1077, 224, 224, 3)\n",
      "(1077, 3)\n"
     ]
    }
   ],
   "source": [
    "# Provide the file paths for participant 1\n",
    "file_paths = [\n",
    "    'D:\\WESAD_code\\WESAD_final\\S4_baseline\\Sxx.npy',\n",
    "    'D:\\WESAD_code\\WESAD_final\\S4_stress\\Sxx.npy',\n",
    "    'D:\\WESAD_code\\WESAD_final\\S4_amuse\\Sxx.npy'\n",
    "]\n",
    "\n",
    "# Specify the path where you want to save the concatenated arrays and labels\n",
    "save_path = \"D:\\WESAD_code\\WESAD_final\\S4_data_label\"\n",
    "\n",
    "# Call the concatenate_and_label_arrays function\n",
    "concatenate_and_label_arrays(file_paths, save_path)\n",
    "\n",
    "concatenated_array = np.load(save_path + '/data.npy')\n",
    "concatenated_labels = np.load(save_path + '/labels.npy')\n",
    "\n",
    "# Access the shape of the concatenated array and concatenated labels\n",
    "print(concatenated_array.shape)\n",
    "print(concatenated_labels.shape)"
   ]
  },
  {
   "cell_type": "markdown",
   "metadata": {
    "id": "TGMTuplOTPZZ"
   },
   "source": [
    "# **S5**"
   ]
  },
  {
   "cell_type": "code",
   "execution_count": 28,
   "metadata": {
    "colab": {
     "base_uri": "https://localhost:8080/"
    },
    "id": "0e2QcclmTKK7",
    "outputId": "805889f2-b1b7-49a5-fae4-9e08af988f52"
   },
   "outputs": [
    {
     "name": "stdout",
     "output_type": "stream",
     "text": [
      "          c_ax    c_ay    c_az     c_ecg     c_emg     c_eda     c_temp  \\\n",
      "195560  0.8408 -0.0390 -0.3862 -0.028976 -0.007828  6.387711  34.251160   \n",
      "195561  0.8418 -0.0422 -0.3862 -0.029114 -0.003296  6.384277  34.252716   \n",
      "195562  0.8386 -0.0390 -0.3906 -0.030212 -0.005264  6.398392  34.249634   \n",
      "195563  0.8406 -0.0394 -0.3914 -0.030991 -0.003159  6.392288  34.298553   \n",
      "195564  0.8424 -0.0434 -0.3914 -0.031906 -0.001968  6.385803  34.326050   \n",
      "\n",
      "          c_resp  w_label  \n",
      "195560  2.789307        1  \n",
      "195561  2.891541        1  \n",
      "195562  2.861023        1  \n",
      "195563  2.833557        1  \n",
      "195564  2.857971        1  \n",
      "\n",
      "Shape:\n",
      "(1551900, 9)\n",
      "\n",
      "dtypes:\n",
      "c_ax       float64\n",
      "c_ay       float64\n",
      "c_az       float64\n",
      "c_ecg      float64\n",
      "c_emg      float64\n",
      "c_eda      float64\n",
      "c_temp     float64\n",
      "c_resp     float64\n",
      "w_label      int32\n",
      "dtype: object\n",
      "\n",
      "Value Counts:\n",
      "1    838600\n",
      "2    451500\n",
      "3    261800\n",
      "Name: w_label, dtype: int64\n",
      "\n",
      "           c_ecg     c_emg     c_eda     c_temp    c_resp  w_label\n",
      "195560 -0.028976 -0.007828  6.387711  34.251160  2.789307        1\n",
      "195561 -0.029114 -0.003296  6.384277  34.252716  2.891541        1\n",
      "195562 -0.030212 -0.005264  6.398392  34.249634  2.861023        1\n",
      "195563 -0.030991 -0.003159  6.392288  34.298553  2.833557        1\n",
      "195564 -0.031906 -0.001968  6.385803  34.326050  2.857971        1\n"
     ]
    }
   ],
   "source": [
    "s5_path = \"\\S5\\S5.pkl\"\n",
    "s5 = load_data(s5_path)\n",
    "print(s5.head())\n",
    "print()\n",
    "print('Shape:')\n",
    "print(s5.shape)\n",
    "print()\n",
    "print('dtypes:')\n",
    "print(s5.dtypes)\n",
    "print()\n",
    "print('Value Counts:')\n",
    "print(s5['w_label'].value_counts())\n",
    "print()\n",
    "s5_final = s5.drop(['c_ax','c_ay','c_az'] , axis = 1)\n",
    "print(s5_final.head())"
   ]
  },
  {
   "cell_type": "code",
   "execution_count": 29,
   "metadata": {
    "colab": {
     "base_uri": "https://localhost:8080/"
    },
    "id": "-khJAf6yTV8j",
    "outputId": "31b345d9-1855-4c45-9549-2f846e3c7685"
   },
   "outputs": [
    {
     "name": "stdout",
     "output_type": "stream",
     "text": [
      "Baseline:\n",
      "(838600, 6)\n",
      "(838600, 5)\n",
      "\n",
      "Stress:\n",
      "(451500, 6)\n",
      "(451500, 5)\n",
      "\n",
      "Amusement:\n",
      "(261800, 6)\n",
      "(261800, 5)\n"
     ]
    }
   ],
   "source": [
    "print('Baseline:')\n",
    "s5_base = s5_final.loc[s5_final['w_label'].isin([1])]\n",
    "print(s5_base.shape)\n",
    "s5_basex = s5_base.drop('w_label' ,axis = 1)\n",
    "print(s5_basex.shape)\n",
    "print()\n",
    "print('Stress:')\n",
    "s5_stress = s5_final.loc[s5_final['w_label'].isin([2])]\n",
    "print(s5_stress.shape)\n",
    "s5_stressx = s5_stress.drop('w_label',axis = 1)\n",
    "print(s5_stressx.shape)\n",
    "print()\n",
    "print('Amusement:')\n",
    "s5_amuse = s5_final.loc[s5_final['w_label'].isin([3])]\n",
    "print(s5_amuse.shape)\n",
    "s5_amusex = s5_amuse.drop('w_label',axis =1)\n",
    "print(s5_amusex.shape)"
   ]
  },
  {
   "cell_type": "code",
   "execution_count": 30,
   "metadata": {
    "colab": {
     "base_uri": "https://localhost:8080/"
    },
    "id": "0-fZiHWiTlvP",
    "outputId": "59957971-be50-4406-c1e2-215e58a86292",
    "scrolled": false
   },
   "outputs": [
    {
     "name": "stdout",
     "output_type": "stream",
     "text": [
      "Creating windows:\n",
      "\n",
      "Baseline:\n",
      "597\n",
      "597\n",
      "(597, 5, 3500)\n",
      "(597,)\n",
      "\n",
      "Stress:\n",
      "321\n",
      "321\n",
      "(321, 5, 3500)\n",
      "(321,)\n",
      "\n",
      "Amusement:\n",
      "185\n",
      "185\n",
      "(185, 5, 3500)\n",
      "(185,)\n"
     ]
    },
    {
     "name": "stderr",
     "output_type": "stream",
     "text": [
      "C:\\Users\\user\\AppData\\Local\\Temp/ipykernel_19452/3869773005.py:6: DeprecationWarning: `np.int` is a deprecated alias for the builtin `int`. To silence this warning, use `int` by itself. Doing this will not modify any behavior and is safe. When replacing `np.int`, you may wish to use e.g. `np.int64` or `np.int32` to specify the precision. If you wish to review your current use, check the release note link for additional information.\n",
      "Deprecated in NumPy 1.20; for more details and guidance: https://numpy.org/devdocs/release/1.20.0-notes.html#deprecations\n",
      "  y = np.full( shape= y_no, fill_value= category, dtype=np.int)\n"
     ]
    }
   ],
   "source": [
    "print('Creating windows:')\n",
    "print()\n",
    "print('Baseline:')\n",
    "s5_basexw, count = window(s5_basex , 3500 ,1400)\n",
    "print(count)\n",
    "print(len(s5_basexw))\n",
    "\n",
    "s5_basexwa , s5_basey  = data_ready(s5_basexw , count , 1)\n",
    "print(s5_basexwa.shape)\n",
    "print(s5_basey.shape)\n",
    "\n",
    "print()\n",
    "print('Stress:')\n",
    "s5_stressxw, count = window(s5_stressx , 3500 ,1400)\n",
    "print(count)\n",
    "print(len(s5_stressxw))\n",
    "s5_stressxwa , s5_stressy  = data_ready(s5_stressxw , count , 2)\n",
    "print(s5_stressxwa.shape)\n",
    "print(s5_stressy.shape)\n",
    "\n",
    "print()\n",
    "print('Amusement:')\n",
    "s5_amusexw, count = window(s5_amusex , 3500 ,1400)\n",
    "print(count)\n",
    "print(len(s5_amusexw))\n",
    "s5_amusexwa , s5_amusey  = data_ready(s5_amusexw , count , 3)\n",
    "print(s5_amusexwa.shape)\n",
    "print(s5_amusey.shape)"
   ]
  },
  {
   "cell_type": "markdown",
   "metadata": {
    "id": "_BlqgoPnTv5f"
   },
   "source": [
    "### **S5_baseline**"
   ]
  },
  {
   "cell_type": "code",
   "execution_count": 31,
   "metadata": {
    "id": "dh0N0FbKTpiG"
   },
   "outputs": [
    {
     "name": "stderr",
     "output_type": "stream",
     "text": [
      "C:\\Users\\user\\AppData\\Local\\Temp/ipykernel_19452/3137945625.py:25: MatplotlibDeprecationWarning: shading='flat' when X and Y have the same dimensions as C is deprecated since 3.3.  Either specify the corners of the quadrilaterals with X and Y, or pass shading='auto', 'nearest' or 'gouraud', or set rcParams['pcolor.shading'].  This will become an error two minor releases later.\n",
      "  ax.pcolormesh(t, f, Sxx_i, norm=colors.LogNorm(vmin=Sxx_i.min(), vmax=Sxx_i.max()), cmap='inferno')\n"
     ]
    }
   ],
   "source": [
    "# Load data\n",
    "data = np.array(s5_basexwa[:,0,:])\n",
    "# Specify the path to save the spectrogram images\n",
    "path = 'D:\\WESAD_code\\WESAD_final\\S5_baseline'\n",
    "# Generate spectrogram images and save them as .png files\n",
    "Sxx = generate_spectrograms(data, path)\n",
    "save_spectrograms_as_npy(path)"
   ]
  },
  {
   "cell_type": "markdown",
   "metadata": {
    "id": "Kt40XLgDT6lS"
   },
   "source": [
    "### **S5_stress**"
   ]
  },
  {
   "cell_type": "code",
   "execution_count": 32,
   "metadata": {
    "id": "5M_y8ASPT5SD"
   },
   "outputs": [
    {
     "name": "stderr",
     "output_type": "stream",
     "text": [
      "C:\\Users\\user\\AppData\\Local\\Temp/ipykernel_19452/3137945625.py:25: MatplotlibDeprecationWarning: shading='flat' when X and Y have the same dimensions as C is deprecated since 3.3.  Either specify the corners of the quadrilaterals with X and Y, or pass shading='auto', 'nearest' or 'gouraud', or set rcParams['pcolor.shading'].  This will become an error two minor releases later.\n",
      "  ax.pcolormesh(t, f, Sxx_i, norm=colors.LogNorm(vmin=Sxx_i.min(), vmax=Sxx_i.max()), cmap='inferno')\n"
     ]
    }
   ],
   "source": [
    "# Load data\n",
    "data = np.array(s5_stressxwa[:,0,:])\n",
    "# Specify the path to save the spectrogram images\n",
    "path = 'D:\\WESAD_code\\WESAD_final\\S5_stress'\n",
    "# Generate spectrogram images and save them as .png files\n",
    "Sxx = generate_spectrograms(data, path)\n",
    "save_spectrograms_as_npy(path)"
   ]
  },
  {
   "cell_type": "markdown",
   "metadata": {
    "id": "CcigEMhcUV_e"
   },
   "source": [
    "**S5_amusement**"
   ]
  },
  {
   "cell_type": "code",
   "execution_count": 33,
   "metadata": {
    "id": "3aK0kn_kUSaN"
   },
   "outputs": [
    {
     "name": "stderr",
     "output_type": "stream",
     "text": [
      "C:\\Users\\user\\AppData\\Local\\Temp/ipykernel_19452/3137945625.py:25: MatplotlibDeprecationWarning: shading='flat' when X and Y have the same dimensions as C is deprecated since 3.3.  Either specify the corners of the quadrilaterals with X and Y, or pass shading='auto', 'nearest' or 'gouraud', or set rcParams['pcolor.shading'].  This will become an error two minor releases later.\n",
      "  ax.pcolormesh(t, f, Sxx_i, norm=colors.LogNorm(vmin=Sxx_i.min(), vmax=Sxx_i.max()), cmap='inferno')\n"
     ]
    }
   ],
   "source": [
    "# Load data\n",
    "data = np.array(s5_amusexwa[:,0,:])\n",
    "# Specify the path to save the spectrogram images\n",
    "path = 'D:\\WESAD_code\\WESAD_final\\S5_amuse'\n",
    "# Generate spectrogram images and save them as .png files\n",
    "Sxx = generate_spectrograms(data, path)\n",
    "save_spectrograms_as_npy(path)"
   ]
  },
  {
   "cell_type": "code",
   "execution_count": 34,
   "metadata": {
    "colab": {
     "base_uri": "https://localhost:8080/"
    },
    "id": "69n9nkJs6gkd",
    "outputId": "f636c79b-660e-45ff-a852-fd1f63addd08"
   },
   "outputs": [
    {
     "name": "stdout",
     "output_type": "stream",
     "text": [
      "(1103, 224, 224, 3)\n",
      "(1103, 3)\n"
     ]
    }
   ],
   "source": [
    "# Provide the file paths for participant 1\n",
    "file_paths = [\n",
    "    'D:\\WESAD_code\\WESAD_final\\S5_baseline\\Sxx.npy',\n",
    "    'D:\\WESAD_code\\WESAD_final\\S5_stress\\Sxx.npy',\n",
    "    'D:\\WESAD_code\\WESAD_final\\S5_amuse\\Sxx.npy'\n",
    "]\n",
    "\n",
    "# Specify the path where you want to save the concatenated arrays and labels\n",
    "save_path = \"D:\\WESAD_code\\WESAD_final\\S5_data_label\"\n",
    "\n",
    "# Call the concatenate_and_label_arrays function\n",
    "concatenate_and_label_arrays(file_paths, save_path)\n",
    "\n",
    "concatenated_array = np.load(save_path + '/data.npy')\n",
    "concatenated_labels = np.load(save_path + '/labels.npy')\n",
    "\n",
    "# Access the shape of the concatenated array and concatenated labels\n",
    "print(concatenated_array.shape)\n",
    "print(concatenated_labels.shape)"
   ]
  },
  {
   "cell_type": "markdown",
   "metadata": {
    "id": "5fRb2_63U6_y"
   },
   "source": [
    "# **S6**"
   ]
  },
  {
   "cell_type": "code",
   "execution_count": 35,
   "metadata": {
    "colab": {
     "base_uri": "https://localhost:8080/"
    },
    "id": "6J3J1DiQUiHQ",
    "outputId": "9e69d4c5-9ca4-4d6b-f80a-1de90dff8c55"
   },
   "outputs": [
    {
     "name": "stdout",
     "output_type": "stream",
     "text": [
      "          c_ax    c_ay    c_az     c_ecg     c_emg     c_eda     c_temp  \\\n",
      "449887  0.6280 -0.0082 -0.7272  0.016937  0.134720  9.645462  33.432587   \n",
      "449888  0.6276 -0.0056 -0.7262  0.017853  0.216248  9.645462  33.459747   \n",
      "449889  0.6270 -0.0054 -0.7200  0.016525  0.142136  9.646606  33.452240   \n",
      "449890  0.6266 -0.0070 -0.7174  0.012863  0.033371  9.646225  33.453735   \n",
      "449891  0.6242 -0.0078 -0.7202  0.007278 -0.024994  9.646988  33.426544   \n",
      "\n",
      "          c_resp  w_label  \n",
      "449887  4.010010        1  \n",
      "449888  4.039001        1  \n",
      "449889  3.993225        1  \n",
      "449890  4.002380        1  \n",
      "449891  3.996277        1  \n",
      "\n",
      "Shape:\n",
      "(1541400, 9)\n",
      "\n",
      "dtypes:\n",
      "c_ax       float64\n",
      "c_ay       float64\n",
      "c_az       float64\n",
      "c_ecg      float64\n",
      "c_emg      float64\n",
      "c_eda      float64\n",
      "c_temp     float64\n",
      "c_resp     float64\n",
      "w_label      int32\n",
      "dtype: object\n",
      "\n",
      "Value Counts:\n",
      "1    826000\n",
      "2    455000\n",
      "3    260400\n",
      "Name: w_label, dtype: int64\n",
      "\n",
      "           c_ecg     c_emg     c_eda     c_temp    c_resp  w_label\n",
      "449887  0.016937  0.134720  9.645462  33.432587  4.010010        1\n",
      "449888  0.017853  0.216248  9.645462  33.459747  4.039001        1\n",
      "449889  0.016525  0.142136  9.646606  33.452240  3.993225        1\n",
      "449890  0.012863  0.033371  9.646225  33.453735  4.002380        1\n",
      "449891  0.007278 -0.024994  9.646988  33.426544  3.996277        1\n"
     ]
    }
   ],
   "source": [
    "s6_path = \"\\S6\\S6.pkl\"\n",
    "s6 = load_data(s6_path)\n",
    "print(s6.head())\n",
    "print()\n",
    "print('Shape:')\n",
    "print(s6.shape)\n",
    "print()\n",
    "print('dtypes:')\n",
    "print(s6.dtypes)\n",
    "print()\n",
    "print('Value Counts:')\n",
    "print(s6['w_label'].value_counts())\n",
    "print()\n",
    "s6_final = s6.drop(['c_ax','c_ay','c_az'] , axis = 1)\n",
    "print(s6_final.head())"
   ]
  },
  {
   "cell_type": "code",
   "execution_count": 36,
   "metadata": {
    "colab": {
     "base_uri": "https://localhost:8080/"
    },
    "id": "bJeTuU5RVAKh",
    "outputId": "70557358-e2c7-494a-816f-6f57d4d09d9e"
   },
   "outputs": [
    {
     "name": "stdout",
     "output_type": "stream",
     "text": [
      "Baseline:\n",
      "(826000, 6)\n",
      "(826000, 5)\n",
      "\n",
      "Stress:\n",
      "(455000, 6)\n",
      "(455000, 5)\n",
      "\n",
      "Amusement:\n",
      "(260400, 6)\n",
      "(260400, 5)\n"
     ]
    }
   ],
   "source": [
    "print('Baseline:')\n",
    "s6_base = s6_final.loc[s6_final['w_label'].isin([1])]\n",
    "print(s6_base.shape)\n",
    "s6_basex = s6_base.drop('w_label' ,axis = 1)\n",
    "print(s6_basex.shape)\n",
    "print()\n",
    "print('Stress:')\n",
    "s6_stress = s6_final.loc[s6_final['w_label'].isin([2])]\n",
    "print(s6_stress.shape)\n",
    "s6_stressx = s6_stress.drop('w_label',axis = 1)\n",
    "print(s6_stressx.shape)\n",
    "print()\n",
    "print('Amusement:')\n",
    "s6_amuse = s6_final.loc[s6_final['w_label'].isin([3])]\n",
    "print(s6_amuse.shape)\n",
    "s6_amusex = s6_amuse.drop('w_label',axis =1)\n",
    "print(s6_amusex.shape)"
   ]
  },
  {
   "cell_type": "code",
   "execution_count": 37,
   "metadata": {
    "colab": {
     "base_uri": "https://localhost:8080/"
    },
    "id": "3Ed3np2OVGFt",
    "outputId": "7b2d7d44-c4fc-44cd-ac21-59b57849999b"
   },
   "outputs": [
    {
     "name": "stdout",
     "output_type": "stream",
     "text": [
      "Creating windows:\n",
      "\n",
      "Baseline:\n",
      "588\n",
      "588\n",
      "(588, 5, 3500)\n",
      "(588,)\n",
      "\n",
      "Stress:\n",
      "323\n",
      "323\n",
      "(323, 5, 3500)\n",
      "(323,)\n",
      "\n",
      "Amusement:\n",
      "184\n",
      "184\n",
      "(184, 5, 3500)\n",
      "(184,)\n"
     ]
    },
    {
     "name": "stderr",
     "output_type": "stream",
     "text": [
      "C:\\Users\\user\\AppData\\Local\\Temp/ipykernel_19452/3869773005.py:6: DeprecationWarning: `np.int` is a deprecated alias for the builtin `int`. To silence this warning, use `int` by itself. Doing this will not modify any behavior and is safe. When replacing `np.int`, you may wish to use e.g. `np.int64` or `np.int32` to specify the precision. If you wish to review your current use, check the release note link for additional information.\n",
      "Deprecated in NumPy 1.20; for more details and guidance: https://numpy.org/devdocs/release/1.20.0-notes.html#deprecations\n",
      "  y = np.full( shape= y_no, fill_value= category, dtype=np.int)\n"
     ]
    }
   ],
   "source": [
    "print('Creating windows:')\n",
    "print()\n",
    "print('Baseline:')\n",
    "s6_basexw, count = window(s6_basex , 3500 ,1400)\n",
    "print(count)\n",
    "print(len(s6_basexw))\n",
    "\n",
    "s6_basexwa , s6_basey  = data_ready(s6_basexw , count , 1)\n",
    "print(s6_basexwa.shape)\n",
    "print(s6_basey.shape)\n",
    "\n",
    "print()\n",
    "print('Stress:')\n",
    "s6_stressxw, count = window(s6_stressx , 3500 ,1400)\n",
    "print(count)\n",
    "print(len(s6_stressxw))\n",
    "s6_stressxwa , s6_stressy  = data_ready(s6_stressxw , count , 2)\n",
    "print(s6_stressxwa.shape)\n",
    "print(s6_stressy.shape)\n",
    "\n",
    "print()\n",
    "print('Amusement:')\n",
    "s6_amusexw, count = window(s6_amusex , 3500 ,1400)\n",
    "print(count)\n",
    "print(len(s6_amusexw))\n",
    "s6_amusexwa , s6_amusey  = data_ready(s6_amusexw , count , 3)\n",
    "print(s6_amusexwa.shape)\n",
    "print(s6_amusey.shape)"
   ]
  },
  {
   "cell_type": "markdown",
   "metadata": {
    "id": "-iveRt23VNaV"
   },
   "source": [
    "### **S6_baseline**"
   ]
  },
  {
   "cell_type": "code",
   "execution_count": 38,
   "metadata": {
    "colab": {
     "background_save": true
    },
    "id": "wd8Td3yAVIcp"
   },
   "outputs": [
    {
     "name": "stderr",
     "output_type": "stream",
     "text": [
      "C:\\Users\\user\\AppData\\Local\\Temp/ipykernel_19452/3137945625.py:25: MatplotlibDeprecationWarning: shading='flat' when X and Y have the same dimensions as C is deprecated since 3.3.  Either specify the corners of the quadrilaterals with X and Y, or pass shading='auto', 'nearest' or 'gouraud', or set rcParams['pcolor.shading'].  This will become an error two minor releases later.\n",
      "  ax.pcolormesh(t, f, Sxx_i, norm=colors.LogNorm(vmin=Sxx_i.min(), vmax=Sxx_i.max()), cmap='inferno')\n"
     ]
    }
   ],
   "source": [
    "# Load data\n",
    "data = np.array(s6_basexwa[:,0,:])\n",
    "# Specify the path to save the spectrogram images\n",
    "path = 'D:\\WESAD_code\\WESAD_final\\S6_baseline'\n",
    "# Generate spectrogram images and save them as .png files\n",
    "Sxx = generate_spectrograms(data, path)\n",
    "save_spectrograms_as_npy(path)"
   ]
  },
  {
   "cell_type": "markdown",
   "metadata": {
    "id": "zeVp2ekUVWy1"
   },
   "source": [
    "### **S6_stress**"
   ]
  },
  {
   "cell_type": "code",
   "execution_count": 39,
   "metadata": {
    "colab": {
     "background_save": true
    },
    "id": "U1fFIXC0VVTj"
   },
   "outputs": [
    {
     "name": "stderr",
     "output_type": "stream",
     "text": [
      "C:\\Users\\user\\AppData\\Local\\Temp/ipykernel_19452/3137945625.py:25: MatplotlibDeprecationWarning: shading='flat' when X and Y have the same dimensions as C is deprecated since 3.3.  Either specify the corners of the quadrilaterals with X and Y, or pass shading='auto', 'nearest' or 'gouraud', or set rcParams['pcolor.shading'].  This will become an error two minor releases later.\n",
      "  ax.pcolormesh(t, f, Sxx_i, norm=colors.LogNorm(vmin=Sxx_i.min(), vmax=Sxx_i.max()), cmap='inferno')\n"
     ]
    }
   ],
   "source": [
    "# Load data\n",
    "data = np.array(s6_stressxwa[:,0,:])\n",
    "# Specify the path to save the spectrogram images\n",
    "path = 'D:\\WESAD_code\\WESAD_final\\S6_stress'\n",
    "# Generate spectrogram images and save them as .png files\n",
    "Sxx = generate_spectrograms(data, path)\n",
    "save_spectrograms_as_npy(path)"
   ]
  },
  {
   "cell_type": "markdown",
   "metadata": {
    "id": "pIGS0UzeWUT8"
   },
   "source": [
    "### **S6_amusement**"
   ]
  },
  {
   "cell_type": "code",
   "execution_count": 43,
   "metadata": {
    "colab": {
     "background_save": true
    },
    "id": "Bsqf0wVHWTIw"
   },
   "outputs": [
    {
     "name": "stderr",
     "output_type": "stream",
     "text": [
      "C:\\Users\\user\\AppData\\Local\\Temp/ipykernel_19452/3137945625.py:25: MatplotlibDeprecationWarning: shading='flat' when X and Y have the same dimensions as C is deprecated since 3.3.  Either specify the corners of the quadrilaterals with X and Y, or pass shading='auto', 'nearest' or 'gouraud', or set rcParams['pcolor.shading'].  This will become an error two minor releases later.\n",
      "  ax.pcolormesh(t, f, Sxx_i, norm=colors.LogNorm(vmin=Sxx_i.min(), vmax=Sxx_i.max()), cmap='inferno')\n"
     ]
    }
   ],
   "source": [
    "# Load data\n",
    "data = np.array(s6_amusexwa[:,0,:])\n",
    "# Specify the path to save the spectrogram images\n",
    "path = 'D:\\WESAD_code\\WESAD_final\\S6_amuse'\n",
    "# Generate spectrogram images and save them as .png files\n",
    "Sxx = generate_spectrograms(data, path)\n",
    "save_spectrograms_as_npy(path)"
   ]
  },
  {
   "cell_type": "markdown",
   "metadata": {
    "id": "c8U2WrSJ-cXG"
   },
   "source": [
    "**Labels_S6**"
   ]
  },
  {
   "cell_type": "code",
   "execution_count": 44,
   "metadata": {
    "colab": {
     "background_save": true
    },
    "id": "jesMHWGz-0ar",
    "outputId": "9d411e4f-affe-4098-8980-e9924500a108"
   },
   "outputs": [
    {
     "name": "stdout",
     "output_type": "stream",
     "text": [
      "(1095, 224, 224, 3)\n",
      "(1095, 3)\n"
     ]
    }
   ],
   "source": [
    "# Provide the file paths for participant 1\n",
    "file_paths = [\n",
    "    'D:\\WESAD_code\\WESAD_final\\S6_baseline\\Sxx.npy',\n",
    "    'D:\\WESAD_code\\WESAD_final\\S6_stress\\Sxx.npy',\n",
    "    'D:\\WESAD_code\\WESAD_final\\S6_amuse\\Sxx.npy'\n",
    "]\n",
    "\n",
    "# Specify the path where you want to save the concatenated arrays and labels\n",
    "save_path = \"D:\\WESAD_code\\WESAD_final\\S6_data_label\"\n",
    "\n",
    "# Call the concatenate_and_label_arrays function\n",
    "concatenate_and_label_arrays(file_paths, save_path)\n",
    "\n",
    "concatenated_array = np.load(save_path + '/data.npy')\n",
    "concatenated_labels = np.load(save_path + '/labels.npy')\n",
    "\n",
    "# Access the shape of the concatenated array and concatenated labels\n",
    "print(concatenated_array.shape)\n",
    "print(concatenated_labels.shape)"
   ]
  },
  {
   "cell_type": "markdown",
   "metadata": {
    "id": "wBy7iDJrXDGc"
   },
   "source": [
    "# **S7**"
   ]
  },
  {
   "cell_type": "code",
   "execution_count": 45,
   "metadata": {
    "colab": {
     "background_save": true
    },
    "id": "49Ckk2PkW5Em",
    "outputId": "0474954f-756d-4ca5-9579-86d6442b92e8"
   },
   "outputs": [
    {
     "name": "stdout",
     "output_type": "stream",
     "text": [
      "         c_ax    c_ay    c_az     c_ecg     c_emg      c_eda     c_temp  \\\n",
      "70442  0.9002 -0.0758 -0.2070 -0.013504 -0.031540  12.968826  34.202301   \n",
      "70443  0.9018 -0.0744 -0.2090 -0.014694 -0.018723  12.967300  34.216064   \n",
      "70444  0.8996 -0.0734 -0.2078 -0.014603 -0.012955  12.965775  34.217560   \n",
      "70445  0.9014 -0.0750 -0.2088 -0.012955  0.005630  12.970352  34.222168   \n",
      "70446  0.8964 -0.0726 -0.2074 -0.005539  0.014923  12.968826  34.197754   \n",
      "\n",
      "         c_resp  w_label  \n",
      "70442 -0.292969        1  \n",
      "70443 -0.300598        1  \n",
      "70444 -0.297546        1  \n",
      "70445 -0.285339        1  \n",
      "70446 -0.276184        1  \n",
      "\n",
      "Shape:\n",
      "(1538601, 9)\n",
      "\n",
      "dtypes:\n",
      "c_ax       float64\n",
      "c_ay       float64\n",
      "c_az       float64\n",
      "c_ecg      float64\n",
      "c_emg      float64\n",
      "c_eda      float64\n",
      "c_temp     float64\n",
      "c_resp     float64\n",
      "w_label      int32\n",
      "dtype: object\n",
      "\n",
      "Value Counts:\n",
      "1    830200\n",
      "2    448000\n",
      "3    260401\n",
      "Name: w_label, dtype: int64\n",
      "\n",
      "          c_ecg     c_emg      c_eda     c_temp    c_resp  w_label\n",
      "70442 -0.013504 -0.031540  12.968826  34.202301 -0.292969        1\n",
      "70443 -0.014694 -0.018723  12.967300  34.216064 -0.300598        1\n",
      "70444 -0.014603 -0.012955  12.965775  34.217560 -0.297546        1\n",
      "70445 -0.012955  0.005630  12.970352  34.222168 -0.285339        1\n",
      "70446 -0.005539  0.014923  12.968826  34.197754 -0.276184        1\n"
     ]
    }
   ],
   "source": [
    "s7_path = \"\\S7\\S7.pkl\"\n",
    "s7 = load_data(s7_path)\n",
    "print(s7.head())\n",
    "print()\n",
    "print('Shape:')\n",
    "print(s7.shape)\n",
    "print()\n",
    "print('dtypes:')\n",
    "print(s7.dtypes)\n",
    "print()\n",
    "print('Value Counts:')\n",
    "print(s7['w_label'].value_counts())\n",
    "print()\n",
    "s7_final = s7.drop(['c_ax','c_ay','c_az'] , axis = 1)\n",
    "print(s7_final.head())"
   ]
  },
  {
   "cell_type": "code",
   "execution_count": 46,
   "metadata": {
    "colab": {
     "background_save": true
    },
    "id": "g3LDKedxYffo",
    "outputId": "65f9fc8e-748f-4d7e-e3d9-38ba88f04049"
   },
   "outputs": [
    {
     "name": "stdout",
     "output_type": "stream",
     "text": [
      "Baseline:\n",
      "(830200, 6)\n",
      "(830200, 5)\n",
      "\n",
      "Stress:\n",
      "(448000, 6)\n",
      "(448000, 5)\n",
      "\n",
      "Amusement:\n",
      "(260401, 6)\n",
      "(260401, 5)\n"
     ]
    }
   ],
   "source": [
    "print('Baseline:')\n",
    "s7_base = s7_final.loc[s7_final['w_label'].isin([1])]\n",
    "print(s7_base.shape)\n",
    "s7_basex = s7_base.drop('w_label' ,axis = 1)\n",
    "print(s7_basex.shape)\n",
    "print()\n",
    "print('Stress:')\n",
    "s7_stress = s7_final.loc[s7_final['w_label'].isin([2])]\n",
    "print(s7_stress.shape)\n",
    "s7_stressx = s7_stress.drop('w_label',axis = 1)\n",
    "print(s7_stressx.shape)\n",
    "print()\n",
    "print('Amusement:')\n",
    "s7_amuse = s7_final.loc[s7_final['w_label'].isin([3])]\n",
    "print(s7_amuse.shape)\n",
    "s7_amusex = s7_amuse.drop('w_label',axis =1)\n",
    "print(s7_amusex.shape)"
   ]
  },
  {
   "cell_type": "code",
   "execution_count": 47,
   "metadata": {
    "colab": {
     "background_save": true
    },
    "id": "xCwb8N7LYkPY",
    "outputId": "b6c45a3b-9311-4bac-8209-273870b8cebd"
   },
   "outputs": [
    {
     "name": "stdout",
     "output_type": "stream",
     "text": [
      "Creating windows:\n",
      "\n",
      "Baseline:\n",
      "591\n",
      "591\n",
      "(591, 5, 3500)\n",
      "(591,)\n",
      "\n",
      "Stress:\n",
      "318\n",
      "318\n",
      "(318, 5, 3500)\n",
      "(318,)\n",
      "\n",
      "Amusement:\n",
      "184\n",
      "184\n",
      "(184, 5, 3500)\n",
      "(184,)\n"
     ]
    },
    {
     "name": "stderr",
     "output_type": "stream",
     "text": [
      "C:\\Users\\user\\AppData\\Local\\Temp/ipykernel_19452/3869773005.py:6: DeprecationWarning: `np.int` is a deprecated alias for the builtin `int`. To silence this warning, use `int` by itself. Doing this will not modify any behavior and is safe. When replacing `np.int`, you may wish to use e.g. `np.int64` or `np.int32` to specify the precision. If you wish to review your current use, check the release note link for additional information.\n",
      "Deprecated in NumPy 1.20; for more details and guidance: https://numpy.org/devdocs/release/1.20.0-notes.html#deprecations\n",
      "  y = np.full( shape= y_no, fill_value= category, dtype=np.int)\n"
     ]
    }
   ],
   "source": [
    "print('Creating windows:')\n",
    "print()\n",
    "print('Baseline:')\n",
    "s7_basexw, count = window(s7_basex , 3500 ,1400)\n",
    "print(count)\n",
    "print(len(s7_basexw))\n",
    "\n",
    "s7_basexwa , s7_basey  = data_ready(s7_basexw , count , 1)\n",
    "print(s7_basexwa.shape)\n",
    "print(s7_basey.shape)\n",
    "\n",
    "print()\n",
    "print('Stress:')\n",
    "s7_stressxw, count = window(s7_stressx , 3500 ,1400)\n",
    "print(count)\n",
    "print(len(s7_stressxw))\n",
    "s7_stressxwa , s7_stressy  = data_ready(s7_stressxw , count , 2)\n",
    "print(s7_stressxwa.shape)\n",
    "print(s7_stressy.shape)\n",
    "\n",
    "print()\n",
    "print('Amusement:')\n",
    "s7_amusexw, count = window(s7_amusex , 3500 ,1400)\n",
    "print(count)\n",
    "print(len(s7_amusexw))\n",
    "s7_amusexwa , s7_amusey  = data_ready(s7_amusexw , count , 3)\n",
    "print(s7_amusexwa.shape)\n",
    "print(s7_amusey.shape)"
   ]
  },
  {
   "cell_type": "markdown",
   "metadata": {
    "id": "gqCIzJP2YrpP"
   },
   "source": [
    "**S7_baseline**"
   ]
  },
  {
   "cell_type": "code",
   "execution_count": 48,
   "metadata": {
    "colab": {
     "background_save": true
    },
    "id": "QKvYcT7mYm5o"
   },
   "outputs": [
    {
     "name": "stderr",
     "output_type": "stream",
     "text": [
      "C:\\Users\\user\\AppData\\Local\\Temp/ipykernel_19452/3137945625.py:25: MatplotlibDeprecationWarning: shading='flat' when X and Y have the same dimensions as C is deprecated since 3.3.  Either specify the corners of the quadrilaterals with X and Y, or pass shading='auto', 'nearest' or 'gouraud', or set rcParams['pcolor.shading'].  This will become an error two minor releases later.\n",
      "  ax.pcolormesh(t, f, Sxx_i, norm=colors.LogNorm(vmin=Sxx_i.min(), vmax=Sxx_i.max()), cmap='inferno')\n"
     ]
    }
   ],
   "source": [
    "# Load data\n",
    "data = np.array(s7_basexwa[:,0,:])\n",
    "# Specify the path to save the spectrogram images\n",
    "path = 'D:\\WESAD_code\\WESAD_final\\S7_baseline'\n",
    "# Generate spectrogram images and save them as .png files\n",
    "Sxx = generate_spectrograms(data, path)\n",
    "save_spectrograms_as_npy(path)"
   ]
  },
  {
   "cell_type": "markdown",
   "metadata": {
    "id": "wICfkniGY0bR"
   },
   "source": [
    "### **S7_stress**"
   ]
  },
  {
   "cell_type": "code",
   "execution_count": 49,
   "metadata": {
    "colab": {
     "background_save": true
    },
    "id": "4Z1XL-bPYzM7"
   },
   "outputs": [
    {
     "name": "stderr",
     "output_type": "stream",
     "text": [
      "C:\\Users\\user\\AppData\\Local\\Temp/ipykernel_19452/3137945625.py:25: MatplotlibDeprecationWarning: shading='flat' when X and Y have the same dimensions as C is deprecated since 3.3.  Either specify the corners of the quadrilaterals with X and Y, or pass shading='auto', 'nearest' or 'gouraud', or set rcParams['pcolor.shading'].  This will become an error two minor releases later.\n",
      "  ax.pcolormesh(t, f, Sxx_i, norm=colors.LogNorm(vmin=Sxx_i.min(), vmax=Sxx_i.max()), cmap='inferno')\n"
     ]
    }
   ],
   "source": [
    "# Load data\n",
    "data = np.array(s7_stressxwa[:,0,:])\n",
    "# Specify the path to save the spectrogram images\n",
    "path = 'D:\\WESAD_code\\WESAD_final\\S7_stress'\n",
    "# Generate spectrogram images and save them as .png files\n",
    "Sxx = generate_spectrograms(data, path)\n",
    "save_spectrograms_as_npy(path)"
   ]
  },
  {
   "cell_type": "markdown",
   "metadata": {
    "id": "S9w5cqEUZB99"
   },
   "source": [
    "### **S7_amusement**"
   ]
  },
  {
   "cell_type": "code",
   "execution_count": 50,
   "metadata": {
    "colab": {
     "background_save": true
    },
    "id": "d1f15ST4Y9UA"
   },
   "outputs": [
    {
     "name": "stderr",
     "output_type": "stream",
     "text": [
      "C:\\Users\\user\\AppData\\Local\\Temp/ipykernel_19452/3137945625.py:25: MatplotlibDeprecationWarning: shading='flat' when X and Y have the same dimensions as C is deprecated since 3.3.  Either specify the corners of the quadrilaterals with X and Y, or pass shading='auto', 'nearest' or 'gouraud', or set rcParams['pcolor.shading'].  This will become an error two minor releases later.\n",
      "  ax.pcolormesh(t, f, Sxx_i, norm=colors.LogNorm(vmin=Sxx_i.min(), vmax=Sxx_i.max()), cmap='inferno')\n"
     ]
    }
   ],
   "source": [
    "# Load data\n",
    "data = np.array(s7_amusexwa[:,0,:])\n",
    "# Specify the path to save the spectrogram images\n",
    "path = 'D:\\WESAD_code\\WESAD_final\\S7_amuse'\n",
    "# Generate spectrogram images and save them as .png files\n",
    "Sxx = generate_spectrograms(data, path)\n",
    "save_spectrograms_as_npy(path)"
   ]
  },
  {
   "cell_type": "markdown",
   "metadata": {
    "id": "5hIBRUJ6Dwbo"
   },
   "source": [
    "**Labels_S7**"
   ]
  },
  {
   "cell_type": "code",
   "execution_count": 51,
   "metadata": {
    "colab": {
     "background_save": true
    },
    "id": "sfyxT7c5D0KM",
    "outputId": "ae579e4c-f555-400a-edf7-7c3b37acc4ed"
   },
   "outputs": [
    {
     "name": "stdout",
     "output_type": "stream",
     "text": [
      "(1093, 224, 224, 3)\n",
      "(1093, 3)\n"
     ]
    }
   ],
   "source": [
    "# Provide the file paths for participant 1\n",
    "file_paths = [\n",
    "    'D:\\WESAD_code\\WESAD_final\\S7_baseline\\Sxx.npy',\n",
    "    'D:\\WESAD_code\\WESAD_final\\S7_stress\\Sxx.npy',\n",
    "    'D:\\WESAD_code\\WESAD_final\\S7_amuse\\Sxx.npy'\n",
    "]\n",
    "\n",
    "# Specify the path where you want to save the concatenated arrays and labels\n",
    "save_path = \"D:\\WESAD_code\\WESAD_final\\S7_data_label\"\n",
    "\n",
    "# Call the concatenate_and_label_arrays function\n",
    "concatenate_and_label_arrays(file_paths, save_path)\n",
    "\n",
    "concatenated_array = np.load(save_path + '/data.npy')\n",
    "concatenated_labels = np.load(save_path + '/labels.npy')\n",
    "\n",
    "# Access the shape of the concatenated array and concatenated labels\n",
    "print(concatenated_array.shape)\n",
    "print(concatenated_labels.shape)"
   ]
  },
  {
   "cell_type": "markdown",
   "metadata": {
    "id": "87Pz9VPOZ8XI"
   },
   "source": [
    "# **S8**"
   ]
  },
  {
   "cell_type": "code",
   "execution_count": 52,
   "metadata": {
    "colab": {
     "background_save": true
    },
    "id": "kNLlDEM_Z0JD",
    "outputId": "38221d16-713d-4217-95d3-3635955dd735"
   },
   "outputs": [
    {
     "name": "stdout",
     "output_type": "stream",
     "text": [
      "          c_ax    c_ay    c_az     c_ecg     c_emg     c_eda     c_temp  \\\n",
      "110972  0.7112 -0.1910 -0.6150 -0.015884  0.005951  4.188919  34.315338   \n",
      "110973  0.7112 -0.1934 -0.6150 -0.017349 -0.013412  4.185104  34.240479   \n",
      "110974  0.7114 -0.1932 -0.6130 -0.014511 -0.014786  4.186630  34.301605   \n",
      "110975  0.7108 -0.1922 -0.6122 -0.010391 -0.016663  4.201889  34.234375   \n",
      "110976  0.7082 -0.1922 -0.6078 -0.011169 -0.002151  4.198837  34.300049   \n",
      "\n",
      "          c_resp  w_label  \n",
      "110972  0.465393        1  \n",
      "110973  0.152588        1  \n",
      "110974  0.471497        1  \n",
      "110975  0.482178        1  \n",
      "110976  0.506592        1  \n",
      "\n",
      "Shape:\n",
      "(1546299, 9)\n",
      "\n",
      "dtypes:\n",
      "c_ax       float64\n",
      "c_ay       float64\n",
      "c_az       float64\n",
      "c_ecg      float64\n",
      "c_emg      float64\n",
      "c_eda      float64\n",
      "c_temp     float64\n",
      "c_resp     float64\n",
      "w_label      int32\n",
      "dtype: object\n",
      "\n",
      "Value Counts:\n",
      "1    818300\n",
      "2    469000\n",
      "3    258999\n",
      "Name: w_label, dtype: int64\n",
      "\n",
      "           c_ecg     c_emg     c_eda     c_temp    c_resp  w_label\n",
      "110972 -0.015884  0.005951  4.188919  34.315338  0.465393        1\n",
      "110973 -0.017349 -0.013412  4.185104  34.240479  0.152588        1\n",
      "110974 -0.014511 -0.014786  4.186630  34.301605  0.471497        1\n",
      "110975 -0.010391 -0.016663  4.201889  34.234375  0.482178        1\n",
      "110976 -0.011169 -0.002151  4.198837  34.300049  0.506592        1\n"
     ]
    }
   ],
   "source": [
    "s8_path = \"\\S8\\S8.pkl\"\n",
    "s8 = load_data(s8_path)\n",
    "print(s8.head())\n",
    "print()\n",
    "print('Shape:')\n",
    "print(s8.shape)\n",
    "print()\n",
    "print('dtypes:')\n",
    "print(s8.dtypes)\n",
    "print()\n",
    "print('Value Counts:')\n",
    "print(s8['w_label'].value_counts())\n",
    "print()\n",
    "s8_final = s8.drop(['c_ax','c_ay','c_az'] , axis = 1)\n",
    "print(s8_final.head())"
   ]
  },
  {
   "cell_type": "code",
   "execution_count": 53,
   "metadata": {
    "colab": {
     "background_save": true
    },
    "id": "64vnEVSdaAgH",
    "outputId": "eabc263e-be09-4729-95f2-5e8111510c05"
   },
   "outputs": [
    {
     "name": "stdout",
     "output_type": "stream",
     "text": [
      "Baseline:\n",
      "(818300, 6)\n",
      "(818300, 5)\n",
      "\n",
      "Stress:\n",
      "(469000, 6)\n",
      "(469000, 5)\n",
      "\n",
      "Amusement:\n",
      "(258999, 6)\n",
      "(258999, 5)\n"
     ]
    }
   ],
   "source": [
    "print('Baseline:')\n",
    "s8_base = s8_final.loc[s8_final['w_label'].isin([1])]\n",
    "print(s8_base.shape)\n",
    "s8_basex = s8_base.drop('w_label' ,axis = 1)\n",
    "print(s8_basex.shape)\n",
    "print()\n",
    "print('Stress:')\n",
    "s8_stress = s8_final.loc[s8_final['w_label'].isin([2])]\n",
    "print(s8_stress.shape)\n",
    "s8_stressx = s8_stress.drop('w_label',axis = 1)\n",
    "print(s8_stressx.shape)\n",
    "print()\n",
    "print('Amusement:')\n",
    "s8_amuse = s8_final.loc[s8_final['w_label'].isin([3])]\n",
    "print(s8_amuse.shape)\n",
    "s8_amusex = s8_amuse.drop('w_label',axis =1)\n",
    "print(s8_amusex.shape)"
   ]
  },
  {
   "cell_type": "code",
   "execution_count": 54,
   "metadata": {
    "colab": {
     "background_save": true
    },
    "id": "9j870raQaFIq",
    "outputId": "2556b2e6-fc4b-4510-941d-78a8ff628688"
   },
   "outputs": [
    {
     "name": "stdout",
     "output_type": "stream",
     "text": [
      "Creating windows:\n",
      "\n",
      "Baseline:\n",
      "583\n",
      "583\n",
      "(583, 5, 3500)\n",
      "(583,)\n",
      "\n",
      "Stress:\n",
      "333\n",
      "333\n",
      "(333, 5, 3500)\n",
      "(333,)\n",
      "\n",
      "Amusement:\n",
      "183\n",
      "183\n",
      "(183, 5, 3500)\n",
      "(183,)\n"
     ]
    },
    {
     "name": "stderr",
     "output_type": "stream",
     "text": [
      "C:\\Users\\user\\AppData\\Local\\Temp/ipykernel_19452/3869773005.py:6: DeprecationWarning: `np.int` is a deprecated alias for the builtin `int`. To silence this warning, use `int` by itself. Doing this will not modify any behavior and is safe. When replacing `np.int`, you may wish to use e.g. `np.int64` or `np.int32` to specify the precision. If you wish to review your current use, check the release note link for additional information.\n",
      "Deprecated in NumPy 1.20; for more details and guidance: https://numpy.org/devdocs/release/1.20.0-notes.html#deprecations\n",
      "  y = np.full( shape= y_no, fill_value= category, dtype=np.int)\n"
     ]
    }
   ],
   "source": [
    "print('Creating windows:')\n",
    "print()\n",
    "print('Baseline:')\n",
    "s8_basexw, count = window(s8_basex , 3500 ,1400)\n",
    "print(count)\n",
    "print(len(s8_basexw))\n",
    "\n",
    "s8_basexwa , s8_basey  = data_ready(s8_basexw , count , 1)\n",
    "print(s8_basexwa.shape)\n",
    "print(s8_basey.shape)\n",
    "\n",
    "print()\n",
    "print('Stress:')\n",
    "s8_stressxw, count = window(s8_stressx , 3500 ,1400)\n",
    "print(count)\n",
    "print(len(s8_stressxw))\n",
    "s8_stressxwa , s8_stressy  = data_ready(s8_stressxw , count , 2)\n",
    "print(s8_stressxwa.shape)\n",
    "print(s8_stressy.shape)\n",
    "\n",
    "print()\n",
    "print('Amusement:')\n",
    "s8_amusexw, count = window(s8_amusex , 3500 ,1400)\n",
    "print(count)\n",
    "print(len(s8_amusexw))\n",
    "s8_amusexwa , s8_amusey  = data_ready(s8_amusexw , count , 3)\n",
    "print(s8_amusexwa.shape)\n",
    "print(s8_amusey.shape)"
   ]
  },
  {
   "cell_type": "markdown",
   "metadata": {
    "id": "zhOBdW8SaNNq"
   },
   "source": [
    "**S8_baseline**\n"
   ]
  },
  {
   "cell_type": "code",
   "execution_count": 55,
   "metadata": {
    "colab": {
     "background_save": true
    },
    "id": "cp4YVOY2aHcB"
   },
   "outputs": [
    {
     "name": "stderr",
     "output_type": "stream",
     "text": [
      "C:\\Users\\user\\AppData\\Local\\Temp/ipykernel_19452/3137945625.py:25: MatplotlibDeprecationWarning: shading='flat' when X and Y have the same dimensions as C is deprecated since 3.3.  Either specify the corners of the quadrilaterals with X and Y, or pass shading='auto', 'nearest' or 'gouraud', or set rcParams['pcolor.shading'].  This will become an error two minor releases later.\n",
      "  ax.pcolormesh(t, f, Sxx_i, norm=colors.LogNorm(vmin=Sxx_i.min(), vmax=Sxx_i.max()), cmap='inferno')\n"
     ]
    }
   ],
   "source": [
    "# Load data\n",
    "data = np.array(s8_basexwa[:,0,:])\n",
    "# Specify the path to save the spectrogram images\n",
    "path = 'D:\\WESAD_code\\WESAD_final\\S8_baseline'\n",
    "# Generate spectrogram images and save them as .png files\n",
    "Sxx = generate_spectrograms(data, path)\n",
    "save_spectrograms_as_npy(path)"
   ]
  },
  {
   "cell_type": "markdown",
   "metadata": {
    "id": "mYwj_nYPaXHE"
   },
   "source": [
    "**S8_stress**"
   ]
  },
  {
   "cell_type": "code",
   "execution_count": 56,
   "metadata": {
    "colab": {
     "background_save": true
    },
    "id": "y2rfqpQoaWJ3"
   },
   "outputs": [
    {
     "name": "stderr",
     "output_type": "stream",
     "text": [
      "C:\\Users\\user\\AppData\\Local\\Temp/ipykernel_19452/3137945625.py:25: MatplotlibDeprecationWarning: shading='flat' when X and Y have the same dimensions as C is deprecated since 3.3.  Either specify the corners of the quadrilaterals with X and Y, or pass shading='auto', 'nearest' or 'gouraud', or set rcParams['pcolor.shading'].  This will become an error two minor releases later.\n",
      "  ax.pcolormesh(t, f, Sxx_i, norm=colors.LogNorm(vmin=Sxx_i.min(), vmax=Sxx_i.max()), cmap='inferno')\n"
     ]
    }
   ],
   "source": [
    "# Load data\n",
    "data = np.array(s8_stressxwa[:,0,:])\n",
    "# Specify the path to save the spectrogram images\n",
    "path = 'D:\\WESAD_code\\WESAD_final\\S8_stress'\n",
    "# Generate spectrogram images and save them as .png files\n",
    "Sxx = generate_spectrograms(data, path)\n",
    "save_spectrograms_as_npy(path)"
   ]
  },
  {
   "cell_type": "markdown",
   "metadata": {
    "id": "WsBxiejyadHx"
   },
   "source": [
    "**S8_amusement**"
   ]
  },
  {
   "cell_type": "code",
   "execution_count": 57,
   "metadata": {
    "colab": {
     "background_save": true
    },
    "id": "19bjv5UpaeEm"
   },
   "outputs": [
    {
     "name": "stderr",
     "output_type": "stream",
     "text": [
      "C:\\Users\\user\\AppData\\Local\\Temp/ipykernel_19452/3137945625.py:25: MatplotlibDeprecationWarning: shading='flat' when X and Y have the same dimensions as C is deprecated since 3.3.  Either specify the corners of the quadrilaterals with X and Y, or pass shading='auto', 'nearest' or 'gouraud', or set rcParams['pcolor.shading'].  This will become an error two minor releases later.\n",
      "  ax.pcolormesh(t, f, Sxx_i, norm=colors.LogNorm(vmin=Sxx_i.min(), vmax=Sxx_i.max()), cmap='inferno')\n"
     ]
    }
   ],
   "source": [
    "# Load data\n",
    "data = np.array(s8_amusexwa[:,0,:])\n",
    "# Specify the path to save the spectrogram images\n",
    "path = 'D:\\WESAD_code\\WESAD_final\\S8_amuse'\n",
    "# Generate spectrogram images and save them as .png files\n",
    "Sxx = generate_spectrograms(data, path)\n",
    "save_spectrograms_as_npy(path)"
   ]
  },
  {
   "cell_type": "markdown",
   "metadata": {
    "id": "kyjEKyVqIO0T"
   },
   "source": [
    "**Labels_S8**"
   ]
  },
  {
   "cell_type": "code",
   "execution_count": 58,
   "metadata": {
    "colab": {
     "background_save": true
    },
    "id": "VnfW9Je8ISUb",
    "outputId": "496e91b8-839a-41a0-a2ab-6c2f9f3a359e"
   },
   "outputs": [
    {
     "name": "stdout",
     "output_type": "stream",
     "text": [
      "(1099, 224, 224, 3)\n",
      "(1099, 3)\n"
     ]
    }
   ],
   "source": [
    "# Provide the file paths for participant 1\n",
    "file_paths = [\n",
    "    'D:\\WESAD_code\\WESAD_final\\S8_baseline\\Sxx.npy',\n",
    "    'D:\\WESAD_code\\WESAD_final\\S8_stress\\Sxx.npy',\n",
    "    'D:\\WESAD_code\\WESAD_final\\S8_amuse\\Sxx.npy'\n",
    "]\n",
    "\n",
    "# Specify the path where you want to save the concatenated arrays and labels\n",
    "save_path = \"D:\\WESAD_code\\WESAD_final\\S8_data_label\"\n",
    "\n",
    "# Call the concatenate_and_label_arrays function\n",
    "concatenate_and_label_arrays(file_paths, save_path)\n",
    "\n",
    "concatenated_array = np.load(save_path + '/data.npy')\n",
    "concatenated_labels = np.load(save_path + '/labels.npy')\n",
    "\n",
    "# Access the shape of the concatenated array and concatenated labels\n",
    "print(concatenated_array.shape)\n",
    "print(concatenated_labels.shape)"
   ]
  },
  {
   "cell_type": "markdown",
   "metadata": {
    "id": "C3l-fpn4bb4_"
   },
   "source": [
    "# **S9**"
   ]
  },
  {
   "cell_type": "code",
   "execution_count": 59,
   "metadata": {
    "colab": {
     "background_save": true
    },
    "id": "PIPiwIuXbX0R",
    "outputId": "b616ed65-8ef6-4551-93ef-e054dd33e6d3"
   },
   "outputs": [
    {
     "name": "stdout",
     "output_type": "stream",
     "text": [
      "         c_ax    c_ay    c_az     c_ecg     c_emg     c_eda     c_temp  \\\n",
      "52672  0.9128 -0.0858 -0.0858  0.172073 -0.013321  2.141571  33.780762   \n",
      "52673  0.9122 -0.0866 -0.0862  0.157242  0.006180  2.154922  33.774689   \n",
      "52674  0.9140 -0.0890 -0.0838  0.143967  0.004440  2.141571  33.723114   \n",
      "52675  0.9146 -0.0890 -0.0822  0.144882 -0.019180  2.159119  33.789917   \n",
      "52676  0.9150 -0.0878 -0.0798  0.149963 -0.027008  2.142334  33.782318   \n",
      "\n",
      "         c_resp  w_label  \n",
      "52672  6.053162        1  \n",
      "52673  6.065369        1  \n",
      "52674  6.071472        1  \n",
      "52675  6.065369        1  \n",
      "52676  6.074524        1  \n",
      "\n",
      "Shape:\n",
      "(1537900, 9)\n",
      "\n",
      "dtypes:\n",
      "c_ax       float64\n",
      "c_ay       float64\n",
      "c_az       float64\n",
      "c_ecg      float64\n",
      "c_emg      float64\n",
      "c_eda      float64\n",
      "c_temp     float64\n",
      "c_resp     float64\n",
      "w_label      int32\n",
      "dtype: object\n",
      "\n",
      "Value Counts:\n",
      "1    826000\n",
      "2    451500\n",
      "3    260400\n",
      "Name: w_label, dtype: int64\n",
      "\n",
      "          c_ecg     c_emg     c_eda     c_temp    c_resp  w_label\n",
      "52672  0.172073 -0.013321  2.141571  33.780762  6.053162        1\n",
      "52673  0.157242  0.006180  2.154922  33.774689  6.065369        1\n",
      "52674  0.143967  0.004440  2.141571  33.723114  6.071472        1\n",
      "52675  0.144882 -0.019180  2.159119  33.789917  6.065369        1\n",
      "52676  0.149963 -0.027008  2.142334  33.782318  6.074524        1\n"
     ]
    }
   ],
   "source": [
    "s9_path = \"\\S9\\S9.pkl\"\n",
    "s9 = load_data(s9_path)\n",
    "print(s9.head())\n",
    "print()\n",
    "print('Shape:')\n",
    "print(s9.shape)\n",
    "print()\n",
    "print('dtypes:')\n",
    "print(s9.dtypes)\n",
    "print()\n",
    "print('Value Counts:')\n",
    "print(s9['w_label'].value_counts())\n",
    "print()\n",
    "s9_final = s9.drop(['c_ax','c_ay','c_az'] , axis = 1)\n",
    "print(s9_final.head())"
   ]
  },
  {
   "cell_type": "code",
   "execution_count": 60,
   "metadata": {
    "colab": {
     "background_save": true
    },
    "id": "WKDGF74qbeQP",
    "outputId": "76f30b8c-715c-429f-eb70-6ee1e050bdd2"
   },
   "outputs": [
    {
     "name": "stdout",
     "output_type": "stream",
     "text": [
      "Baseline:\n",
      "(826000, 6)\n",
      "(826000, 5)\n",
      "\n",
      "Stress:\n",
      "(451500, 6)\n",
      "(451500, 5)\n",
      "\n",
      "Amusement:\n",
      "(260400, 6)\n",
      "(260400, 5)\n"
     ]
    }
   ],
   "source": [
    "print('Baseline:')\n",
    "s9_base = s9_final.loc[s9_final['w_label'].isin([1])]\n",
    "print(s9_base.shape)\n",
    "s9_basex = s9_base.drop('w_label' ,axis = 1)\n",
    "print(s9_basex.shape)\n",
    "print()\n",
    "print('Stress:')\n",
    "s9_stress = s9_final.loc[s9_final['w_label'].isin([2])]\n",
    "print(s9_stress.shape)\n",
    "s9_stressx = s9_stress.drop('w_label',axis = 1)\n",
    "print(s9_stressx.shape)\n",
    "print()\n",
    "print('Amusement:')\n",
    "s9_amuse = s9_final.loc[s9_final['w_label'].isin([3])]\n",
    "print(s9_amuse.shape)\n",
    "s9_amusex = s9_amuse.drop('w_label',axis =1)\n",
    "print(s9_amusex.shape)"
   ]
  },
  {
   "cell_type": "code",
   "execution_count": 61,
   "metadata": {
    "colab": {
     "background_save": true
    },
    "id": "UaRa85F6bhAk",
    "outputId": "66dfb245-bea3-48d2-d083-450e043f00c3"
   },
   "outputs": [
    {
     "name": "stdout",
     "output_type": "stream",
     "text": [
      "Creating windows:\n",
      "\n",
      "Baseline:\n",
      "588\n",
      "588\n",
      "(588, 5, 3500)\n",
      "(588,)\n",
      "\n",
      "Stress:\n",
      "321\n",
      "321\n",
      "(321, 5, 3500)\n",
      "(321,)\n",
      "\n",
      "Amusement:\n",
      "184\n",
      "184\n",
      "(184, 5, 3500)\n",
      "(184,)\n"
     ]
    },
    {
     "name": "stderr",
     "output_type": "stream",
     "text": [
      "C:\\Users\\user\\AppData\\Local\\Temp/ipykernel_19452/3869773005.py:6: DeprecationWarning: `np.int` is a deprecated alias for the builtin `int`. To silence this warning, use `int` by itself. Doing this will not modify any behavior and is safe. When replacing `np.int`, you may wish to use e.g. `np.int64` or `np.int32` to specify the precision. If you wish to review your current use, check the release note link for additional information.\n",
      "Deprecated in NumPy 1.20; for more details and guidance: https://numpy.org/devdocs/release/1.20.0-notes.html#deprecations\n",
      "  y = np.full( shape= y_no, fill_value= category, dtype=np.int)\n"
     ]
    }
   ],
   "source": [
    "print('Creating windows:')\n",
    "print()\n",
    "print('Baseline:')\n",
    "s9_basexw, count = window(s9_basex , 3500 ,1400)\n",
    "print(count)\n",
    "print(len(s9_basexw))\n",
    "\n",
    "s9_basexwa , s9_basey  = data_ready(s9_basexw , count , 1)\n",
    "print(s9_basexwa.shape)\n",
    "print(s9_basey.shape)\n",
    "\n",
    "print()\n",
    "print('Stress:')\n",
    "s9_stressxw, count = window(s9_stressx , 3500 ,1400)\n",
    "print(count)\n",
    "print(len(s9_stressxw))\n",
    "s9_stressxwa , s9_stressy  = data_ready(s9_stressxw , count , 2)\n",
    "print(s9_stressxwa.shape)\n",
    "print(s9_stressy.shape)\n",
    "\n",
    "print()\n",
    "print('Amusement:')\n",
    "s9_amusexw, count = window(s9_amusex , 3500 ,1400)\n",
    "print(count)\n",
    "print(len(s9_amusexw))\n",
    "s9_amusexwa , s9_amusey  = data_ready(s9_amusexw , count , 3)\n",
    "print(s9_amusexwa.shape)\n",
    "print(s9_amusey.shape)"
   ]
  },
  {
   "cell_type": "markdown",
   "metadata": {
    "id": "0eHMKrqoboko"
   },
   "source": [
    "**S9_baseline**"
   ]
  },
  {
   "cell_type": "code",
   "execution_count": 62,
   "metadata": {
    "colab": {
     "background_save": true
    },
    "id": "YHGoO_pPbk6T"
   },
   "outputs": [
    {
     "name": "stderr",
     "output_type": "stream",
     "text": [
      "C:\\Users\\user\\AppData\\Local\\Temp/ipykernel_19452/3137945625.py:25: MatplotlibDeprecationWarning: shading='flat' when X and Y have the same dimensions as C is deprecated since 3.3.  Either specify the corners of the quadrilaterals with X and Y, or pass shading='auto', 'nearest' or 'gouraud', or set rcParams['pcolor.shading'].  This will become an error two minor releases later.\n",
      "  ax.pcolormesh(t, f, Sxx_i, norm=colors.LogNorm(vmin=Sxx_i.min(), vmax=Sxx_i.max()), cmap='inferno')\n"
     ]
    }
   ],
   "source": [
    "# Load data\n",
    "data = np.array(s9_basexwa[:,0,:])\n",
    "# Specify the path to save the spectrogram images\n",
    "path = 'D:\\WESAD_code\\WESAD_final\\S9_baseline'\n",
    "# Generate spectrogram images and save them as .png files\n",
    "Sxx = generate_spectrograms(data, path)\n",
    "save_spectrograms_as_npy(path)"
   ]
  },
  {
   "cell_type": "markdown",
   "metadata": {
    "id": "-_uvWAadb0nv"
   },
   "source": [
    "**S9_stress**"
   ]
  },
  {
   "cell_type": "code",
   "execution_count": 63,
   "metadata": {
    "colab": {
     "background_save": true
    },
    "id": "p4D7LKKwbt_E"
   },
   "outputs": [
    {
     "name": "stderr",
     "output_type": "stream",
     "text": [
      "C:\\Users\\user\\AppData\\Local\\Temp/ipykernel_19452/3137945625.py:25: MatplotlibDeprecationWarning: shading='flat' when X and Y have the same dimensions as C is deprecated since 3.3.  Either specify the corners of the quadrilaterals with X and Y, or pass shading='auto', 'nearest' or 'gouraud', or set rcParams['pcolor.shading'].  This will become an error two minor releases later.\n",
      "  ax.pcolormesh(t, f, Sxx_i, norm=colors.LogNorm(vmin=Sxx_i.min(), vmax=Sxx_i.max()), cmap='inferno')\n"
     ]
    }
   ],
   "source": [
    "# Load data\n",
    "data = np.array(s9_stressxwa[:,0,:])\n",
    "# Specify the path to save the spectrogram images\n",
    "path = 'D:\\WESAD_code\\WESAD_final\\S9_stress'\n",
    "# Generate spectrogram images and save them as .png files\n",
    "Sxx = generate_spectrograms(data, path)\n",
    "save_spectrograms_as_npy(path)"
   ]
  },
  {
   "cell_type": "markdown",
   "metadata": {
    "id": "7I7pbqe5b6Mq"
   },
   "source": [
    "**S9_amusement**"
   ]
  },
  {
   "cell_type": "code",
   "execution_count": 64,
   "metadata": {
    "colab": {
     "background_save": true
    },
    "id": "IPCiuAFzb5eU"
   },
   "outputs": [
    {
     "name": "stderr",
     "output_type": "stream",
     "text": [
      "C:\\Users\\user\\AppData\\Local\\Temp/ipykernel_19452/3137945625.py:25: MatplotlibDeprecationWarning: shading='flat' when X and Y have the same dimensions as C is deprecated since 3.3.  Either specify the corners of the quadrilaterals with X and Y, or pass shading='auto', 'nearest' or 'gouraud', or set rcParams['pcolor.shading'].  This will become an error two minor releases later.\n",
      "  ax.pcolormesh(t, f, Sxx_i, norm=colors.LogNorm(vmin=Sxx_i.min(), vmax=Sxx_i.max()), cmap='inferno')\n"
     ]
    }
   ],
   "source": [
    "# Load data\n",
    "data = np.array(s9_amusexwa[:,0,:])\n",
    "# Specify the path to save the spectrogram images\n",
    "path = 'D:\\WESAD_code\\WESAD_final\\S9_amuse'\n",
    "# Generate spectrogram images and save them as .png files\n",
    "Sxx = generate_spectrograms(data, path)\n",
    "save_spectrograms_as_npy(path)"
   ]
  },
  {
   "cell_type": "markdown",
   "metadata": {
    "id": "vmVbMN_5MS0p"
   },
   "source": [
    "**Labels_S9**"
   ]
  },
  {
   "cell_type": "code",
   "execution_count": 65,
   "metadata": {
    "colab": {
     "background_save": true
    },
    "id": "B6x8UgvqMRj0",
    "outputId": "65f20997-16bd-493c-cb09-5e44b8f08a1c",
    "scrolled": false
   },
   "outputs": [
    {
     "name": "stdout",
     "output_type": "stream",
     "text": [
      "(1093, 224, 224, 3)\n",
      "(1093, 3)\n"
     ]
    }
   ],
   "source": [
    "# Provide the file paths for participant 1\n",
    "file_paths = [\n",
    "    'D:\\WESAD_code\\WESAD_final\\S9_baseline\\Sxx.npy',\n",
    "    'D:\\WESAD_code\\WESAD_final\\S9_stress\\Sxx.npy',\n",
    "    'D:\\WESAD_code\\WESAD_final\\S9_amuse\\Sxx.npy'\n",
    "]\n",
    "\n",
    "# Specify the path where you want to save the concatenated arrays and labels\n",
    "save_path = \"D:\\WESAD_code\\WESAD_final\\S9_data_label\"\n",
    "\n",
    "# Call the concatenate_and_label_arrays function\n",
    "concatenate_and_label_arrays(file_paths, save_path)\n",
    "\n",
    "concatenated_array = np.load(save_path + '/data.npy')\n",
    "concatenated_labels = np.load(save_path + '/labels.npy')\n",
    "\n",
    "# Access the shape of the concatenated array and concatenated labels\n",
    "print(concatenated_array.shape)\n",
    "print(concatenated_labels.shape)"
   ]
  },
  {
   "cell_type": "markdown",
   "metadata": {
    "id": "X0JDgAKvebU-"
   },
   "source": [
    "# **S10**"
   ]
  },
  {
   "cell_type": "code",
   "execution_count": 66,
   "metadata": {
    "colab": {
     "background_save": true
    },
    "id": "JUMB4_ideZhZ",
    "outputId": "f39b686b-4bb6-4e8f-c5b6-a2f6cdd2f774"
   },
   "outputs": [
    {
     "name": "stdout",
     "output_type": "stream",
     "text": [
      "         c_ax    c_ay    c_az     c_ecg     c_emg     c_eda     c_temp  \\\n",
      "65000  0.8986  0.0874 -0.2018 -0.006775  0.013596  0.730515  33.891632   \n",
      "65001  0.8994  0.0882 -0.2008 -0.002884  0.015198  0.745773  33.881012   \n",
      "65002  0.8978  0.0870 -0.2022 -0.002289  0.016800  0.755310  33.873383   \n",
      "65003  0.9000  0.0866 -0.1994  0.002792 -0.002243  0.722885  33.893158   \n",
      "65004  0.9002  0.0870 -0.1990  0.008560 -0.007416  0.728989  33.900757   \n",
      "\n",
      "         c_resp  w_label  \n",
      "65000  0.685120        1  \n",
      "65001  0.712585        1  \n",
      "65002  0.737000        1  \n",
      "65003  0.740051        1  \n",
      "65004  0.733948        1  \n",
      "\n",
      "Shape:\n",
      "(1593900, 9)\n",
      "\n",
      "dtypes:\n",
      "c_ax       float64\n",
      "c_ay       float64\n",
      "c_az       float64\n",
      "c_ecg      float64\n",
      "c_emg      float64\n",
      "c_eda      float64\n",
      "c_temp     float64\n",
      "c_resp     float64\n",
      "w_label      int32\n",
      "dtype: object\n",
      "\n",
      "Value Counts:\n",
      "1    826000\n",
      "2    507500\n",
      "3    260400\n",
      "Name: w_label, dtype: int64\n",
      "\n",
      "          c_ecg     c_emg     c_eda     c_temp    c_resp  w_label\n",
      "65000 -0.006775  0.013596  0.730515  33.891632  0.685120        1\n",
      "65001 -0.002884  0.015198  0.745773  33.881012  0.712585        1\n",
      "65002 -0.002289  0.016800  0.755310  33.873383  0.737000        1\n",
      "65003  0.002792 -0.002243  0.722885  33.893158  0.740051        1\n",
      "65004  0.008560 -0.007416  0.728989  33.900757  0.733948        1\n"
     ]
    }
   ],
   "source": [
    "s10_path = \"\\S10\\S10.pkl\"\n",
    "s10 = load_data(s10_path)\n",
    "print(s10.head())\n",
    "print()\n",
    "print('Shape:')\n",
    "print(s10.shape)\n",
    "print()\n",
    "print('dtypes:')\n",
    "print(s10.dtypes)\n",
    "print()\n",
    "print('Value Counts:')\n",
    "print(s10['w_label'].value_counts())\n",
    "print()\n",
    "s10_final = s10.drop(['c_ax','c_ay','c_az'] , axis = 1)\n",
    "print(s10_final.head())"
   ]
  },
  {
   "cell_type": "code",
   "execution_count": 67,
   "metadata": {
    "colab": {
     "background_save": true
    },
    "id": "iVbHGQV9eyvF",
    "outputId": "f32912d3-1392-458e-a4b3-ddf9858901d6"
   },
   "outputs": [
    {
     "name": "stdout",
     "output_type": "stream",
     "text": [
      "Baseline:\n",
      "(826000, 6)\n",
      "(826000, 5)\n",
      "\n",
      "Stress:\n",
      "(507500, 6)\n",
      "(507500, 5)\n",
      "\n",
      "Amusement:\n",
      "(260400, 6)\n",
      "(260400, 5)\n"
     ]
    }
   ],
   "source": [
    "print('Baseline:')\n",
    "s10_base = s10_final.loc[s10_final['w_label'].isin([1])]\n",
    "print(s10_base.shape)\n",
    "s10_basex = s10_base.drop('w_label' ,axis = 1)\n",
    "print(s10_basex.shape)\n",
    "print()\n",
    "print('Stress:')\n",
    "s10_stress = s10_final.loc[s10_final['w_label'].isin([2])]\n",
    "print(s10_stress.shape)\n",
    "s10_stressx = s10_stress.drop('w_label',axis = 1)\n",
    "print(s10_stressx.shape)\n",
    "print()\n",
    "print('Amusement:')\n",
    "s10_amuse = s10_final.loc[s10_final['w_label'].isin([3])]\n",
    "print(s10_amuse.shape)\n",
    "s10_amusex = s10_amuse.drop('w_label',axis =1)\n",
    "print(s10_amusex.shape)"
   ]
  },
  {
   "cell_type": "code",
   "execution_count": 68,
   "metadata": {
    "colab": {
     "background_save": true
    },
    "id": "BbZfMZiNe37b",
    "outputId": "b7fd50cb-f3be-4f8b-b4cd-172c090e86aa"
   },
   "outputs": [
    {
     "name": "stdout",
     "output_type": "stream",
     "text": [
      "Creating windows:\n",
      "\n",
      "Baseline:\n",
      "588\n",
      "588\n",
      "(588, 5, 3500)\n",
      "(588,)\n",
      "\n",
      "Stress:\n",
      "361\n",
      "361\n",
      "(361, 5, 3500)\n",
      "(361,)\n",
      "\n",
      "Amusement:\n",
      "184\n",
      "184\n",
      "(184, 5, 3500)\n",
      "(184,)\n"
     ]
    },
    {
     "name": "stderr",
     "output_type": "stream",
     "text": [
      "C:\\Users\\user\\AppData\\Local\\Temp/ipykernel_19452/3869773005.py:6: DeprecationWarning: `np.int` is a deprecated alias for the builtin `int`. To silence this warning, use `int` by itself. Doing this will not modify any behavior and is safe. When replacing `np.int`, you may wish to use e.g. `np.int64` or `np.int32` to specify the precision. If you wish to review your current use, check the release note link for additional information.\n",
      "Deprecated in NumPy 1.20; for more details and guidance: https://numpy.org/devdocs/release/1.20.0-notes.html#deprecations\n",
      "  y = np.full( shape= y_no, fill_value= category, dtype=np.int)\n"
     ]
    }
   ],
   "source": [
    "print('Creating windows:')\n",
    "print()\n",
    "print('Baseline:')\n",
    "s10_basexw, count = window(s10_basex , 3500 ,1400)\n",
    "print(count)\n",
    "print(len(s10_basexw))\n",
    "\n",
    "s10_basexwa , s10_basey  = data_ready(s10_basexw , count , 1)\n",
    "print(s10_basexwa.shape)\n",
    "print(s10_basey.shape)\n",
    "\n",
    "print()\n",
    "print('Stress:')\n",
    "s10_stressxw, count = window(s10_stressx , 3500 ,1400)\n",
    "print(count)\n",
    "print(len(s10_stressxw))\n",
    "s10_stressxwa , s10_stressy  = data_ready(s10_stressxw , count , 2)\n",
    "print(s10_stressxwa.shape)\n",
    "print(s10_stressy.shape)\n",
    "\n",
    "print()\n",
    "print('Amusement:')\n",
    "s10_amusexw, count = window(s10_amusex , 3500 ,1400)\n",
    "print(count)\n",
    "print(len(s10_amusexw))\n",
    "s10_amusexwa , s10_amusey  = data_ready(s10_amusexw , count , 3)\n",
    "print(s10_amusexwa.shape)\n",
    "print(s10_amusey.shape)"
   ]
  },
  {
   "cell_type": "markdown",
   "metadata": {
    "id": "klzSmPcJe_3q"
   },
   "source": [
    "**S10_baseline**"
   ]
  },
  {
   "cell_type": "code",
   "execution_count": 69,
   "metadata": {
    "colab": {
     "background_save": true
    },
    "id": "3C3lM85_e8Tx"
   },
   "outputs": [
    {
     "name": "stderr",
     "output_type": "stream",
     "text": [
      "C:\\Users\\user\\AppData\\Local\\Temp/ipykernel_19452/3137945625.py:25: MatplotlibDeprecationWarning: shading='flat' when X and Y have the same dimensions as C is deprecated since 3.3.  Either specify the corners of the quadrilaterals with X and Y, or pass shading='auto', 'nearest' or 'gouraud', or set rcParams['pcolor.shading'].  This will become an error two minor releases later.\n",
      "  ax.pcolormesh(t, f, Sxx_i, norm=colors.LogNorm(vmin=Sxx_i.min(), vmax=Sxx_i.max()), cmap='inferno')\n"
     ]
    }
   ],
   "source": [
    "# Load data\n",
    "data = np.array(s10_basexwa[:,0,:])\n",
    "# Specify the path to save the spectrogram images\n",
    "path = 'D:\\WESAD_code\\WESAD_final\\S10_baseline'\n",
    "# Generate spectrogram images and save them as .png files\n",
    "Sxx = generate_spectrograms(data, path)\n",
    "save_spectrograms_as_npy(path)"
   ]
  },
  {
   "cell_type": "markdown",
   "metadata": {
    "id": "-xZoiC9cfF4q"
   },
   "source": [
    "**S10_stress**\n"
   ]
  },
  {
   "cell_type": "code",
   "execution_count": 70,
   "metadata": {
    "colab": {
     "background_save": true
    },
    "id": "nomkRt4TfE_G"
   },
   "outputs": [
    {
     "name": "stderr",
     "output_type": "stream",
     "text": [
      "C:\\Users\\user\\AppData\\Local\\Temp/ipykernel_19452/3137945625.py:25: MatplotlibDeprecationWarning: shading='flat' when X and Y have the same dimensions as C is deprecated since 3.3.  Either specify the corners of the quadrilaterals with X and Y, or pass shading='auto', 'nearest' or 'gouraud', or set rcParams['pcolor.shading'].  This will become an error two minor releases later.\n",
      "  ax.pcolormesh(t, f, Sxx_i, norm=colors.LogNorm(vmin=Sxx_i.min(), vmax=Sxx_i.max()), cmap='inferno')\n"
     ]
    }
   ],
   "source": [
    "# Load data\n",
    "data = np.array(s10_stressxwa[:,0,:])\n",
    "# Specify the path to save the spectrogram images\n",
    "path = 'D:\\WESAD_code\\WESAD_final\\S10_stress'\n",
    "# Generate spectrogram images and save them as .png files\n",
    "Sxx = generate_spectrograms(data, path)\n",
    "save_spectrograms_as_npy(path)"
   ]
  },
  {
   "cell_type": "markdown",
   "metadata": {
    "id": "oMLjJI2SfTv7"
   },
   "source": [
    "**S10_amusement**"
   ]
  },
  {
   "cell_type": "code",
   "execution_count": 71,
   "metadata": {
    "id": "cbDc65MEfSqJ"
   },
   "outputs": [
    {
     "name": "stderr",
     "output_type": "stream",
     "text": [
      "C:\\Users\\user\\AppData\\Local\\Temp/ipykernel_19452/3137945625.py:25: MatplotlibDeprecationWarning: shading='flat' when X and Y have the same dimensions as C is deprecated since 3.3.  Either specify the corners of the quadrilaterals with X and Y, or pass shading='auto', 'nearest' or 'gouraud', or set rcParams['pcolor.shading'].  This will become an error two minor releases later.\n",
      "  ax.pcolormesh(t, f, Sxx_i, norm=colors.LogNorm(vmin=Sxx_i.min(), vmax=Sxx_i.max()), cmap='inferno')\n"
     ]
    }
   ],
   "source": [
    "# Load data\n",
    "data = np.array(s10_amusexwa[:,0,:])\n",
    "# Specify the path to save the spectrogram images\n",
    "path = 'D:\\WESAD_code\\WESAD_final\\S10_amuse'\n",
    "# Generate spectrogram images and save them as .png files\n",
    "Sxx = generate_spectrograms(data, path)\n",
    "save_spectrograms_as_npy(path)"
   ]
  },
  {
   "cell_type": "markdown",
   "metadata": {
    "id": "gFeTYzkiUyLH"
   },
   "source": [
    "**Labels_S10**"
   ]
  },
  {
   "cell_type": "code",
   "execution_count": 72,
   "metadata": {
    "id": "l_tdCK_QUxCd"
   },
   "outputs": [
    {
     "name": "stdout",
     "output_type": "stream",
     "text": [
      "(1133, 224, 224, 3)\n",
      "(1133, 3)\n"
     ]
    }
   ],
   "source": [
    "# Provide the file paths for participant 1\n",
    "file_paths = [\n",
    "    'D:\\WESAD_code\\WESAD_final\\S10_baseline\\Sxx.npy',\n",
    "    'D:\\WESAD_code\\WESAD_final\\S10_stress\\Sxx.npy',\n",
    "    'D:\\WESAD_code\\WESAD_final\\S10_amuse\\Sxx.npy'\n",
    "]\n",
    "\n",
    "# Specify the path where you want to save the concatenated arrays and labels\n",
    "save_path = \"D:\\WESAD_code\\WESAD_final\\S10_data_label\"\n",
    "\n",
    "# Call the concatenate_and_label_arrays function\n",
    "concatenate_and_label_arrays(file_paths, save_path)\n",
    "\n",
    "concatenated_array = np.load(save_path + '/data.npy')\n",
    "concatenated_labels = np.load(save_path + '/labels.npy')\n",
    "\n",
    "# Access the shape of the concatenated array and concatenated labels\n",
    "print(concatenated_array.shape)\n",
    "print(concatenated_labels.shape)"
   ]
  },
  {
   "cell_type": "markdown",
   "metadata": {
    "id": "2F7clgr5gEQd"
   },
   "source": [
    "# **S11**"
   ]
  },
  {
   "cell_type": "code",
   "execution_count": 73,
   "metadata": {
    "id": "V_Csfu3qgAqb"
   },
   "outputs": [
    {
     "name": "stdout",
     "output_type": "stream",
     "text": [
      "         c_ax    c_ay    c_az     c_ecg     c_emg     c_eda     c_temp  \\\n",
      "59937  0.8968  0.0414 -0.1698 -0.017395  0.002014  6.644821  33.677673   \n",
      "59938  0.8978  0.0418 -0.1714 -0.012772  0.010117  6.648254  33.612549   \n",
      "59939  0.9044  0.0406 -0.1708 -0.007599  0.003891  6.637192  33.665527   \n",
      "59940  0.9000  0.0414 -0.1766 -0.010574 -0.011810  6.637573  33.657959   \n",
      "59941  0.8978  0.0408 -0.1698 -0.015152 -0.024765  6.638718  33.665527   \n",
      "\n",
      "         c_resp  w_label  \n",
      "59937  1.760864        1  \n",
      "59938  1.785278        1  \n",
      "59939  1.788330        1  \n",
      "59940  1.777649        1  \n",
      "59941  1.817322        1  \n",
      "\n",
      "Shape:\n",
      "(1559600, 9)\n",
      "\n",
      "dtypes:\n",
      "c_ax       float64\n",
      "c_ay       float64\n",
      "c_az       float64\n",
      "c_ecg      float64\n",
      "c_emg      float64\n",
      "c_eda      float64\n",
      "c_temp     float64\n",
      "c_resp     float64\n",
      "w_label      int32\n",
      "dtype: object\n",
      "\n",
      "Value Counts:\n",
      "1    826000\n",
      "2    476000\n",
      "3    257600\n",
      "Name: w_label, dtype: int64\n",
      "\n",
      "          c_ecg     c_emg     c_eda     c_temp    c_resp  w_label\n",
      "59937 -0.017395  0.002014  6.644821  33.677673  1.760864        1\n",
      "59938 -0.012772  0.010117  6.648254  33.612549  1.785278        1\n",
      "59939 -0.007599  0.003891  6.637192  33.665527  1.788330        1\n",
      "59940 -0.010574 -0.011810  6.637573  33.657959  1.777649        1\n",
      "59941 -0.015152 -0.024765  6.638718  33.665527  1.817322        1\n"
     ]
    }
   ],
   "source": [
    "s11_path = \"\\S11\\S11.pkl\"\n",
    "s11 = load_data(s11_path)\n",
    "print(s11.head())\n",
    "print()\n",
    "print('Shape:')\n",
    "print(s11.shape)\n",
    "print()\n",
    "print('dtypes:')\n",
    "print(s11.dtypes)\n",
    "print()\n",
    "print('Value Counts:')\n",
    "print(s11['w_label'].value_counts())\n",
    "print()\n",
    "s11_final = s11.drop(['c_ax','c_ay','c_az'] , axis = 1)\n",
    "print(s11_final.head())"
   ]
  },
  {
   "cell_type": "code",
   "execution_count": 74,
   "metadata": {
    "id": "tn35WxyygG_G"
   },
   "outputs": [
    {
     "name": "stdout",
     "output_type": "stream",
     "text": [
      "Baseline:\n",
      "(826000, 6)\n",
      "(826000, 5)\n",
      "\n",
      "Stress:\n",
      "(476000, 6)\n",
      "(476000, 5)\n",
      "\n",
      "Amusement:\n",
      "(257600, 6)\n",
      "(257600, 5)\n"
     ]
    }
   ],
   "source": [
    "print('Baseline:')\n",
    "s11_base = s11_final.loc[s11_final['w_label'].isin([1])]\n",
    "print(s11_base.shape)\n",
    "s11_basex = s11_base.drop('w_label' ,axis = 1)\n",
    "print(s11_basex.shape)\n",
    "print()\n",
    "print('Stress:')\n",
    "s11_stress = s11_final.loc[s11_final['w_label'].isin([2])]\n",
    "print(s11_stress.shape)\n",
    "s11_stressx = s11_stress.drop('w_label',axis = 1)\n",
    "print(s11_stressx.shape)\n",
    "print()\n",
    "print('Amusement:')\n",
    "s11_amuse = s11_final.loc[s11_final['w_label'].isin([3])]\n",
    "print(s11_amuse.shape)\n",
    "s11_amusex = s11_amuse.drop('w_label',axis =1)\n",
    "print(s11_amusex.shape)"
   ]
  },
  {
   "cell_type": "code",
   "execution_count": 75,
   "metadata": {
    "id": "wm8dhezcgNY0"
   },
   "outputs": [
    {
     "name": "stdout",
     "output_type": "stream",
     "text": [
      "Creating windows:\n",
      "\n",
      "Baseline:\n",
      "588\n",
      "588\n",
      "(588, 5, 3500)\n",
      "(588,)\n",
      "\n",
      "Stress:\n",
      "338\n",
      "338\n",
      "(338, 5, 3500)\n",
      "(338,)\n",
      "\n",
      "Amusement:\n",
      "182\n",
      "182\n",
      "(182, 5, 3500)\n",
      "(182,)\n"
     ]
    },
    {
     "name": "stderr",
     "output_type": "stream",
     "text": [
      "C:\\Users\\user\\AppData\\Local\\Temp/ipykernel_19452/3869773005.py:6: DeprecationWarning: `np.int` is a deprecated alias for the builtin `int`. To silence this warning, use `int` by itself. Doing this will not modify any behavior and is safe. When replacing `np.int`, you may wish to use e.g. `np.int64` or `np.int32` to specify the precision. If you wish to review your current use, check the release note link for additional information.\n",
      "Deprecated in NumPy 1.20; for more details and guidance: https://numpy.org/devdocs/release/1.20.0-notes.html#deprecations\n",
      "  y = np.full( shape= y_no, fill_value= category, dtype=np.int)\n"
     ]
    }
   ],
   "source": [
    "print('Creating windows:')\n",
    "print()\n",
    "print('Baseline:')\n",
    "s11_basexw, count = window(s11_basex , 3500 ,1400)\n",
    "print(count)\n",
    "print(len(s11_basexw))\n",
    "\n",
    "s11_basexwa , s11_basey  = data_ready(s11_basexw , count , 1)\n",
    "print(s11_basexwa.shape)\n",
    "print(s11_basey.shape)\n",
    "\n",
    "print()\n",
    "print('Stress:')\n",
    "s11_stressxw, count = window(s11_stressx , 3500 ,1400)\n",
    "print(count)\n",
    "print(len(s11_stressxw))\n",
    "s11_stressxwa , s11_stressy  = data_ready(s11_stressxw , count , 2)\n",
    "print(s11_stressxwa.shape)\n",
    "print(s11_stressy.shape)\n",
    "\n",
    "print()\n",
    "print('Amusement:')\n",
    "s11_amusexw, count = window(s11_amusex , 3500 ,1400)\n",
    "print(count)\n",
    "print(len(s11_amusexw))\n",
    "s11_amusexwa , s11_amusey  = data_ready(s11_amusexw , count , 3)\n",
    "print(s11_amusexwa.shape)\n",
    "print(s11_amusey.shape)"
   ]
  },
  {
   "cell_type": "markdown",
   "metadata": {
    "id": "a8qU4BZMgTGF"
   },
   "source": [
    "# **S11_baseline**"
   ]
  },
  {
   "cell_type": "code",
   "execution_count": 76,
   "metadata": {
    "id": "l_QitbmQgPnP"
   },
   "outputs": [
    {
     "name": "stderr",
     "output_type": "stream",
     "text": [
      "C:\\Users\\user\\AppData\\Local\\Temp/ipykernel_19452/3137945625.py:25: MatplotlibDeprecationWarning: shading='flat' when X and Y have the same dimensions as C is deprecated since 3.3.  Either specify the corners of the quadrilaterals with X and Y, or pass shading='auto', 'nearest' or 'gouraud', or set rcParams['pcolor.shading'].  This will become an error two minor releases later.\n",
      "  ax.pcolormesh(t, f, Sxx_i, norm=colors.LogNorm(vmin=Sxx_i.min(), vmax=Sxx_i.max()), cmap='inferno')\n"
     ]
    }
   ],
   "source": [
    "# Load data\n",
    "data = np.array(s11_basexwa[:,0,:])\n",
    "# Specify the path to save the spectrogram images\n",
    "path = 'D:\\WESAD_code\\WESAD_final\\S11_baseline'\n",
    "# Generate spectrogram images and save them as .png files\n",
    "Sxx = generate_spectrograms(data, path)\n",
    "save_spectrograms_as_npy(path)"
   ]
  },
  {
   "cell_type": "markdown",
   "metadata": {
    "id": "GwzJ2ydRvNJt"
   },
   "source": [
    "## **S11_stress**"
   ]
  },
  {
   "cell_type": "code",
   "execution_count": 77,
   "metadata": {
    "id": "TJ4QyKnVgYM_"
   },
   "outputs": [
    {
     "name": "stderr",
     "output_type": "stream",
     "text": [
      "C:\\Users\\user\\AppData\\Local\\Temp/ipykernel_19452/3137945625.py:25: MatplotlibDeprecationWarning: shading='flat' when X and Y have the same dimensions as C is deprecated since 3.3.  Either specify the corners of the quadrilaterals with X and Y, or pass shading='auto', 'nearest' or 'gouraud', or set rcParams['pcolor.shading'].  This will become an error two minor releases later.\n",
      "  ax.pcolormesh(t, f, Sxx_i, norm=colors.LogNorm(vmin=Sxx_i.min(), vmax=Sxx_i.max()), cmap='inferno')\n"
     ]
    }
   ],
   "source": [
    "# Load data\n",
    "data = np.array(s11_stressxwa[:,0,:])\n",
    "# Specify the path to save the spectrogram images\n",
    "path = 'D:\\WESAD_code\\WESAD_final\\S11_stress'\n",
    "# Generate spectrogram images and save them as .png files\n",
    "Sxx = generate_spectrograms(data, path)\n",
    "save_spectrograms_as_npy(path)"
   ]
  },
  {
   "cell_type": "markdown",
   "metadata": {
    "id": "n304pCi_vXYR"
   },
   "source": [
    "## **S11_amusement**"
   ]
  },
  {
   "cell_type": "code",
   "execution_count": 78,
   "metadata": {
    "id": "Dl3zeB5BvVFh"
   },
   "outputs": [
    {
     "name": "stderr",
     "output_type": "stream",
     "text": [
      "C:\\Users\\user\\AppData\\Local\\Temp/ipykernel_19452/3137945625.py:25: MatplotlibDeprecationWarning: shading='flat' when X and Y have the same dimensions as C is deprecated since 3.3.  Either specify the corners of the quadrilaterals with X and Y, or pass shading='auto', 'nearest' or 'gouraud', or set rcParams['pcolor.shading'].  This will become an error two minor releases later.\n",
      "  ax.pcolormesh(t, f, Sxx_i, norm=colors.LogNorm(vmin=Sxx_i.min(), vmax=Sxx_i.max()), cmap='inferno')\n"
     ]
    }
   ],
   "source": [
    "# Load data\n",
    "data = np.array(s11_amusexwa[:,0,:])\n",
    "# Specify the path to save the spectrogram images\n",
    "path = 'D:\\WESAD_code\\WESAD_final\\S11_amuse'\n",
    "# Generate spectrogram images and save them as .png files\n",
    "Sxx = generate_spectrograms(data, path)\n",
    "save_spectrograms_as_npy(path)"
   ]
  },
  {
   "cell_type": "markdown",
   "metadata": {
    "id": "na0PmjdpVJn_"
   },
   "source": [
    "**Labels_S11**"
   ]
  },
  {
   "cell_type": "code",
   "execution_count": 79,
   "metadata": {
    "id": "loHrWWiZVNVq"
   },
   "outputs": [
    {
     "name": "stdout",
     "output_type": "stream",
     "text": [
      "(1108, 224, 224, 3)\n",
      "(1108, 3)\n"
     ]
    }
   ],
   "source": [
    "# Provide the file paths for participant 1\n",
    "file_paths = [\n",
    "    'D:\\WESAD_code\\WESAD_final\\S11_baseline\\Sxx.npy',\n",
    "    'D:\\WESAD_code\\WESAD_final\\S11_stress\\Sxx.npy',\n",
    "    'D:\\WESAD_code\\WESAD_final\\S11_amuse\\Sxx.npy'\n",
    "]\n",
    "\n",
    "# Specify the path where you want to save the concatenated arrays and labels\n",
    "save_path = \"D:\\WESAD_code\\WESAD_final\\S11_data_label\"\n",
    "\n",
    "# Call the concatenate_and_label_arrays function\n",
    "concatenate_and_label_arrays(file_paths, save_path)\n",
    "\n",
    "concatenated_array = np.load(save_path + '/data.npy')\n",
    "concatenated_labels = np.load(save_path + '/labels.npy')\n",
    "\n",
    "# Access the shape of the concatenated array and concatenated labels\n",
    "print(concatenated_array.shape)\n",
    "print(concatenated_labels.shape)"
   ]
  },
  {
   "cell_type": "markdown",
   "metadata": {
    "id": "T9V4aPTWwWH1"
   },
   "source": [
    "# **S13**"
   ]
  },
  {
   "cell_type": "code",
   "execution_count": 80,
   "metadata": {
    "id": "xuiVpB2awTNx"
   },
   "outputs": [
    {
     "name": "stdout",
     "output_type": "stream",
     "text": [
      "         c_ax    c_ay    c_az     c_ecg     c_emg     c_eda     c_temp  \\\n",
      "61534  0.8978 -0.0228  0.0586 -0.206268 -0.003983  2.383423  32.814331   \n",
      "61535  0.9018 -0.0222  0.0564 -0.237213  0.040970  2.416992  32.830811   \n",
      "61536  0.9042 -0.0226  0.0568 -0.269028  0.076492  2.375793  32.794861   \n",
      "61537  0.9078 -0.0246  0.0606 -0.287247  0.037903  2.373123  32.832306   \n",
      "61538  0.9106 -0.0298  0.0570 -0.296310  0.020004  2.376175  32.806824   \n",
      "\n",
      "         c_resp  w_label  \n",
      "61534  0.721741        1  \n",
      "61535  0.750732        1  \n",
      "61536  0.776672        1  \n",
      "61537  0.762939        1  \n",
      "61538  0.787354        1  \n",
      "\n",
      "Shape:\n",
      "(1558201, 9)\n",
      "\n",
      "dtypes:\n",
      "c_ax       float64\n",
      "c_ay       float64\n",
      "c_az       float64\n",
      "c_ecg      float64\n",
      "c_emg      float64\n",
      "c_eda      float64\n",
      "c_temp     float64\n",
      "c_resp     float64\n",
      "w_label      int32\n",
      "dtype: object\n",
      "\n",
      "Value Counts:\n",
      "1    826001\n",
      "2    464800\n",
      "3    267400\n",
      "Name: w_label, dtype: int64\n",
      "\n",
      "          c_ecg     c_emg     c_eda     c_temp    c_resp  w_label\n",
      "61534 -0.206268 -0.003983  2.383423  32.814331  0.721741        1\n",
      "61535 -0.237213  0.040970  2.416992  32.830811  0.750732        1\n",
      "61536 -0.269028  0.076492  2.375793  32.794861  0.776672        1\n",
      "61537 -0.287247  0.037903  2.373123  32.832306  0.762939        1\n",
      "61538 -0.296310  0.020004  2.376175  32.806824  0.787354        1\n"
     ]
    }
   ],
   "source": [
    "s13_path = \"\\S13\\S13.pkl\"\n",
    "s13 = load_data(s13_path)\n",
    "print(s13.head())\n",
    "print()\n",
    "print('Shape:')\n",
    "print(s13.shape)\n",
    "print()\n",
    "print('dtypes:')\n",
    "print(s13.dtypes)\n",
    "print()\n",
    "print('Value Counts:')\n",
    "print(s13['w_label'].value_counts())\n",
    "print()\n",
    "s13_final = s13.drop(['c_ax','c_ay','c_az'] , axis = 1)\n",
    "print(s13_final.head())"
   ]
  },
  {
   "cell_type": "code",
   "execution_count": 81,
   "metadata": {
    "id": "Tqo6hrNzwirm"
   },
   "outputs": [
    {
     "name": "stdout",
     "output_type": "stream",
     "text": [
      "Baseline:\n",
      "(826001, 6)\n",
      "(826001, 5)\n",
      "\n",
      "Stress:\n",
      "(464800, 6)\n",
      "(464800, 5)\n",
      "\n",
      "Amusement:\n",
      "(267400, 6)\n",
      "(267400, 5)\n"
     ]
    }
   ],
   "source": [
    "print('Baseline:')\n",
    "s13_base = s13_final.loc[s13_final['w_label'].isin([1])]\n",
    "print(s13_base.shape)\n",
    "s13_basex = s13_base.drop('w_label' ,axis = 1)\n",
    "print(s13_basex.shape)\n",
    "print()\n",
    "print('Stress:')\n",
    "s13_stress = s13_final.loc[s13_final['w_label'].isin([2])]\n",
    "print(s13_stress.shape)\n",
    "s13_stressx = s13_stress.drop('w_label',axis = 1)\n",
    "print(s13_stressx.shape)\n",
    "print()\n",
    "print('Amusement:')\n",
    "s13_amuse = s13_final.loc[s13_final['w_label'].isin([3])]\n",
    "print(s13_amuse.shape)\n",
    "s13_amusex = s13_amuse.drop('w_label',axis =1)\n",
    "print(s13_amusex.shape)"
   ]
  },
  {
   "cell_type": "code",
   "execution_count": 82,
   "metadata": {
    "id": "KnYc0CRIwodS"
   },
   "outputs": [
    {
     "name": "stdout",
     "output_type": "stream",
     "text": [
      "Creating windows:\n",
      "\n",
      "Baseline:\n",
      "588\n",
      "588\n",
      "(588, 5, 3500)\n",
      "(588,)\n",
      "\n",
      "Stress:\n",
      "330\n",
      "330\n",
      "(330, 5, 3500)\n",
      "(330,)\n",
      "\n",
      "Amusement:\n",
      "189\n",
      "189\n",
      "(189, 5, 3500)\n",
      "(189,)\n"
     ]
    },
    {
     "name": "stderr",
     "output_type": "stream",
     "text": [
      "C:\\Users\\user\\AppData\\Local\\Temp/ipykernel_19452/3869773005.py:6: DeprecationWarning: `np.int` is a deprecated alias for the builtin `int`. To silence this warning, use `int` by itself. Doing this will not modify any behavior and is safe. When replacing `np.int`, you may wish to use e.g. `np.int64` or `np.int32` to specify the precision. If you wish to review your current use, check the release note link for additional information.\n",
      "Deprecated in NumPy 1.20; for more details and guidance: https://numpy.org/devdocs/release/1.20.0-notes.html#deprecations\n",
      "  y = np.full( shape= y_no, fill_value= category, dtype=np.int)\n"
     ]
    }
   ],
   "source": [
    "print('Creating windows:')\n",
    "print()\n",
    "print('Baseline:')\n",
    "s13_basexw, count = window(s13_basex , 3500 ,1400)\n",
    "print(count)\n",
    "print(len(s13_basexw))\n",
    "\n",
    "s13_basexwa , s13_basey  = data_ready(s13_basexw , count , 1)\n",
    "print(s13_basexwa.shape)\n",
    "print(s13_basey.shape)\n",
    "\n",
    "print()\n",
    "print('Stress:')\n",
    "s13_stressxw, count = window(s13_stressx , 3500 ,1400)\n",
    "print(count)\n",
    "print(len(s13_stressxw))\n",
    "s13_stressxwa , s13_stressy  = data_ready(s13_stressxw , count , 2)\n",
    "print(s13_stressxwa.shape)\n",
    "print(s13_stressy.shape)\n",
    "\n",
    "print()\n",
    "print('Amusement:')\n",
    "s13_amusexw, count = window(s13_amusex , 3500 ,1400)\n",
    "print(count)\n",
    "print(len(s13_amusexw))\n",
    "s13_amusexwa , s13_amusey  = data_ready(s13_amusexw , count , 3)\n",
    "print(s13_amusexwa.shape)\n",
    "print(s13_amusey.shape)"
   ]
  },
  {
   "cell_type": "markdown",
   "metadata": {
    "id": "XS6-zFF7xQay"
   },
   "source": [
    "## **S13_baseline**"
   ]
  },
  {
   "cell_type": "code",
   "execution_count": 83,
   "metadata": {
    "id": "T-vTPC6Iw7xa"
   },
   "outputs": [
    {
     "name": "stderr",
     "output_type": "stream",
     "text": [
      "C:\\Users\\user\\AppData\\Local\\Temp/ipykernel_19452/3137945625.py:25: MatplotlibDeprecationWarning: shading='flat' when X and Y have the same dimensions as C is deprecated since 3.3.  Either specify the corners of the quadrilaterals with X and Y, or pass shading='auto', 'nearest' or 'gouraud', or set rcParams['pcolor.shading'].  This will become an error two minor releases later.\n",
      "  ax.pcolormesh(t, f, Sxx_i, norm=colors.LogNorm(vmin=Sxx_i.min(), vmax=Sxx_i.max()), cmap='inferno')\n"
     ]
    }
   ],
   "source": [
    "# Load data\n",
    "data = np.array(s13_basexwa[:,0,:])\n",
    "# Specify the path to save the spectrogram images\n",
    "path = 'D:\\WESAD_code\\WESAD_final\\S13_baseline'\n",
    "# Generate spectrogram images and save them as .png files\n",
    "Sxx = generate_spectrograms(data, path)\n",
    "save_spectrograms_as_npy(path)"
   ]
  },
  {
   "cell_type": "markdown",
   "metadata": {
    "id": "TgFwrwU_zFUF"
   },
   "source": [
    "## **S13_stress**"
   ]
  },
  {
   "cell_type": "code",
   "execution_count": 84,
   "metadata": {
    "id": "bZ-ZCrl3ylYO"
   },
   "outputs": [
    {
     "name": "stderr",
     "output_type": "stream",
     "text": [
      "C:\\Users\\user\\AppData\\Local\\Temp/ipykernel_19452/3137945625.py:25: MatplotlibDeprecationWarning: shading='flat' when X and Y have the same dimensions as C is deprecated since 3.3.  Either specify the corners of the quadrilaterals with X and Y, or pass shading='auto', 'nearest' or 'gouraud', or set rcParams['pcolor.shading'].  This will become an error two minor releases later.\n",
      "  ax.pcolormesh(t, f, Sxx_i, norm=colors.LogNorm(vmin=Sxx_i.min(), vmax=Sxx_i.max()), cmap='inferno')\n"
     ]
    }
   ],
   "source": [
    "# Load data\n",
    "data = np.array(s13_stressxwa[:,0,:])\n",
    "# Specify the path to save the spectrogram images\n",
    "path = 'D:\\WESAD_code\\WESAD_final\\S13_stress'\n",
    "# Generate spectrogram images and save them as .png files\n",
    "Sxx = generate_spectrograms(data, path)\n",
    "save_spectrograms_as_npy(path)"
   ]
  },
  {
   "cell_type": "markdown",
   "metadata": {
    "id": "wbGGyaHQzoJ8"
   },
   "source": [
    "## **S13_amusement**"
   ]
  },
  {
   "cell_type": "code",
   "execution_count": 85,
   "metadata": {
    "id": "82BOysgdznN6"
   },
   "outputs": [
    {
     "name": "stderr",
     "output_type": "stream",
     "text": [
      "C:\\Users\\user\\AppData\\Local\\Temp/ipykernel_19452/3137945625.py:25: MatplotlibDeprecationWarning: shading='flat' when X and Y have the same dimensions as C is deprecated since 3.3.  Either specify the corners of the quadrilaterals with X and Y, or pass shading='auto', 'nearest' or 'gouraud', or set rcParams['pcolor.shading'].  This will become an error two minor releases later.\n",
      "  ax.pcolormesh(t, f, Sxx_i, norm=colors.LogNorm(vmin=Sxx_i.min(), vmax=Sxx_i.max()), cmap='inferno')\n"
     ]
    }
   ],
   "source": [
    "# Load data\n",
    "data = np.array(s13_amusexwa[:,0,:])\n",
    "# Specify the path to save the spectrogram images\n",
    "path = 'D:\\WESAD_code\\WESAD_final\\S13_amuse'\n",
    "# Generate spectrogram images and save them as .png files\n",
    "Sxx = generate_spectrograms(data, path)\n",
    "save_spectrograms_as_npy(path)"
   ]
  },
  {
   "cell_type": "markdown",
   "metadata": {
    "id": "sx6vyASv3eOQ"
   },
   "source": [
    "**Labels_S13**"
   ]
  },
  {
   "cell_type": "code",
   "execution_count": 86,
   "metadata": {
    "id": "VpC_maB1hHBs"
   },
   "outputs": [
    {
     "name": "stdout",
     "output_type": "stream",
     "text": [
      "(1107, 224, 224, 3)\n",
      "(1107, 3)\n"
     ]
    }
   ],
   "source": [
    "# Provide the file paths for participant 1\n",
    "file_paths = [\n",
    "    'D:\\WESAD_code\\WESAD_final\\S13_baseline\\Sxx.npy',\n",
    "    'D:\\WESAD_code\\WESAD_final\\S13_stress\\Sxx.npy',\n",
    "    'D:\\WESAD_code\\WESAD_final\\S13_amuse\\Sxx.npy'\n",
    "]\n",
    "\n",
    "# Specify the path where you want to save the concatenated arrays and labels\n",
    "save_path = \"D:\\WESAD_code\\WESAD_final\\S13_data_label\"\n",
    "\n",
    "# Call the concatenate_and_label_arrays function\n",
    "concatenate_and_label_arrays(file_paths, save_path)\n",
    "\n",
    "concatenated_array = np.load(save_path + '/data.npy')\n",
    "concatenated_labels = np.load(save_path + '/labels.npy')\n",
    "\n",
    "# Access the shape of the concatenated array and concatenated labels\n",
    "print(concatenated_array.shape)\n",
    "print(concatenated_labels.shape)"
   ]
  },
  {
   "cell_type": "markdown",
   "metadata": {
    "id": "ZiZ4qzy613So"
   },
   "source": [
    "# **S14**"
   ]
  },
  {
   "cell_type": "code",
   "execution_count": 87,
   "metadata": {
    "id": "YKIjDttN1OJ6"
   },
   "outputs": [
    {
     "name": "stdout",
     "output_type": "stream",
     "text": [
      "         c_ax    c_ay    c_az     c_ecg     c_emg     c_eda     c_temp  \\\n",
      "18337  0.7342 -0.0674 -0.5618  1.499222 -0.011673  2.809906  32.851776   \n",
      "18338  0.7350 -0.0688 -0.5622  1.499222 -0.015060  2.825165  32.929749   \n",
      "18339  0.7330 -0.0662 -0.5638  1.499084 -0.002609  2.797699  32.845764   \n",
      "18340  0.7348 -0.0686 -0.5646  1.498947 -0.002106  2.817535  32.862244   \n",
      "18341  0.7354 -0.0696 -0.5642  1.499130 -0.009247  2.827072  32.866760   \n",
      "\n",
      "         c_resp  w_label  \n",
      "18337  2.146912        1  \n",
      "18338  1.878357        1  \n",
      "18339  2.174377        1  \n",
      "18340  2.165222        1  \n",
      "18341  2.195740        1  \n",
      "\n",
      "Shape:\n",
      "(1558901, 9)\n",
      "\n",
      "dtypes:\n",
      "c_ax       float64\n",
      "c_ay       float64\n",
      "c_az       float64\n",
      "c_ecg      float64\n",
      "c_emg      float64\n",
      "c_eda      float64\n",
      "c_temp     float64\n",
      "c_resp     float64\n",
      "w_label      int32\n",
      "dtype: object\n",
      "\n",
      "Value Counts:\n",
      "1    826000\n",
      "2    472500\n",
      "3    260401\n",
      "Name: w_label, dtype: int64\n",
      "\n",
      "          c_ecg     c_emg     c_eda     c_temp    c_resp  w_label\n",
      "18337  1.499222 -0.011673  2.809906  32.851776  2.146912        1\n",
      "18338  1.499222 -0.015060  2.825165  32.929749  1.878357        1\n",
      "18339  1.499084 -0.002609  2.797699  32.845764  2.174377        1\n",
      "18340  1.498947 -0.002106  2.817535  32.862244  2.165222        1\n",
      "18341  1.499130 -0.009247  2.827072  32.866760  2.195740        1\n"
     ]
    }
   ],
   "source": [
    "s14_path = \"\\S14\\S14.pkl\"\n",
    "s14 = load_data(s14_path)\n",
    "print(s14.head())\n",
    "print()\n",
    "print('Shape:')\n",
    "print(s14.shape)\n",
    "print()\n",
    "print('dtypes:')\n",
    "print(s14.dtypes)\n",
    "print()\n",
    "print('Value Counts:')\n",
    "print(s14['w_label'].value_counts())\n",
    "print()\n",
    "s14_final = s14.drop(['c_ax','c_ay','c_az'] , axis = 1)\n",
    "print(s14_final.head())"
   ]
  },
  {
   "cell_type": "code",
   "execution_count": 88,
   "metadata": {
    "id": "dFufysXY1_o7"
   },
   "outputs": [
    {
     "name": "stdout",
     "output_type": "stream",
     "text": [
      "Baseline:\n",
      "(826000, 6)\n",
      "(826000, 5)\n",
      "\n",
      "Stress:\n",
      "(472500, 6)\n",
      "(472500, 5)\n",
      "\n",
      "Amusement:\n",
      "(260401, 6)\n",
      "(260401, 5)\n"
     ]
    }
   ],
   "source": [
    "print('Baseline:')\n",
    "s14_base = s14_final.loc[s14_final['w_label'].isin([1])]\n",
    "print(s14_base.shape)\n",
    "s14_basex = s14_base.drop('w_label' ,axis = 1)\n",
    "print(s14_basex.shape)\n",
    "print()\n",
    "print('Stress:')\n",
    "s14_stress = s14_final.loc[s14_final['w_label'].isin([2])]\n",
    "print(s14_stress.shape)\n",
    "s14_stressx = s14_stress.drop('w_label',axis = 1)\n",
    "print(s14_stressx.shape)\n",
    "print()\n",
    "print('Amusement:')\n",
    "s14_amuse = s14_final.loc[s14_final['w_label'].isin([3])]\n",
    "print(s14_amuse.shape)\n",
    "s14_amusex = s14_amuse.drop('w_label',axis =1)\n",
    "print(s14_amusex.shape)"
   ]
  },
  {
   "cell_type": "code",
   "execution_count": 89,
   "metadata": {
    "id": "oFwrehPb2hCR"
   },
   "outputs": [
    {
     "name": "stdout",
     "output_type": "stream",
     "text": [
      "Creating windows:\n",
      "\n",
      "Baseline:\n",
      "588\n",
      "588\n",
      "(588, 5, 3500)\n",
      "(588,)\n",
      "\n",
      "Stress:\n",
      "336\n",
      "336\n",
      "(336, 5, 3500)\n",
      "(336,)\n",
      "\n",
      "Amusement:\n",
      "184\n",
      "184\n",
      "(184, 5, 3500)\n",
      "(184,)\n"
     ]
    },
    {
     "name": "stderr",
     "output_type": "stream",
     "text": [
      "C:\\Users\\user\\AppData\\Local\\Temp/ipykernel_19452/3869773005.py:6: DeprecationWarning: `np.int` is a deprecated alias for the builtin `int`. To silence this warning, use `int` by itself. Doing this will not modify any behavior and is safe. When replacing `np.int`, you may wish to use e.g. `np.int64` or `np.int32` to specify the precision. If you wish to review your current use, check the release note link for additional information.\n",
      "Deprecated in NumPy 1.20; for more details and guidance: https://numpy.org/devdocs/release/1.20.0-notes.html#deprecations\n",
      "  y = np.full( shape= y_no, fill_value= category, dtype=np.int)\n"
     ]
    }
   ],
   "source": [
    "print('Creating windows:')\n",
    "print()\n",
    "print('Baseline:')\n",
    "s14_basexw, count = window(s14_basex , 3500 ,1400)\n",
    "print(count)\n",
    "print(len(s14_basexw))\n",
    "\n",
    "s14_basexwa , s14_basey  = data_ready(s14_basexw , count , 1)\n",
    "print(s14_basexwa.shape)\n",
    "print(s14_basey.shape)\n",
    "\n",
    "print()\n",
    "print('Stress:')\n",
    "s14_stressxw, count = window(s14_stressx , 3500 ,1400)\n",
    "print(count)\n",
    "print(len(s14_stressxw))\n",
    "s14_stressxwa , s14_stressy  = data_ready(s14_stressxw , count , 2)\n",
    "print(s14_stressxwa.shape)\n",
    "print(s14_stressy.shape)\n",
    "\n",
    "print()\n",
    "print('Amusement:')\n",
    "s14_amusexw, count = window(s14_amusex , 3500 ,1400)\n",
    "print(count)\n",
    "print(len(s14_amusexw))\n",
    "s14_amusexwa , s14_amusey  = data_ready(s14_amusexw , count , 3)\n",
    "print(s14_amusexwa.shape)\n",
    "print(s14_amusey.shape)"
   ]
  },
  {
   "cell_type": "markdown",
   "metadata": {
    "id": "AFNX_joF2r73"
   },
   "source": [
    "## **S14_baseline**"
   ]
  },
  {
   "cell_type": "code",
   "execution_count": 90,
   "metadata": {
    "id": "tzYQnHxu2lzc"
   },
   "outputs": [
    {
     "name": "stderr",
     "output_type": "stream",
     "text": [
      "C:\\Users\\user\\AppData\\Local\\Temp/ipykernel_19452/3137945625.py:25: MatplotlibDeprecationWarning: shading='flat' when X and Y have the same dimensions as C is deprecated since 3.3.  Either specify the corners of the quadrilaterals with X and Y, or pass shading='auto', 'nearest' or 'gouraud', or set rcParams['pcolor.shading'].  This will become an error two minor releases later.\n",
      "  ax.pcolormesh(t, f, Sxx_i, norm=colors.LogNorm(vmin=Sxx_i.min(), vmax=Sxx_i.max()), cmap='inferno')\n"
     ]
    }
   ],
   "source": [
    "# Load data\n",
    "data = np.array(s14_basexwa[:,0,:])\n",
    "# Specify the path to save the spectrogram images\n",
    "path = 'D:\\WESAD_code\\WESAD_final\\S14_baseline'\n",
    "# Generate spectrogram images and save them as .png files\n",
    "Sxx = generate_spectrograms(data, path)\n",
    "save_spectrograms_as_npy(path)"
   ]
  },
  {
   "cell_type": "markdown",
   "metadata": {
    "id": "amSwmXzX28Rv"
   },
   "source": [
    "## **S14_stress**"
   ]
  },
  {
   "cell_type": "code",
   "execution_count": 91,
   "metadata": {
    "id": "bqBuR5cF26oG"
   },
   "outputs": [
    {
     "name": "stderr",
     "output_type": "stream",
     "text": [
      "C:\\Users\\user\\AppData\\Local\\Temp/ipykernel_19452/3137945625.py:25: MatplotlibDeprecationWarning: shading='flat' when X and Y have the same dimensions as C is deprecated since 3.3.  Either specify the corners of the quadrilaterals with X and Y, or pass shading='auto', 'nearest' or 'gouraud', or set rcParams['pcolor.shading'].  This will become an error two minor releases later.\n",
      "  ax.pcolormesh(t, f, Sxx_i, norm=colors.LogNorm(vmin=Sxx_i.min(), vmax=Sxx_i.max()), cmap='inferno')\n"
     ]
    }
   ],
   "source": [
    "# Load data\n",
    "data = np.array(s14_stressxwa[:,0,:])\n",
    "# Specify the path to save the spectrogram images\n",
    "path = 'D:\\WESAD_code\\WESAD_final\\S14_stress'\n",
    "# Generate spectrogram images and save them as .png files\n",
    "Sxx = generate_spectrograms(data, path)\n",
    "save_spectrograms_as_npy(path)"
   ]
  },
  {
   "cell_type": "markdown",
   "metadata": {
    "id": "earFHOIZ3Z_o"
   },
   "source": [
    "## **S14_amusement**"
   ]
  },
  {
   "cell_type": "code",
   "execution_count": 92,
   "metadata": {
    "id": "-xyau8iR3ZUW"
   },
   "outputs": [
    {
     "name": "stderr",
     "output_type": "stream",
     "text": [
      "C:\\Users\\user\\AppData\\Local\\Temp/ipykernel_19452/3137945625.py:25: MatplotlibDeprecationWarning: shading='flat' when X and Y have the same dimensions as C is deprecated since 3.3.  Either specify the corners of the quadrilaterals with X and Y, or pass shading='auto', 'nearest' or 'gouraud', or set rcParams['pcolor.shading'].  This will become an error two minor releases later.\n",
      "  ax.pcolormesh(t, f, Sxx_i, norm=colors.LogNorm(vmin=Sxx_i.min(), vmax=Sxx_i.max()), cmap='inferno')\n"
     ]
    }
   ],
   "source": [
    "# Load data\n",
    "data = np.array(s14_amusexwa[:,0,:])\n",
    "# Specify the path to save the spectrogram images\n",
    "path = 'D:\\WESAD_code\\WESAD_final\\S14_amuse'\n",
    "# Generate spectrogram images and save them as .png files\n",
    "Sxx = generate_spectrograms(data, path)\n",
    "save_spectrograms_as_npy(path)"
   ]
  },
  {
   "cell_type": "markdown",
   "metadata": {
    "id": "m2LKe7KmqkD4"
   },
   "source": [
    "**Labels_S14**"
   ]
  },
  {
   "cell_type": "code",
   "execution_count": 94,
   "metadata": {
    "id": "rJ310H5VqpCr"
   },
   "outputs": [
    {
     "name": "stdout",
     "output_type": "stream",
     "text": [
      "(1108, 224, 224, 3)\n",
      "(1108, 3)\n"
     ]
    }
   ],
   "source": [
    "# Provide the file paths for participant 1\n",
    "file_paths = [\n",
    "    'D:\\WESAD_code\\WESAD_final\\S14_baseline\\Sxx.npy',\n",
    "    'D:\\WESAD_code\\WESAD_final\\S14_stress\\Sxx.npy',\n",
    "    'D:\\WESAD_code\\WESAD_final\\S14_amuse\\Sxx.npy'\n",
    "]\n",
    "\n",
    "# Specify the path where you want to save the concatenated arrays and labels\n",
    "save_path = \"D:\\WESAD_code\\WESAD_final\\S14_data_label\"\n",
    "\n",
    "# Call the concatenate_and_label_arrays function\n",
    "concatenate_and_label_arrays(file_paths, save_path)\n",
    "\n",
    "concatenated_array = np.load(save_path + '/data.npy')\n",
    "concatenated_labels = np.load(save_path + '/labels.npy')\n",
    "\n",
    "# Access the shape of the concatenated array and concatenated labels\n",
    "print(concatenated_array.shape)\n",
    "print(concatenated_labels.shape)"
   ]
  },
  {
   "cell_type": "markdown",
   "metadata": {
    "id": "GajwVwlb5oPs"
   },
   "source": [
    "# **S15**"
   ]
  },
  {
   "cell_type": "code",
   "execution_count": 95,
   "metadata": {
    "id": "6P2OD3qZ4w_l"
   },
   "outputs": [
    {
     "name": "stdout",
     "output_type": "stream",
     "text": [
      "         c_ax    c_ay    c_az     c_ecg     c_emg     c_eda     c_temp  \\\n",
      "77161  0.9086  0.0728 -0.1022 -0.178162 -0.026321  1.413727  33.535339   \n",
      "77162  0.9110  0.0762 -0.1038 -0.180222 -0.026459  1.419830  33.535339   \n",
      "77163  0.9102  0.0738 -0.1030 -0.183334 -0.018860  1.416016  33.532318   \n",
      "77164  0.9090  0.0748 -0.1010 -0.187088 -0.015106  1.424026  33.536865   \n",
      "77165  0.9106  0.0744 -0.1014 -0.186768 -0.016159  1.426697  33.541412   \n",
      "\n",
      "         c_resp  w_label  \n",
      "77161 -2.075195        1  \n",
      "77162 -2.064514        1  \n",
      "77163 -2.098083        1  \n",
      "77164 -2.069092        1  \n",
      "77165 -2.067566        1  \n",
      "\n",
      "Shape:\n",
      "(1563100, 9)\n",
      "\n",
      "dtypes:\n",
      "c_ax       float64\n",
      "c_ay       float64\n",
      "c_az       float64\n",
      "c_ecg      float64\n",
      "c_emg      float64\n",
      "c_eda      float64\n",
      "c_temp     float64\n",
      "c_resp     float64\n",
      "w_label      int32\n",
      "dtype: object\n",
      "\n",
      "Value Counts:\n",
      "1    822500\n",
      "2    480200\n",
      "3    260400\n",
      "Name: w_label, dtype: int64\n",
      "\n",
      "          c_ecg     c_emg     c_eda     c_temp    c_resp  w_label\n",
      "77161 -0.178162 -0.026321  1.413727  33.535339 -2.075195        1\n",
      "77162 -0.180222 -0.026459  1.419830  33.535339 -2.064514        1\n",
      "77163 -0.183334 -0.018860  1.416016  33.532318 -2.098083        1\n",
      "77164 -0.187088 -0.015106  1.424026  33.536865 -2.069092        1\n",
      "77165 -0.186768 -0.016159  1.426697  33.541412 -2.067566        1\n"
     ]
    }
   ],
   "source": [
    "s15_path = \"\\S15\\S15.pkl\"\n",
    "s15 = load_data(s15_path)\n",
    "print(s15.head())\n",
    "print()\n",
    "print('Shape:')\n",
    "print(s15.shape)\n",
    "print()\n",
    "print('dtypes:')\n",
    "print(s15.dtypes)\n",
    "print()\n",
    "print('Value Counts:')\n",
    "print(s15['w_label'].value_counts())\n",
    "print()\n",
    "s15_final = s15.drop(['c_ax','c_ay','c_az'] , axis = 1)\n",
    "print(s15_final.head())"
   ]
  },
  {
   "cell_type": "code",
   "execution_count": 96,
   "metadata": {
    "id": "0Berv7vZ5lJq"
   },
   "outputs": [
    {
     "name": "stdout",
     "output_type": "stream",
     "text": [
      "Baseline:\n",
      "(822500, 6)\n",
      "(822500, 5)\n",
      "\n",
      "Stress:\n",
      "(480200, 6)\n",
      "(480200, 5)\n",
      "\n",
      "Amusement:\n",
      "(260400, 6)\n",
      "(260400, 5)\n"
     ]
    }
   ],
   "source": [
    "print('Baseline:')\n",
    "s15_base = s15_final.loc[s15_final['w_label'].isin([1])]\n",
    "print(s15_base.shape)\n",
    "s15_basex = s15_base.drop('w_label' ,axis = 1)\n",
    "print(s15_basex.shape)\n",
    "print()\n",
    "print('Stress:')\n",
    "s15_stress = s15_final.loc[s15_final['w_label'].isin([2])]\n",
    "print(s15_stress.shape)\n",
    "s15_stressx = s15_stress.drop('w_label',axis = 1)\n",
    "print(s15_stressx.shape)\n",
    "print()\n",
    "print('Amusement:')\n",
    "s15_amuse = s15_final.loc[s15_final['w_label'].isin([3])]\n",
    "print(s15_amuse.shape)\n",
    "s15_amusex = s15_amuse.drop('w_label',axis =1)\n",
    "print(s15_amusex.shape)"
   ]
  },
  {
   "cell_type": "code",
   "execution_count": 97,
   "metadata": {
    "id": "p4-DNYSo541F"
   },
   "outputs": [
    {
     "name": "stdout",
     "output_type": "stream",
     "text": [
      "Creating windows:\n",
      "\n",
      "Baseline:\n",
      "586\n",
      "586\n",
      "(586, 5, 3500)\n",
      "(586,)\n",
      "\n",
      "Stress:\n",
      "341\n",
      "341\n",
      "(341, 5, 3500)\n",
      "(341,)\n",
      "\n",
      "Amusement:\n",
      "184\n",
      "184\n",
      "(184, 5, 3500)\n",
      "(184,)\n"
     ]
    },
    {
     "name": "stderr",
     "output_type": "stream",
     "text": [
      "C:\\Users\\user\\AppData\\Local\\Temp/ipykernel_19452/3869773005.py:6: DeprecationWarning: `np.int` is a deprecated alias for the builtin `int`. To silence this warning, use `int` by itself. Doing this will not modify any behavior and is safe. When replacing `np.int`, you may wish to use e.g. `np.int64` or `np.int32` to specify the precision. If you wish to review your current use, check the release note link for additional information.\n",
      "Deprecated in NumPy 1.20; for more details and guidance: https://numpy.org/devdocs/release/1.20.0-notes.html#deprecations\n",
      "  y = np.full( shape= y_no, fill_value= category, dtype=np.int)\n"
     ]
    }
   ],
   "source": [
    "print('Creating windows:')\n",
    "print()\n",
    "print('Baseline:')\n",
    "s15_basexw, count = window(s15_basex , 3500 ,1400)\n",
    "print(count)\n",
    "print(len(s15_basexw))\n",
    "\n",
    "s15_basexwa , s15_basey  = data_ready(s15_basexw , count , 1)\n",
    "print(s15_basexwa.shape)\n",
    "print(s15_basey.shape)\n",
    "\n",
    "print()\n",
    "print('Stress:')\n",
    "s15_stressxw, count = window(s15_stressx , 3500 ,1400)\n",
    "print(count)\n",
    "print(len(s15_stressxw))\n",
    "s15_stressxwa , s15_stressy  = data_ready(s15_stressxw , count , 2)\n",
    "print(s15_stressxwa.shape)\n",
    "print(s15_stressy.shape)\n",
    "\n",
    "print()\n",
    "print('Amusement:')\n",
    "s15_amusexw, count = window(s15_amusex , 3500 ,1400)\n",
    "print(count)\n",
    "print(len(s15_amusexw))\n",
    "s15_amusexwa , s15_amusey  = data_ready(s15_amusexw , count , 3)\n",
    "print(s15_amusexwa.shape)\n",
    "print(s15_amusey.shape)"
   ]
  },
  {
   "cell_type": "markdown",
   "metadata": {
    "id": "J2SvxfvR6AFJ"
   },
   "source": [
    "## **S15_baseline**"
   ]
  },
  {
   "cell_type": "code",
   "execution_count": 98,
   "metadata": {
    "id": "ReiFzZbd5-Ck"
   },
   "outputs": [
    {
     "name": "stderr",
     "output_type": "stream",
     "text": [
      "C:\\Users\\user\\AppData\\Local\\Temp/ipykernel_19452/3137945625.py:25: MatplotlibDeprecationWarning: shading='flat' when X and Y have the same dimensions as C is deprecated since 3.3.  Either specify the corners of the quadrilaterals with X and Y, or pass shading='auto', 'nearest' or 'gouraud', or set rcParams['pcolor.shading'].  This will become an error two minor releases later.\n",
      "  ax.pcolormesh(t, f, Sxx_i, norm=colors.LogNorm(vmin=Sxx_i.min(), vmax=Sxx_i.max()), cmap='inferno')\n"
     ]
    }
   ],
   "source": [
    "# Load data\n",
    "data = np.array(s15_basexwa[:,0,:])\n",
    "# Specify the path to save the spectrogram images\n",
    "path = 'D:\\WESAD_code\\WESAD_final\\S15_baseline'\n",
    "# Generate spectrogram images and save them as .png files\n",
    "Sxx = generate_spectrograms(data, path)\n",
    "save_spectrograms_as_npy(path)"
   ]
  },
  {
   "cell_type": "markdown",
   "metadata": {
    "id": "pk2TOBWd6Qol"
   },
   "source": [
    "## **S15_stress**"
   ]
  },
  {
   "cell_type": "code",
   "execution_count": 99,
   "metadata": {
    "id": "DqYkJ8oG6MzG"
   },
   "outputs": [
    {
     "name": "stderr",
     "output_type": "stream",
     "text": [
      "C:\\Users\\user\\AppData\\Local\\Temp/ipykernel_19452/3137945625.py:25: MatplotlibDeprecationWarning: shading='flat' when X and Y have the same dimensions as C is deprecated since 3.3.  Either specify the corners of the quadrilaterals with X and Y, or pass shading='auto', 'nearest' or 'gouraud', or set rcParams['pcolor.shading'].  This will become an error two minor releases later.\n",
      "  ax.pcolormesh(t, f, Sxx_i, norm=colors.LogNorm(vmin=Sxx_i.min(), vmax=Sxx_i.max()), cmap='inferno')\n"
     ]
    }
   ],
   "source": [
    "# Load data\n",
    "data = np.array(s15_stressxwa[:,0,:])\n",
    "# Specify the path to save the spectrogram images\n",
    "path = 'D:\\WESAD_code\\WESAD_final\\S15_stress'\n",
    "# Generate spectrogram images and save them as .png files\n",
    "Sxx = generate_spectrograms(data, path)\n",
    "save_spectrograms_as_npy(path)"
   ]
  },
  {
   "cell_type": "markdown",
   "metadata": {
    "id": "iRFYD27I6ecD"
   },
   "source": [
    "## **S15_amusement**"
   ]
  },
  {
   "cell_type": "code",
   "execution_count": 100,
   "metadata": {
    "id": "7tdaJ-yI61Fz"
   },
   "outputs": [
    {
     "name": "stderr",
     "output_type": "stream",
     "text": [
      "C:\\Users\\user\\AppData\\Local\\Temp/ipykernel_19452/3137945625.py:25: MatplotlibDeprecationWarning: shading='flat' when X and Y have the same dimensions as C is deprecated since 3.3.  Either specify the corners of the quadrilaterals with X and Y, or pass shading='auto', 'nearest' or 'gouraud', or set rcParams['pcolor.shading'].  This will become an error two minor releases later.\n",
      "  ax.pcolormesh(t, f, Sxx_i, norm=colors.LogNorm(vmin=Sxx_i.min(), vmax=Sxx_i.max()), cmap='inferno')\n"
     ]
    }
   ],
   "source": [
    "# Load data\n",
    "data = np.array(s15_amusexwa[:,0,:])\n",
    "# Specify the path to save the spectrogram images\n",
    "path = 'D:\\WESAD_code\\WESAD_final\\S15_amuse'\n",
    "# Generate spectrogram images and save them as .png files\n",
    "Sxx = generate_spectrograms(data, path)\n",
    "save_spectrograms_as_npy(path)"
   ]
  },
  {
   "cell_type": "markdown",
   "metadata": {
    "id": "vVMSIyDu-eq0"
   },
   "source": [
    "**Labels_S15**"
   ]
  },
  {
   "cell_type": "code",
   "execution_count": 101,
   "metadata": {
    "id": "k7PrfjIk-hUk"
   },
   "outputs": [
    {
     "name": "stdout",
     "output_type": "stream",
     "text": [
      "(1111, 224, 224, 3)\n",
      "(1111, 3)\n"
     ]
    }
   ],
   "source": [
    "# Provide the file paths for participant 1\n",
    "file_paths = [\n",
    "    'D:\\WESAD_code\\WESAD_final\\S15_baseline\\Sxx.npy',\n",
    "    'D:\\WESAD_code\\WESAD_final\\S15_stress\\Sxx.npy',\n",
    "    'D:\\WESAD_code\\WESAD_final\\S15_amuse\\Sxx.npy'\n",
    "]\n",
    "\n",
    "# Specify the path where you want to save the concatenated arrays and labels\n",
    "save_path = \"D:\\WESAD_code\\WESAD_final\\S15_data_label\"\n",
    "\n",
    "# Call the concatenate_and_label_arrays function\n",
    "concatenate_and_label_arrays(file_paths, save_path)\n",
    "\n",
    "concatenated_array = np.load(save_path + '/data.npy')\n",
    "concatenated_labels = np.load(save_path + '/labels.npy')\n",
    "\n",
    "# Access the shape of the concatenated array and concatenated labels\n",
    "print(concatenated_array.shape)\n",
    "print(concatenated_labels.shape)"
   ]
  },
  {
   "cell_type": "markdown",
   "metadata": {
    "id": "I3k1MxoI8mDj"
   },
   "source": [
    "# **S16**"
   ]
  },
  {
   "cell_type": "code",
   "execution_count": 102,
   "metadata": {
    "id": "s5Hj8rtZ8kh2"
   },
   "outputs": [
    {
     "name": "stdout",
     "output_type": "stream",
     "text": [
      "         c_ax    c_ay    c_az     c_ecg     c_emg     c_eda     c_temp  \\\n",
      "68859  0.9022  0.0442 -0.0654  0.030533  0.016342  0.988770  33.376709   \n",
      "68860  0.9048  0.0438 -0.0648  0.044449 -0.008194  0.972366  33.363129   \n",
      "68861  0.9070  0.0418 -0.0626  0.050903 -0.026413  0.966263  33.376709   \n",
      "68862  0.9072  0.0390 -0.0594  0.051590  0.002747  1.010132  33.379761   \n",
      "68863  0.9054  0.0408 -0.0578  0.052917  0.003113  0.963593  33.331451   \n",
      "\n",
      "         c_resp  w_label  \n",
      "68859  6.391907        1  \n",
      "68860  6.391907        1  \n",
      "68861  6.404114        1  \n",
      "68862  6.398010        1  \n",
      "68863  6.410217        1  \n",
      "\n",
      "Shape:\n",
      "(1554701, 9)\n",
      "\n",
      "dtypes:\n",
      "c_ax       float64\n",
      "c_ay       float64\n",
      "c_az       float64\n",
      "c_ecg      float64\n",
      "c_emg      float64\n",
      "c_eda      float64\n",
      "c_temp     float64\n",
      "c_resp     float64\n",
      "w_label      int32\n",
      "dtype: object\n",
      "\n",
      "Value Counts:\n",
      "1    826000\n",
      "2    471101\n",
      "3    257600\n",
      "Name: w_label, dtype: int64\n",
      "\n",
      "          c_ecg     c_emg     c_eda     c_temp    c_resp  w_label\n",
      "68859  0.030533  0.016342  0.988770  33.376709  6.391907        1\n",
      "68860  0.044449 -0.008194  0.972366  33.363129  6.391907        1\n",
      "68861  0.050903 -0.026413  0.966263  33.376709  6.404114        1\n",
      "68862  0.051590  0.002747  1.010132  33.379761  6.398010        1\n",
      "68863  0.052917  0.003113  0.963593  33.331451  6.410217        1\n"
     ]
    }
   ],
   "source": [
    "s16_path = \"\\S16\\S16.pkl\"\n",
    "s16 = load_data(s16_path)\n",
    "print(s16.head())\n",
    "print()\n",
    "print('Shape:')\n",
    "print(s16.shape)\n",
    "print()\n",
    "print('dtypes:')\n",
    "print(s16.dtypes)\n",
    "print()\n",
    "print('Value Counts:')\n",
    "print(s16['w_label'].value_counts())\n",
    "print()\n",
    "s16_final = s16.drop(['c_ax','c_ay','c_az'] , axis = 1)\n",
    "print(s16_final.head())"
   ]
  },
  {
   "cell_type": "code",
   "execution_count": 103,
   "metadata": {
    "id": "vzi0iriU87uK"
   },
   "outputs": [
    {
     "name": "stdout",
     "output_type": "stream",
     "text": [
      "Baseline:\n",
      "(826000, 6)\n",
      "(826000, 5)\n",
      "\n",
      "Stress:\n",
      "(471101, 6)\n",
      "(471101, 5)\n",
      "\n",
      "Amusement:\n",
      "(257600, 6)\n",
      "(257600, 5)\n"
     ]
    }
   ],
   "source": [
    "print('Baseline:')\n",
    "s16_base = s16_final.loc[s16_final['w_label'].isin([1])]\n",
    "print(s16_base.shape)\n",
    "s16_basex = s16_base.drop('w_label' ,axis = 1)\n",
    "print(s16_basex.shape)\n",
    "print()\n",
    "print('Stress:')\n",
    "s16_stress = s16_final.loc[s16_final['w_label'].isin([2])]\n",
    "print(s16_stress.shape)\n",
    "s16_stressx = s16_stress.drop('w_label',axis = 1)\n",
    "print(s16_stressx.shape)\n",
    "print()\n",
    "print('Amusement:')\n",
    "s16_amuse = s16_final.loc[s16_final['w_label'].isin([3])]\n",
    "print(s16_amuse.shape)\n",
    "s16_amusex = s16_amuse.drop('w_label',axis =1)\n",
    "print(s16_amusex.shape)"
   ]
  },
  {
   "cell_type": "code",
   "execution_count": 104,
   "metadata": {
    "id": "6fvrFoAa9zJ7"
   },
   "outputs": [
    {
     "name": "stdout",
     "output_type": "stream",
     "text": [
      "Creating windows:\n",
      "\n",
      "Baseline:\n",
      "588\n",
      "588\n",
      "(588, 5, 3500)\n",
      "(588,)\n",
      "\n",
      "Stress:\n",
      "335\n",
      "335\n",
      "(335, 5, 3500)\n",
      "(335,)\n",
      "\n",
      "Amusement:\n",
      "182\n",
      "182\n",
      "(182, 5, 3500)\n",
      "(182,)\n"
     ]
    },
    {
     "name": "stderr",
     "output_type": "stream",
     "text": [
      "C:\\Users\\user\\AppData\\Local\\Temp/ipykernel_19452/3869773005.py:6: DeprecationWarning: `np.int` is a deprecated alias for the builtin `int`. To silence this warning, use `int` by itself. Doing this will not modify any behavior and is safe. When replacing `np.int`, you may wish to use e.g. `np.int64` or `np.int32` to specify the precision. If you wish to review your current use, check the release note link for additional information.\n",
      "Deprecated in NumPy 1.20; for more details and guidance: https://numpy.org/devdocs/release/1.20.0-notes.html#deprecations\n",
      "  y = np.full( shape= y_no, fill_value= category, dtype=np.int)\n"
     ]
    }
   ],
   "source": [
    "print('Creating windows:')\n",
    "print()\n",
    "print('Baseline:')\n",
    "s16_basexw, count = window(s16_basex , 3500 ,1400)\n",
    "print(count)\n",
    "print(len(s16_basexw))\n",
    "\n",
    "s16_basexwa , s16_basey  = data_ready(s16_basexw , count , 1)\n",
    "print(s16_basexwa.shape)\n",
    "print(s16_basey.shape)\n",
    "\n",
    "print()\n",
    "print('Stress:')\n",
    "s16_stressxw, count = window(s16_stressx , 3500 ,1400)\n",
    "print(count)\n",
    "print(len(s16_stressxw))\n",
    "s16_stressxwa , s16_stressy  = data_ready(s16_stressxw , count , 2)\n",
    "print(s16_stressxwa.shape)\n",
    "print(s16_stressy.shape)\n",
    "\n",
    "print()\n",
    "print('Amusement:')\n",
    "s16_amusexw, count = window(s16_amusex , 3500 ,1400)\n",
    "print(count)\n",
    "print(len(s16_amusexw))\n",
    "s16_amusexwa , s16_amusey  = data_ready(s16_amusexw , count , 3)\n",
    "print(s16_amusexwa.shape)\n",
    "print(s16_amusey.shape)"
   ]
  },
  {
   "cell_type": "markdown",
   "metadata": {
    "id": "4F3AWaWE-O1e"
   },
   "source": [
    "## **S16_baseline**"
   ]
  },
  {
   "cell_type": "code",
   "execution_count": 105,
   "metadata": {
    "id": "5i3MEljN9t8g"
   },
   "outputs": [
    {
     "name": "stderr",
     "output_type": "stream",
     "text": [
      "C:\\Users\\user\\AppData\\Local\\Temp/ipykernel_19452/3137945625.py:25: MatplotlibDeprecationWarning: shading='flat' when X and Y have the same dimensions as C is deprecated since 3.3.  Either specify the corners of the quadrilaterals with X and Y, or pass shading='auto', 'nearest' or 'gouraud', or set rcParams['pcolor.shading'].  This will become an error two minor releases later.\n",
      "  ax.pcolormesh(t, f, Sxx_i, norm=colors.LogNorm(vmin=Sxx_i.min(), vmax=Sxx_i.max()), cmap='inferno')\n"
     ]
    }
   ],
   "source": [
    "# Load data\n",
    "data = np.array(s16_basexwa[:,0,:])\n",
    "# Specify the path to save the spectrogram images\n",
    "path = 'D:\\WESAD_code\\WESAD_final\\S16_baseline'\n",
    "# Generate spectrogram images and save them as .png files\n",
    "Sxx = generate_spectrograms(data, path)\n",
    "save_spectrograms_as_npy(path)"
   ]
  },
  {
   "cell_type": "markdown",
   "metadata": {
    "id": "O7f5m-yP-7aH"
   },
   "source": [
    "## **S16_stress**"
   ]
  },
  {
   "cell_type": "code",
   "execution_count": 106,
   "metadata": {
    "id": "7Aj2rfB1-3sg"
   },
   "outputs": [
    {
     "name": "stderr",
     "output_type": "stream",
     "text": [
      "C:\\Users\\user\\AppData\\Local\\Temp/ipykernel_19452/3137945625.py:25: MatplotlibDeprecationWarning: shading='flat' when X and Y have the same dimensions as C is deprecated since 3.3.  Either specify the corners of the quadrilaterals with X and Y, or pass shading='auto', 'nearest' or 'gouraud', or set rcParams['pcolor.shading'].  This will become an error two minor releases later.\n",
      "  ax.pcolormesh(t, f, Sxx_i, norm=colors.LogNorm(vmin=Sxx_i.min(), vmax=Sxx_i.max()), cmap='inferno')\n"
     ]
    }
   ],
   "source": [
    "# Load data\n",
    "data = np.array(s16_stressxwa[:,0,:])\n",
    "# Specify the path to save the spectrogram images\n",
    "path = 'D:\\WESAD_code\\WESAD_final\\S16_stress'\n",
    "# Generate spectrogram images and save them as .png files\n",
    "Sxx = generate_spectrograms(data, path)\n",
    "save_spectrograms_as_npy(path)"
   ]
  },
  {
   "cell_type": "markdown",
   "metadata": {
    "id": "msEFkmo9_ZAO"
   },
   "source": [
    "## **S16_amusement**"
   ]
  },
  {
   "cell_type": "code",
   "execution_count": 107,
   "metadata": {
    "id": "VwnDBxV9_X5X"
   },
   "outputs": [
    {
     "name": "stderr",
     "output_type": "stream",
     "text": [
      "C:\\Users\\user\\AppData\\Local\\Temp/ipykernel_19452/3137945625.py:25: MatplotlibDeprecationWarning: shading='flat' when X and Y have the same dimensions as C is deprecated since 3.3.  Either specify the corners of the quadrilaterals with X and Y, or pass shading='auto', 'nearest' or 'gouraud', or set rcParams['pcolor.shading'].  This will become an error two minor releases later.\n",
      "  ax.pcolormesh(t, f, Sxx_i, norm=colors.LogNorm(vmin=Sxx_i.min(), vmax=Sxx_i.max()), cmap='inferno')\n"
     ]
    }
   ],
   "source": [
    "# Load data\n",
    "data = np.array(s16_amusexwa[:,0,:])\n",
    "# Specify the path to save the spectrogram images\n",
    "path = 'D:\\WESAD_code\\WESAD_final\\S16_amuse'\n",
    "# Generate spectrogram images and save them as .png files\n",
    "Sxx = generate_spectrograms(data, path)\n",
    "save_spectrograms_as_npy(path)"
   ]
  },
  {
   "cell_type": "markdown",
   "metadata": {
    "id": "3akRO8F4-yon"
   },
   "source": [
    "**Labels_S16**"
   ]
  },
  {
   "cell_type": "code",
   "execution_count": 108,
   "metadata": {
    "id": "ArYjf0YmBay7"
   },
   "outputs": [
    {
     "name": "stdout",
     "output_type": "stream",
     "text": [
      "(1105, 224, 224, 3)\n",
      "(1105, 3)\n"
     ]
    }
   ],
   "source": [
    "# Provide the file paths for participant 1\n",
    "file_paths = [\n",
    "    'D:\\WESAD_code\\WESAD_final\\S16_baseline\\Sxx.npy',\n",
    "    'D:\\WESAD_code\\WESAD_final\\S16_stress\\Sxx.npy',\n",
    "    'D:\\WESAD_code\\WESAD_final\\S16_amuse\\Sxx.npy'\n",
    "]\n",
    "\n",
    "# Specify the path where you want to save the concatenated arrays and labels\n",
    "save_path = \"D:\\WESAD_code\\WESAD_final\\S16_data_label\"\n",
    "\n",
    "# Call the concatenate_and_label_arrays function\n",
    "concatenate_and_label_arrays(file_paths, save_path)\n",
    "\n",
    "concatenated_array = np.load(save_path + '/data.npy')\n",
    "concatenated_labels = np.load(save_path + '/labels.npy')\n",
    "\n",
    "# Access the shape of the concatenated array and concatenated labels\n",
    "print(concatenated_array.shape)\n",
    "print(concatenated_labels.shape)"
   ]
  },
  {
   "cell_type": "markdown",
   "metadata": {},
   "source": [
    "# **S17**"
   ]
  },
  {
   "cell_type": "code",
   "execution_count": 115,
   "metadata": {},
   "outputs": [
    {
     "name": "stdout",
     "output_type": "stream",
     "text": [
      "         c_ax    c_ay    c_az     c_ecg     c_emg     c_eda     c_temp  \\\n",
      "64564  0.7838 -0.4066 -0.3706 -0.014648 -0.001968  5.543137  32.567444   \n",
      "64565  0.7842 -0.4040 -0.3678 -0.001236 -0.005539  5.542755  32.567444   \n",
      "64566  0.7864 -0.4056 -0.3688  0.007278  0.017761  5.556107  32.561493   \n",
      "64567  0.7876 -0.4078 -0.3682  0.009201  0.032181  5.558014  32.559998   \n",
      "64568  0.7870 -0.4066 -0.3726  0.007141 -0.011032  5.564117  32.558502   \n",
      "\n",
      "         c_resp  w_label  \n",
      "64564  2.757263        1  \n",
      "64565  2.742004        1  \n",
      "64566  2.603149        1  \n",
      "64567  2.749634        1  \n",
      "64568  2.760315        1  \n",
      "\n",
      "Shape:\n",
      "(1593200, 9)\n",
      "\n",
      "dtypes:\n",
      "c_ax       float64\n",
      "c_ay       float64\n",
      "c_az       float64\n",
      "c_ecg      float64\n",
      "c_emg      float64\n",
      "c_eda      float64\n",
      "c_temp     float64\n",
      "c_resp     float64\n",
      "w_label      int32\n",
      "dtype: object\n",
      "\n",
      "Value Counts:\n",
      "1    826700\n",
      "2    506100\n",
      "3    260400\n",
      "Name: w_label, dtype: int64\n",
      "\n",
      "          c_ecg     c_emg     c_eda     c_temp    c_resp  w_label\n",
      "64564 -0.014648 -0.001968  5.543137  32.567444  2.757263        1\n",
      "64565 -0.001236 -0.005539  5.542755  32.567444  2.742004        1\n",
      "64566  0.007278  0.017761  5.556107  32.561493  2.603149        1\n",
      "64567  0.009201  0.032181  5.558014  32.559998  2.749634        1\n",
      "64568  0.007141 -0.011032  5.564117  32.558502  2.760315        1\n"
     ]
    }
   ],
   "source": [
    "s17_path = \"\\S17\\S17.pkl\"\n",
    "s17 = load_data(s17_path)\n",
    "print(s17.head())\n",
    "print()\n",
    "print('Shape:')\n",
    "print(s17.shape)\n",
    "print()\n",
    "print('dtypes:')\n",
    "print(s17.dtypes)\n",
    "print()\n",
    "print('Value Counts:')\n",
    "print(s17['w_label'].value_counts())\n",
    "print()\n",
    "s17_final = s17.drop(['c_ax','c_ay','c_az'] , axis = 1)\n",
    "print(s17_final.head())"
   ]
  },
  {
   "cell_type": "code",
   "execution_count": 116,
   "metadata": {},
   "outputs": [
    {
     "name": "stdout",
     "output_type": "stream",
     "text": [
      "Baseline:\n",
      "(826700, 6)\n",
      "(826700, 5)\n",
      "\n",
      "Stress:\n",
      "(506100, 6)\n",
      "(506100, 5)\n",
      "\n",
      "Amusement:\n",
      "(260400, 6)\n",
      "(260400, 5)\n"
     ]
    }
   ],
   "source": [
    "print('Baseline:')\n",
    "s17_base = s17_final.loc[s17_final['w_label'].isin([1])]\n",
    "print(s17_base.shape)\n",
    "s17_basex = s17_base.drop('w_label' ,axis = 1)\n",
    "print(s17_basex.shape)\n",
    "print()\n",
    "print('Stress:')\n",
    "s17_stress = s17_final.loc[s17_final['w_label'].isin([2])]\n",
    "print(s17_stress.shape)\n",
    "s17_stressx = s17_stress.drop('w_label',axis = 1)\n",
    "print(s17_stressx.shape)\n",
    "print()\n",
    "print('Amusement:')\n",
    "s17_amuse = s17_final.loc[s17_final['w_label'].isin([3])]\n",
    "print(s17_amuse.shape)\n",
    "s17_amusex = s17_amuse.drop('w_label',axis =1)\n",
    "print(s17_amusex.shape)"
   ]
  },
  {
   "cell_type": "code",
   "execution_count": 117,
   "metadata": {},
   "outputs": [
    {
     "name": "stdout",
     "output_type": "stream",
     "text": [
      "Creating windows:\n",
      "\n",
      "Baseline:\n",
      "589\n",
      "589\n",
      "(589, 5, 3500)\n",
      "(589,)\n",
      "\n",
      "Stress:\n",
      "360\n",
      "360\n",
      "(360, 5, 3500)\n",
      "(360,)\n",
      "\n",
      "Amusement:\n",
      "184\n",
      "184\n",
      "(184, 5, 3500)\n",
      "(184,)\n"
     ]
    },
    {
     "name": "stderr",
     "output_type": "stream",
     "text": [
      "C:\\Users\\user\\AppData\\Local\\Temp/ipykernel_19452/3869773005.py:6: DeprecationWarning: `np.int` is a deprecated alias for the builtin `int`. To silence this warning, use `int` by itself. Doing this will not modify any behavior and is safe. When replacing `np.int`, you may wish to use e.g. `np.int64` or `np.int32` to specify the precision. If you wish to review your current use, check the release note link for additional information.\n",
      "Deprecated in NumPy 1.20; for more details and guidance: https://numpy.org/devdocs/release/1.20.0-notes.html#deprecations\n",
      "  y = np.full( shape= y_no, fill_value= category, dtype=np.int)\n"
     ]
    }
   ],
   "source": [
    "print('Creating windows:')\n",
    "print()\n",
    "print('Baseline:')\n",
    "s17_basexw, count = window(s17_basex , 3500 ,1400)\n",
    "print(count)\n",
    "print(len(s17_basexw))\n",
    "\n",
    "s17_basexwa , s17_basey  = data_ready(s17_basexw , count , 1)\n",
    "print(s17_basexwa.shape)\n",
    "print(s17_basey.shape)\n",
    "\n",
    "print()\n",
    "print('Stress:')\n",
    "s17_stressxw, count = window(s17_stressx , 3500 ,1400)\n",
    "print(count)\n",
    "print(len(s17_stressxw))\n",
    "s17_stressxwa , s17_stressy  = data_ready(s17_stressxw , count , 2)\n",
    "print(s17_stressxwa.shape)\n",
    "print(s17_stressy.shape)\n",
    "\n",
    "print()\n",
    "print('Amusement:')\n",
    "s17_amusexw, count = window(s17_amusex , 3500 ,1400)\n",
    "print(count)\n",
    "print(len(s17_amusexw))\n",
    "s17_amusexwa , s17_amusey  = data_ready(s17_amusexw , count , 3)\n",
    "print(s17_amusexwa.shape)\n",
    "print(s17_amusey.shape)"
   ]
  },
  {
   "cell_type": "markdown",
   "metadata": {},
   "source": [
    "### **S17_baseline**"
   ]
  },
  {
   "cell_type": "code",
   "execution_count": 118,
   "metadata": {},
   "outputs": [
    {
     "name": "stderr",
     "output_type": "stream",
     "text": [
      "C:\\Users\\user\\AppData\\Local\\Temp/ipykernel_19452/3137945625.py:25: MatplotlibDeprecationWarning: shading='flat' when X and Y have the same dimensions as C is deprecated since 3.3.  Either specify the corners of the quadrilaterals with X and Y, or pass shading='auto', 'nearest' or 'gouraud', or set rcParams['pcolor.shading'].  This will become an error two minor releases later.\n",
      "  ax.pcolormesh(t, f, Sxx_i, norm=colors.LogNorm(vmin=Sxx_i.min(), vmax=Sxx_i.max()), cmap='inferno')\n"
     ]
    }
   ],
   "source": [
    "# Load data\n",
    "data = np.array(s17_basexwa[:,0,:])\n",
    "# Specify the path to save the spectrogram images\n",
    "path = 'D:\\WESAD_code\\WESAD_final\\S17_baseline'\n",
    "# Generate spectrogram images and save them as .png files\n",
    "Sxx = generate_spectrograms(data, path)\n",
    "save_spectrograms_as_npy(path)"
   ]
  },
  {
   "cell_type": "markdown",
   "metadata": {},
   "source": [
    "### **S17_stress**"
   ]
  },
  {
   "cell_type": "code",
   "execution_count": 119,
   "metadata": {},
   "outputs": [
    {
     "name": "stderr",
     "output_type": "stream",
     "text": [
      "C:\\Users\\user\\AppData\\Local\\Temp/ipykernel_19452/3137945625.py:25: MatplotlibDeprecationWarning: shading='flat' when X and Y have the same dimensions as C is deprecated since 3.3.  Either specify the corners of the quadrilaterals with X and Y, or pass shading='auto', 'nearest' or 'gouraud', or set rcParams['pcolor.shading'].  This will become an error two minor releases later.\n",
      "  ax.pcolormesh(t, f, Sxx_i, norm=colors.LogNorm(vmin=Sxx_i.min(), vmax=Sxx_i.max()), cmap='inferno')\n"
     ]
    }
   ],
   "source": [
    "# Load data\n",
    "data = np.array(s17_stressxwa[:,0,:])\n",
    "# Specify the path to save the spectrogram images\n",
    "path = 'D:\\WESAD_code\\WESAD_final\\S17_stress'\n",
    "# Generate spectrogram images and save them as .png files\n",
    "Sxx = generate_spectrograms(data, path)\n",
    "save_spectrograms_as_npy(path)"
   ]
  },
  {
   "cell_type": "markdown",
   "metadata": {},
   "source": [
    "### **S17_amusement**"
   ]
  },
  {
   "cell_type": "code",
   "execution_count": 120,
   "metadata": {},
   "outputs": [
    {
     "name": "stderr",
     "output_type": "stream",
     "text": [
      "C:\\Users\\user\\AppData\\Local\\Temp/ipykernel_19452/3137945625.py:25: MatplotlibDeprecationWarning: shading='flat' when X and Y have the same dimensions as C is deprecated since 3.3.  Either specify the corners of the quadrilaterals with X and Y, or pass shading='auto', 'nearest' or 'gouraud', or set rcParams['pcolor.shading'].  This will become an error two minor releases later.\n",
      "  ax.pcolormesh(t, f, Sxx_i, norm=colors.LogNorm(vmin=Sxx_i.min(), vmax=Sxx_i.max()), cmap='inferno')\n"
     ]
    }
   ],
   "source": [
    "# Load data\n",
    "data = np.array(s17_amusexwa[:,0,:])\n",
    "# Specify the path to save the spectrogram images\n",
    "path = 'D:\\WESAD_code\\WESAD_final\\S17_amuse'\n",
    "# Generate spectrogram images and save them as .png files\n",
    "Sxx = generate_spectrograms(data, path)\n",
    "save_spectrograms_as_npy(path)"
   ]
  },
  {
   "cell_type": "markdown",
   "metadata": {},
   "source": [
    "### **Labels_s17**"
   ]
  },
  {
   "cell_type": "code",
   "execution_count": 121,
   "metadata": {},
   "outputs": [
    {
     "name": "stdout",
     "output_type": "stream",
     "text": [
      "(1133, 224, 224, 3)\n",
      "(1133, 3)\n"
     ]
    }
   ],
   "source": [
    "# Provide the file paths for participant 1\n",
    "file_paths = [\n",
    "    'D:\\WESAD_code\\WESAD_final\\S17_baseline\\Sxx.npy',\n",
    "    'D:\\WESAD_code\\WESAD_final\\S17_stress\\Sxx.npy',\n",
    "    'D:\\WESAD_code\\WESAD_final\\S17_amuse\\Sxx.npy'\n",
    "]\n",
    "\n",
    "# Specify the path where you want to save the concatenated arrays and labels\n",
    "save_path = \"D:\\WESAD_code\\WESAD_final\\S17_data_label\"\n",
    "\n",
    "# Call the concatenate_and_label_arrays function\n",
    "concatenate_and_label_arrays(file_paths, save_path)\n",
    "\n",
    "concatenated_array = np.load(save_path + '/data.npy')\n",
    "concatenated_labels = np.load(save_path + '/labels.npy')\n",
    "\n",
    "# Access the shape of the concatenated array and concatenated labels\n",
    "print(concatenated_array.shape)\n",
    "print(concatenated_labels.shape)"
   ]
  },
  {
   "cell_type": "markdown",
   "metadata": {
    "id": "dRj634YPjmBk"
   },
   "source": [
    "### **Concatenate data from all the subject arrays**"
   ]
  },
  {
   "cell_type": "code",
   "execution_count": 122,
   "metadata": {
    "id": "jZB4-_qDhhpT"
   },
   "outputs": [
    {
     "name": "stdout",
     "output_type": "stream",
     "text": [
      "(16492, 224, 224, 3)\n"
     ]
    }
   ],
   "source": [
    "#Concatenate data from all the subject arrays\n",
    "folder_paths = [\n",
    "    \"D:\\WESAD_code\\WESAD_final\\S2_data_label\", \n",
    "    \"D:\\WESAD_code\\WESAD_final\\S3_data_label\", \n",
    "    \"D:\\WESAD_code\\WESAD_final\\S4_data_label\", \n",
    "    \"D:\\WESAD_code\\WESAD_final\\S5_data_label\", \n",
    "    \"D:\\WESAD_code\\WESAD_final\\S6_data_label\", \n",
    "    \"D:\\WESAD_code\\WESAD_final\\S7_data_label\", \n",
    "    \"D:\\WESAD_code\\WESAD_final\\S8_data_label\", \n",
    "    \"D:\\WESAD_code\\WESAD_final\\S9_data_label\", \n",
    "    \"D:\\WESAD_code\\WESAD_final\\S10_data_label\", \n",
    "    \"D:\\WESAD_code\\WESAD_final\\S11_data_label\", \n",
    "    \"D:\\WESAD_code\\WESAD_final\\S13_data_label\", \n",
    "    \"D:\\WESAD_code\\WESAD_final\\S14_data_label\", \n",
    "    \"D:\\WESAD_code\\WESAD_final\\S15_data_label\", \n",
    "    \"D:\\WESAD_code\\WESAD_final\\S16_data_label\",\n",
    "    \"D:\\WESAD_code\\WESAD_final\\S17_data_label\"\n",
    "]\n",
    "\n",
    "arrays = []\n",
    "for folder_path in folder_paths:\n",
    "    file_path = os.path.join(folder_path, \"data.npy\")\n",
    "    array = np.load(file_path)\n",
    "    arrays.append(array)\n",
    "data_array = np.concatenate(arrays, axis=0)\n",
    "save_path = \"D:\\WESAD_code\\WESAD_final\\Subject_array\\data_array\"\n",
    "np.save(save_path, data_array)\n",
    "print(data_array.shape)"
   ]
  },
  {
   "cell_type": "markdown",
   "metadata": {
    "id": "R48f_mnPoz0x"
   },
   "source": [
    "### **Concatenate labels from all the subjects**"
   ]
  },
  {
   "cell_type": "code",
   "execution_count": 123,
   "metadata": {
    "id": "_3kg2WAhiiii"
   },
   "outputs": [
    {
     "name": "stdout",
     "output_type": "stream",
     "text": [
      "(16492, 3)\n"
     ]
    }
   ],
   "source": [
    "#Concatenate labels from all the subjects\n",
    "folder_paths = [\n",
    "    \"D:\\WESAD_code\\WESAD_final\\S2_data_label\", \n",
    "    \"D:\\WESAD_code\\WESAD_final\\S3_data_label\", \n",
    "    \"D:\\WESAD_code\\WESAD_final\\S4_data_label\", \n",
    "    \"D:\\WESAD_code\\WESAD_final\\S5_data_label\", \n",
    "    \"D:\\WESAD_code\\WESAD_final\\S6_data_label\", \n",
    "    \"D:\\WESAD_code\\WESAD_final\\S7_data_label\", \n",
    "    \"D:\\WESAD_code\\WESAD_final\\S8_data_label\", \n",
    "    \"D:\\WESAD_code\\WESAD_final\\S9_data_label\", \n",
    "    \"D:\\WESAD_code\\WESAD_final\\S10_data_label\", \n",
    "    \"D:\\WESAD_code\\WESAD_final\\S11_data_label\", \n",
    "    \"D:\\WESAD_code\\WESAD_final\\S13_data_label\", \n",
    "    \"D:\\WESAD_code\\WESAD_final\\S14_data_label\", \n",
    "    \"D:\\WESAD_code\\WESAD_final\\S15_data_label\", \n",
    "    \"D:\\WESAD_code\\WESAD_final\\S16_data_label\",\n",
    "    \"D:\\WESAD_code\\WESAD_final\\S17_data_label\"\n",
    "]\n",
    "\n",
    "arrays = []\n",
    "for folder_path in folder_paths:\n",
    "    file_path = os.path.join(folder_path, \"labels.npy\")\n",
    "    array = np.load(file_path)\n",
    "    arrays.append(array)\n",
    "label_array = np.concatenate(arrays, axis=0)\n",
    "save_path = \"D:\\WESAD_code\\WESAD_final\\Labels_array\\label_array\"\n",
    "np.save(save_path, label_array)\n",
    "print(label_array.shape)"
   ]
  },
  {
   "cell_type": "markdown",
   "metadata": {
    "id": "s3qbVrzWtZMt"
   },
   "source": [
    "### **Split the dataset**"
   ]
  },
  {
   "cell_type": "code",
   "execution_count": 124,
   "metadata": {
    "id": "jDCfe6q2TbWm"
   },
   "outputs": [
    {
     "name": "stdout",
     "output_type": "stream",
     "text": [
      "Training data shape: (13193, 224, 224, 3)\n",
      "Training labels shape: (13193, 3)\n",
      "Testing data shape: (3299, 224, 224, 3)\n",
      "Testing labels shape: (3299, 3)\n"
     ]
    }
   ],
   "source": [
    "import numpy as np\n",
    "from sklearn.model_selection import train_test_split\n",
    "\n",
    "# Assuming the dataset is stored in the variable `data` and the corresponding labels in `labels`\n",
    "\n",
    "# Splitting the dataset into 80% training and 20% testing\n",
    "X_train, X_test, y_train, y_test = train_test_split(data_array, label_array, test_size=0.2, random_state=42)\n",
    "\n",
    "# Checking the shape of each set\n",
    "print(\"Training data shape:\", X_train.shape)\n",
    "print(\"Training labels shape:\", y_train.shape)\n",
    "print(\"Testing data shape:\", X_test.shape)\n",
    "print(\"Testing labels shape:\", y_test.shape)"
   ]
  }
 ],
 "metadata": {
  "colab": {
   "provenance": []
  },
  "kernelspec": {
   "display_name": "Python 3 (ipykernel)",
   "language": "python",
   "name": "python3"
  },
  "language_info": {
   "codemirror_mode": {
    "name": "ipython",
    "version": 3
   },
   "file_extension": ".py",
   "mimetype": "text/x-python",
   "name": "python",
   "nbconvert_exporter": "python",
   "pygments_lexer": "ipython3",
   "version": "3.9.7"
  }
 },
 "nbformat": 4,
 "nbformat_minor": 1
}
